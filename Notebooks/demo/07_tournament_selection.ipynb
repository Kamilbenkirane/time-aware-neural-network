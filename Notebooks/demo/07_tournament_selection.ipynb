{
 "cells": [
  {
   "cell_type": "markdown",
   "metadata": {},
   "source": [
    "# Tournament Selection\n",
    "\n",
    "Demonstrates tournament selection for genetic algorithms. Shows how to select parents from a population based on fitness, with configurable selection pressure."
   ]
  },
  {
   "cell_type": "markdown",
   "metadata": {},
   "source": [
    "## 🔧 Configuration\n",
    "\n",
    "**Modify these parameters to experiment with different setups:**"
   ]
  },
  {
   "cell_type": "code",
   "metadata": {
    "ExecuteTime": {
     "end_time": "2025-06-17T10:03:50.800200Z",
     "start_time": "2025-06-17T10:03:50.798211Z"
    }
   },
   "source": [
    "# 🔧 CONFIGURATION - Modify these parameters\n",
    "POPULATION_SIZE = 100\n",
    "LAYER_SIZES = [1, 100, 200, 3]  # Input -> Hidden1 -> Hidden2 -> Output\n",
    "ACTIVATIONS = [1, 1, 2]         # [ReLU, ReLU, Sigmoid]\n",
    "TOURNAMENT_SIZE = 3             # Tournament size (2-7 typical)\n",
    "NUM_PARENTS = 50                # Number of parents to select\n",
    "RANDOM_SEED = 42                # For reproducibility\n",
    "\n",
    "# 📝 Tournament Size Effects:\n",
    "# Small (2-3): Lower selection pressure, more diversity\n",
    "# Medium (4-5): Balanced selection pressure\n",
    "# Large (6-7): High selection pressure, less diversity\n",
    "\n",
    "# 🎯 Selection Ratio:\n",
    "# 50%: Half population selected as parents\n",
    "# 25%: Quarter population (elitist)\n",
    "# 75%: Three quarters (diverse)\n",
    "\n",
    "print(f\"📊 Configuration:\")\n",
    "print(f\"   Population size: {POPULATION_SIZE}\")\n",
    "print(f\"   Architecture: {' -> '.join(map(str, LAYER_SIZES))}\")\n",
    "print(f\"   Tournament size: {TOURNAMENT_SIZE}\")\n",
    "print(f\"   Parents to select: {NUM_PARENTS} ({NUM_PARENTS/POPULATION_SIZE*100:.0f}%)\")\n",
    "print(f\"   Random seed: {RANDOM_SEED}\")"
   ],
   "outputs": [
    {
     "name": "stdout",
     "output_type": "stream",
     "text": [
      "📊 Configuration:\n",
      "   Population size: 100\n",
      "   Architecture: 1 -> 100 -> 200 -> 3\n",
      "   Tournament size: 3\n",
      "   Parents to select: 50 (50%)\n",
      "   Random seed: 42\n"
     ]
    }
   ],
   "execution_count": 1
  },
  {
   "cell_type": "code",
   "metadata": {
    "ExecuteTime": {
     "end_time": "2025-06-17T10:03:50.890182Z",
     "start_time": "2025-06-17T10:03:50.803439Z"
    }
   },
   "source": [
    "import numpy as np\n",
    "import plotly.graph_objects as go\n",
    "from plotly.subplots import make_subplots\n",
    "import time\n",
    "import sys\n",
    "sys.path.append('../../')\n",
    "import numba_ga\n",
    "\n",
    "# Import tournament selection\n",
    "from numba_ga import tournament_selection, initialize_population"
   ],
   "outputs": [],
   "execution_count": 2
  },
  {
   "cell_type": "markdown",
   "metadata": {},
   "source": [
    "## 1. Architecture Analysis"
   ]
  },
  {
   "cell_type": "code",
   "metadata": {
    "ExecuteTime": {
     "end_time": "2025-06-17T10:03:51.107988Z",
     "start_time": "2025-06-17T10:03:50.950755Z"
    }
   },
   "source": [
    "# Convert to numpy arrays for numba compatibility\n",
    "layer_sizes = np.array(LAYER_SIZES, dtype=np.int64)\n",
    "activations = np.array(ACTIVATIONS, dtype=np.int64)\n",
    "\n",
    "# Calculate architecture properties\n",
    "total_params = numba_ga.get_total_parameters(layer_sizes)\n",
    "activation_names = [numba_ga.get_activation_name(a) for a in activations]\n",
    "\n",
    "print(f\"🧠 Network Architecture Analysis:\")\n",
    "print(f\"   Layers: {len(layer_sizes)}\")\n",
    "print(f\"   Architecture: {' -> '.join(map(str, layer_sizes))}\")\n",
    "print(f\"   Activations: {' -> '.join(activation_names)}\")\n",
    "print(f\"   Total parameters: {total_params:,}\")\n",
    "print(f\"   Memory per individual: ~{total_params * 8 / 1024:.1f} KB\")\n",
    "print(f\"   Population memory: ~{total_params * 8 * POPULATION_SIZE / (1024*1024):.1f} MB\")\n",
    "\n",
    "print(f\"\\n🏆 Tournament Selection Setup:\")\n",
    "print(f\"   Tournament size: {TOURNAMENT_SIZE}\")\n",
    "print(f\"   Selection pressure: {'Low' if TOURNAMENT_SIZE <= 2 else 'Medium' if TOURNAMENT_SIZE <= 4 else 'High'}\")\n",
    "print(f\"   Parents selected: {NUM_PARENTS}/{POPULATION_SIZE} ({NUM_PARENTS/POPULATION_SIZE*100:.0f}%)\")\n",
    "print(f\"   Selection ratio: {'Elitist' if NUM_PARENTS/POPULATION_SIZE < 0.3 else 'Balanced' if NUM_PARENTS/POPULATION_SIZE < 0.7 else 'Diverse'}\")"
   ],
   "outputs": [
    {
     "name": "stdout",
     "output_type": "stream",
     "text": [
      "🧠 Network Architecture Analysis:\n",
      "   Layers: 4\n",
      "   Architecture: 1 -> 100 -> 200 -> 3\n",
      "   Activations: relu -> relu -> sigmoid\n",
      "   Total parameters: 21,306\n",
      "   Memory per individual: ~166.5 KB\n",
      "   Population memory: ~16.3 MB\n",
      "\n",
      "🏆 Tournament Selection Setup:\n",
      "   Tournament size: 3\n",
      "   Selection pressure: Medium\n",
      "   Parents selected: 50/100 (50%)\n",
      "   Selection ratio: Balanced\n"
     ]
    }
   ],
   "execution_count": 3
  },
  {
   "cell_type": "markdown",
   "metadata": {},
   "source": [
    "## 2. Population Initialization"
   ]
  },
  {
   "cell_type": "code",
   "metadata": {
    "ExecuteTime": {
     "end_time": "2025-06-17T10:03:51.182223Z",
     "start_time": "2025-06-17T10:03:51.114671Z"
    }
   },
   "source": [
    "print(f\"🧬 Initializing population of {POPULATION_SIZE} individuals...\")\n",
    "\n",
    "# Initialize population with configured parameters\n",
    "population = initialize_population(POPULATION_SIZE, layer_sizes, seed=RANDOM_SEED)\n",
    "\n",
    "print(f\"\\n👥 Population Properties:\")\n",
    "print(f\"   Shape: {population.shape}\")\n",
    "print(f\"   Memory usage: {population.nbytes / (1024*1024):.2f} MB\")\n",
    "print(f\"   Data type: {population.dtype}\")\n",
    "\n",
    "# Population diversity analysis\n",
    "all_weights = population.flatten()\n",
    "print(f\"\\n📊 Weight Distribution Across Population:\")\n",
    "print(f\"   Total weights: {len(all_weights):,}\")\n",
    "print(f\"   Mean: {np.mean(all_weights):.6f}\")\n",
    "print(f\"   Std: {np.std(all_weights):.6f}\")\n",
    "print(f\"   Range: {np.min(all_weights):.3f} to {np.max(all_weights):.3f}\")\n",
    "\n",
    "# Check population diversity (no identical individuals)\n",
    "unique_individuals = len(np.unique(population, axis=0))\n",
    "print(f\"\\n🎲 Population Diversity:\")\n",
    "print(f\"   Unique individuals: {unique_individuals}/{POPULATION_SIZE}\")\n",
    "print(f\"   Diversity: {'Perfect ✅' if unique_individuals == POPULATION_SIZE else 'Duplicates found ❌'}\")"
   ],
   "outputs": [
    {
     "name": "stdout",
     "output_type": "stream",
     "text": [
      "🧬 Initializing population of 100 individuals...\n",
      "\n",
      "👥 Population Properties:\n",
      "   Shape: (100, 21306)\n",
      "   Memory usage: 16.26 MB\n",
      "   Data type: float64\n",
      "\n",
      "📊 Weight Distribution Across Population:\n",
      "   Total weights: 2,130,600\n",
      "   Mean: -0.000278\n",
      "   Std: 0.300222\n",
      "   Range: -1.449 to 1.448\n",
      "\n",
      "🎲 Population Diversity:\n",
      "   Unique individuals: 100/100\n",
      "   Diversity: Perfect ✅\n"
     ]
    }
   ],
   "execution_count": 4
  },
  {
   "cell_type": "markdown",
   "metadata": {},
   "source": [
    "## 3. Fitness Score Generation"
   ]
  },
  {
   "cell_type": "code",
   "metadata": {
    "ExecuteTime": {
     "end_time": "2025-06-17T10:03:51.192565Z",
     "start_time": "2025-06-17T10:03:51.189188Z"
    }
   },
   "source": [
    "# Generate realistic fitness scores for demonstration\n",
    "# We'll create a mix of patterns to show selection behavior\n",
    "\n",
    "np.random.seed(RANDOM_SEED)\n",
    "\n",
    "# Create hierarchical fitness with some noise\n",
    "base_fitness = np.linspace(0.8, 1.3, POPULATION_SIZE)  # Linear progression\n",
    "noise = np.random.normal(0, 0.05, POPULATION_SIZE)     # Add realistic noise\n",
    "fitness_scores = base_fitness + noise\n",
    "\n",
    "# Ensure all fitness scores are positive\n",
    "fitness_scores = np.maximum(fitness_scores, 0.1)\n",
    "\n",
    "print(f\"💰 Fitness Score Analysis:\")\n",
    "print(f\"   Fitness range: {np.min(fitness_scores):.3f} to {np.max(fitness_scores):.3f}\")\n",
    "print(f\"   Mean fitness: {np.mean(fitness_scores):.3f}\")\n",
    "print(f\"   Std deviation: {np.std(fitness_scores):.3f}\")\n",
    "\n",
    "# Convert to returns for easier interpretation\n",
    "returns = (fitness_scores - 1.0) * 100\n",
    "print(f\"\\n📈 Return Analysis:\")\n",
    "print(f\"   Best return: {np.max(returns):.2f}%\")\n",
    "print(f\"   Worst return: {np.min(returns):.2f}%\")\n",
    "print(f\"   Mean return: {np.mean(returns):.2f}%\")\n",
    "print(f\"   Profitable individuals: {np.sum(returns > 0)}/{POPULATION_SIZE} ({np.sum(returns > 0)/POPULATION_SIZE*100:.1f}%)\")"
   ],
   "outputs": [
    {
     "name": "stdout",
     "output_type": "stream",
     "text": [
      "💰 Fitness Score Analysis:\n",
      "   Fitness range: 0.770 to 1.308\n",
      "   Mean fitness: 1.045\n",
      "   Std deviation: 0.155\n",
      "\n",
      "📈 Return Analysis:\n",
      "   Best return: 30.80%\n",
      "   Worst return: -23.00%\n",
      "   Mean return: 4.48%\n",
      "   Profitable individuals: 60/100 (60.0%)\n"
     ]
    }
   ],
   "execution_count": 5
  },
  {
   "cell_type": "markdown",
   "metadata": {},
   "source": [
    "## 4. Tournament Selection Execution"
   ]
  },
  {
   "cell_type": "code",
   "metadata": {
    "ExecuteTime": {
     "end_time": "2025-06-17T10:03:51.208172Z",
     "start_time": "2025-06-17T10:03:51.201928Z"
    }
   },
   "source": [
    "print(f\"🏆 Running tournament selection...\")\n",
    "print(f\"   Tournament size: {TOURNAMENT_SIZE}\")\n",
    "print(f\"   Selecting {NUM_PARENTS} parents from {POPULATION_SIZE} individuals\")\n",
    "\n",
    "# Warm up JIT compilation\n",
    "print(f\"\\n⚡ Warming up JIT compilation...\")\n",
    "_ = tournament_selection(population[:5], fitness_scores[:5], TOURNAMENT_SIZE, 2, seed=RANDOM_SEED)\n",
    "print(f\"   JIT compilation complete ✅\")\n",
    "\n",
    "# Run tournament selection with timing\n",
    "print(f\"\\n📊 Running tournament selection...\")\n",
    "start_time = time.time()\n",
    "\n",
    "selected_parents, selected_indices = tournament_selection(\n",
    "    population, fitness_scores, TOURNAMENT_SIZE, NUM_PARENTS, seed=RANDOM_SEED\n",
    ")\n",
    "\n",
    "selection_time = time.time() - start_time\n",
    "\n",
    "print(f\"\\n⏱️ Performance Results:\")\n",
    "print(f\"   Selection time: {selection_time:.6f} seconds\")\n",
    "print(f\"   Parents per second: {NUM_PARENTS / selection_time:.0f}\")\n",
    "print(f\"   Time per parent: {selection_time / NUM_PARENTS * 1000:.3f} ms\")\n",
    "\n",
    "print(f\"\\n🎯 Selection Results:\")\n",
    "print(f\"   Selected parents shape: {selected_parents.shape}\")\n",
    "print(f\"   Selected indices shape: {selected_indices.shape}\")\n",
    "print(f\"   Selected indices range: {np.min(selected_indices)} to {np.max(selected_indices)}\")\n",
    "print(f\"   Unique parents selected: {len(np.unique(selected_indices))}\")\n",
    "\n",
    "# Analyze selection bias\n",
    "selected_fitness = fitness_scores[selected_indices]\n",
    "print(f\"\\n📊 Selection Quality:\")\n",
    "print(f\"   Population mean fitness: {np.mean(fitness_scores):.3f}\")\n",
    "print(f\"   Selected mean fitness: {np.mean(selected_fitness):.3f}\")\n",
    "print(f\"   Selection bias: {((np.mean(selected_fitness) / np.mean(fitness_scores)) - 1) * 100:.1f}%\")\n",
    "print(f\"   Best individual selected: {'✅' if np.argmax(fitness_scores) in selected_indices else '❌'}\")"
   ],
   "outputs": [
    {
     "name": "stdout",
     "output_type": "stream",
     "text": [
      "🏆 Running tournament selection...\n",
      "   Tournament size: 3\n",
      "   Selecting 50 parents from 100 individuals\n",
      "\n",
      "⚡ Warming up JIT compilation...\n",
      "   JIT compilation complete ✅\n",
      "\n",
      "📊 Running tournament selection...\n",
      "\n",
      "⏱️ Performance Results:\n",
      "   Selection time: 0.000708 seconds\n",
      "   Parents per second: 70611\n",
      "   Time per parent: 0.014 ms\n",
      "\n",
      "🎯 Selection Results:\n",
      "   Selected parents shape: (50, 21306)\n",
      "   Selected indices shape: (50,)\n",
      "   Selected indices range: 21 to 99\n",
      "   Unique parents selected: 33\n",
      "\n",
      "📊 Selection Quality:\n",
      "   Population mean fitness: 1.045\n",
      "   Selected mean fitness: 1.189\n",
      "   Selection bias: 13.8%\n",
      "   Best individual selected: ✅\n"
     ]
    }
   ],
   "execution_count": 6
  },
  {
   "cell_type": "markdown",
   "metadata": {},
   "source": [
    "## 5. Selection Analysis & Visualization"
   ]
  },
  {
   "cell_type": "code",
   "metadata": {
    "ExecuteTime": {
     "end_time": "2025-06-17T10:03:51.310022Z",
     "start_time": "2025-06-17T10:03:51.223046Z"
    }
   },
   "source": [
    "# Create comprehensive selection analysis visualization\n",
    "fig = make_subplots(\n",
    "    rows=2, cols=2,\n",
    "    subplot_titles=[\n",
    "        'Population Fitness Distribution',\n",
    "        'Selection Frequency by Individual',\n",
    "        'Selected vs Population Fitness',\n",
    "        'Selection Bias Analysis'\n",
    "    ],\n",
    "    vertical_spacing=0.12,\n",
    "    horizontal_spacing=0.1\n",
    ")\n",
    "\n",
    "# 1. Population fitness histogram\n",
    "fig.add_trace(\n",
    "    go.Histogram(\n",
    "        x=fitness_scores,\n",
    "        nbinsx=20,\n",
    "        name='Population Fitness',\n",
    "        marker_color='lightblue',\n",
    "        opacity=0.7\n",
    "    ),\n",
    "    row=1, col=1\n",
    ")\n",
    "\n",
    "fig.add_trace(\n",
    "    go.Histogram(\n",
    "        x=selected_fitness,\n",
    "        nbinsx=20,\n",
    "        name='Selected Fitness',\n",
    "        marker_color='orange',\n",
    "        opacity=0.7\n",
    "    ),\n",
    "    row=1, col=1\n",
    ")\n",
    "\n",
    "# 2. Selection frequency\n",
    "selection_counts = np.bincount(selected_indices, minlength=POPULATION_SIZE)\n",
    "individual_ids = np.arange(POPULATION_SIZE)\n",
    "\n",
    "fig.add_trace(\n",
    "    go.Bar(\n",
    "        x=individual_ids,\n",
    "        y=selection_counts,\n",
    "        name='Selection Count',\n",
    "        marker_color=fitness_scores,\n",
    "        marker_colorscale='RdYlGn',\n",
    "        marker_showscale=False\n",
    "    ),\n",
    "    row=1, col=2\n",
    ")\n",
    "\n",
    "# 3. Scatter plot: selected vs population\n",
    "colors = ['red' if i in selected_indices else 'lightgray' for i in range(POPULATION_SIZE)]\n",
    "sizes = [8 if i in selected_indices else 4 for i in range(POPULATION_SIZE)]\n",
    "\n",
    "fig.add_trace(\n",
    "    go.Scatter(\n",
    "        x=individual_ids,\n",
    "        y=fitness_scores,\n",
    "        mode='markers',\n",
    "        name='Population',\n",
    "        marker=dict(color=colors, size=sizes),\n",
    "        showlegend=False\n",
    "    ),\n",
    "    row=2, col=1\n",
    ")\n",
    "\n",
    "# Add mean lines\n",
    "fig.add_hline(y=np.mean(fitness_scores), line_dash=\"dash\", line_color=\"blue\", \n",
    "              annotation_text=\"Population Mean\", row=2, col=1)\n",
    "fig.add_hline(y=np.mean(selected_fitness), line_dash=\"dash\", line_color=\"orange\", \n",
    "              annotation_text=\"Selected Mean\", row=2, col=1)\n",
    "\n",
    "# 4. Selection bias by fitness quartiles\n",
    "quartiles = np.percentile(fitness_scores, [25, 50, 75, 100])\n",
    "quartile_labels = ['Bottom 25%', '25-50%', '50-75%', 'Top 25%']\n",
    "quartile_counts = []\n",
    "\n",
    "for i in range(4):\n",
    "    if i == 0:\n",
    "        mask = fitness_scores <= quartiles[0]\n",
    "    elif i == 3:\n",
    "        mask = fitness_scores > quartiles[2]\n",
    "    else:\n",
    "        mask = (fitness_scores > quartiles[i-1]) & (fitness_scores <= quartiles[i])\n",
    "    \n",
    "    quartile_individuals = np.where(mask)[0]\n",
    "    selected_from_quartile = np.sum(np.isin(selected_indices, quartile_individuals))\n",
    "    quartile_counts.append(selected_from_quartile)\n",
    "\n",
    "fig.add_trace(\n",
    "    go.Bar(\n",
    "        x=quartile_labels,\n",
    "        y=quartile_counts,\n",
    "        name='Selections by Quartile',\n",
    "        marker_color=['red', 'orange', 'yellow', 'green']\n",
    "    ),\n",
    "    row=2, col=2\n",
    ")\n",
    "\n",
    "# Update layout\n",
    "fig.update_xaxes(title_text=\"Fitness Score\", row=1, col=1)\n",
    "fig.update_xaxes(title_text=\"Individual ID\", row=1, col=2)\n",
    "fig.update_xaxes(title_text=\"Individual ID\", row=2, col=1)\n",
    "fig.update_xaxes(title_text=\"Fitness Quartile\", row=2, col=2)\n",
    "\n",
    "fig.update_yaxes(title_text=\"Count\", row=1, col=1)\n",
    "fig.update_yaxes(title_text=\"Times Selected\", row=1, col=2)\n",
    "fig.update_yaxes(title_text=\"Fitness Score\", row=2, col=1)\n",
    "fig.update_yaxes(title_text=\"Selections\", row=2, col=2)\n",
    "\n",
    "fig.update_layout(\n",
    "    title=f\"Tournament Selection Analysis - Size {TOURNAMENT_SIZE}, {NUM_PARENTS}/{POPULATION_SIZE} Parents\",\n",
    "    height=800,\n",
    "    width=1000,\n",
    "    showlegend=True\n",
    ")\n",
    "\n",
    "fig.show()\n",
    "\n",
    "# Print quartile analysis\n",
    "print(f\"\\n📊 Selection by Fitness Quartiles:\")\n",
    "for i, (label, count) in enumerate(zip(quartile_labels, quartile_counts)):\n",
    "    percentage = count / NUM_PARENTS * 100\n",
    "    print(f\"   {label}: {count}/{NUM_PARENTS} ({percentage:.1f}%)\")"
   ],
   "outputs": [
    {
     "data": {
      "application/vnd.plotly.v1+json": {
       "data": [
        {
         "marker": {
          "color": "lightblue"
         },
         "name": "Population Fitness",
         "nbinsx": 20,
         "opacity": 0.7,
         "x": {
          "dtype": "f8",
          "bdata": "atSd2g1l6j+ieMc2V4rpP+mC6QSk9eo/GhvC4o2F7D+BfdGLL9/pP704yPGQCOo/xh9XILAY7T93xIOzjvXrPwCIiA5LJOo/IbokPDLs6z93CSiAhXnqP0AjgL3yoeo/dYvmTTHt6z92yGNsx6PoP4ZcpFROGuk/z9V0oeQf6z/Gz0ZjuZDqP8XAflOr2ew/tuJ3jmYO6z87E5euOGnqPzpvNoxnLe8/Fkt8c/ih7D8H7phVe0PtP9nAgH2eCes/LMQrLZeb7D9qEYKYYNHtP1y2lcXe9es/gzNOqpOQ7j/f1psECyrtP0oNc+v10e0/9+RKZFp87T+xRCuDcMnwPyMmUPgHwO4/g1ph57E97T+SXgVZnDTwP4T6P42fTe0/WKog5prA7z89s5xVv3HsP4NUberGne0/HlUBsucb8D/Y8YFAg5/wP72tnM4OQPA/pNEhtvYZ8D+LfVZYqwjwP/v4PRxxWO4/XnUh65G47z9mb66gDibwP3SUk9qUcfE/TB55iST08D8fKyuaxbLuP3q6hA2EGfE/VcLcJ/ec8D+kABMw4nXwP776KrB5kvE/zk33Iwr98T/Rl2rPTf3xP1S58ZRkp/A/4sg99J8o8T9Q8KIre8DxP+dHzewdWfI/X7CfkuBD8T8cImYQrZTxPzxr9/bO7PA/ZWq58Bbv8D8v9dw1Kp/yP3xmCFU0I/M/BWakumIT8j9O+0//VwTzP69J8/ORlfI/T608yxLc8T8LsFgG5b7yPxQrnryOxPM/xwPv2OqW8j8gsC1kYfPzP2D7j78ar/A/4nlyCqSE8z/0Zl5K1ALzPy96TMJzyPI/vW7xGSst8z8C7uAtApjxP1Jeu7zCFvM/En1TsZKh8z90mT7Cy5v0P1c/qRmrF/M/vDD13+rw8j+SFv6KbETzP3Ms51VYe/Q/54f8w+IX9D+0UtHiv3zzP9QGaWkMZ/Q/aZf56X8m9D8h1cb8ru30PynuSyE2rPM/Sdcn1pIN9D9m0x/ZDxX0P5z1Kx1TTvM/w14AhGLL9D+FUhnw49j0P0S30w0pufQ/thKYrcGc9D8="
         },
         "type": "histogram",
         "xaxis": "x",
         "yaxis": "y"
        },
        {
         "marker": {
          "color": "orange"
         },
         "name": "Selected Fitness",
         "nbinsx": 20,
         "opacity": 0.7,
         "x": {
          "dtype": "f8",
          "bdata": "Ke5LITas8z8UK568jsTzP3SZPsLLm/Q/thKYrcGc9D8WS3xz+KHsP+eH/MPiF/Q/Sg1z6/XR7T/nR83sHVnyP+J5cgqkhPM/tFLR4r988z9pl/npfyb0PyHVxvyu7fQ/HCJmEK2U8T8cImYQrZTxP85N9yMK/fE/erqEDYQZ8T/HA+/Y6pbyP7RS0eK/fPM/1AZpaQxn9D9XP6kZqxfzPyHVxvyu7fQ/Zm+uoA4m8D9SXru8whbzPx8rK5rFsu4/vvoqsHmS8T8p7kshNqzzP9QGaWkMZ/Q/ILAtZGHz8z+2EpitwZz0P2bTH9kPFfQ/cyznVVh79D+8MPXf6vDyPxJ9U7GSofM/tFLR4r988z/nR83sHVnyPy/13DUqn/I/tFLR4r988z/nh/zD4hf0P+eH/MPiF/Q/Ul67vMIW8z+SXgVZnDTwP9jxgUCDn/A/FCuevI7E8z90lJPalHHxP+eH/MPiF/Q/RLfTDSm59D9pl/npfyb0P0S30w0pufQ/L3pMwnPI8j/UBmlpDGf0Pw=="
         },
         "type": "histogram",
         "xaxis": "x",
         "yaxis": "y"
        },
        {
         "marker": {
          "color": {
           "dtype": "f8",
           "bdata": "atSd2g1l6j+ieMc2V4rpP+mC6QSk9eo/GhvC4o2F7D+BfdGLL9/pP704yPGQCOo/xh9XILAY7T93xIOzjvXrPwCIiA5LJOo/IbokPDLs6z93CSiAhXnqP0AjgL3yoeo/dYvmTTHt6z92yGNsx6PoP4ZcpFROGuk/z9V0oeQf6z/Gz0ZjuZDqP8XAflOr2ew/tuJ3jmYO6z87E5euOGnqPzpvNoxnLe8/Fkt8c/ih7D8H7phVe0PtP9nAgH2eCes/LMQrLZeb7D9qEYKYYNHtP1y2lcXe9es/gzNOqpOQ7j/f1psECyrtP0oNc+v10e0/9+RKZFp87T+xRCuDcMnwPyMmUPgHwO4/g1ph57E97T+SXgVZnDTwP4T6P42fTe0/WKog5prA7z89s5xVv3HsP4NUberGne0/HlUBsucb8D/Y8YFAg5/wP72tnM4OQPA/pNEhtvYZ8D+LfVZYqwjwP/v4PRxxWO4/XnUh65G47z9mb66gDibwP3SUk9qUcfE/TB55iST08D8fKyuaxbLuP3q6hA2EGfE/VcLcJ/ec8D+kABMw4nXwP776KrB5kvE/zk33Iwr98T/Rl2rPTf3xP1S58ZRkp/A/4sg99J8o8T9Q8KIre8DxP+dHzewdWfI/X7CfkuBD8T8cImYQrZTxPzxr9/bO7PA/ZWq58Bbv8D8v9dw1Kp/yP3xmCFU0I/M/BWakumIT8j9O+0//VwTzP69J8/ORlfI/T608yxLc8T8LsFgG5b7yPxQrnryOxPM/xwPv2OqW8j8gsC1kYfPzP2D7j78ar/A/4nlyCqSE8z/0Zl5K1ALzPy96TMJzyPI/vW7xGSst8z8C7uAtApjxP1Jeu7zCFvM/En1TsZKh8z90mT7Cy5v0P1c/qRmrF/M/vDD13+rw8j+SFv6KbETzP3Ms51VYe/Q/54f8w+IX9D+0UtHiv3zzP9QGaWkMZ/Q/aZf56X8m9D8h1cb8ru30PynuSyE2rPM/Sdcn1pIN9D9m0x/ZDxX0P5z1Kx1TTvM/w14AhGLL9D+FUhnw49j0P0S30w0pufQ/thKYrcGc9D8="
          },
          "colorscale": [
           [
            0.0,
            "rgb(165,0,38)"
           ],
           [
            0.1,
            "rgb(215,48,39)"
           ],
           [
            0.2,
            "rgb(244,109,67)"
           ],
           [
            0.3,
            "rgb(253,174,97)"
           ],
           [
            0.4,
            "rgb(254,224,139)"
           ],
           [
            0.5,
            "rgb(255,255,191)"
           ],
           [
            0.6,
            "rgb(217,239,139)"
           ],
           [
            0.7,
            "rgb(166,217,106)"
           ],
           [
            0.8,
            "rgb(102,189,99)"
           ],
           [
            0.9,
            "rgb(26,152,80)"
           ],
           [
            1.0,
            "rgb(0,104,55)"
           ]
          ],
          "showscale": false
         },
         "name": "Selection Count",
         "x": {
          "dtype": "i1",
          "bdata": "AAECAwQFBgcICQoLDA0ODxAREhMUFRYXGBkaGxwdHh8gISIjJCUmJygpKissLS4vMDEyMzQ1Njc4OTo7PD0+P0BBQkNERUZHSElKS0xNTk9QUVJTVFVWV1hZWltcXV5fYGFiYw=="
         },
         "y": {
          "dtype": "i1",
          "bdata": "AAAAAAAAAAAAAAAAAAAAAAAAAAAAAQAAAAAAAAABAAAAAAEAAAAAAAEAAAAAAAEBAAEBAAABAQAAAAACAAIAAAEAAAAAAAACAQEAAQABAAACAQEBAQABBAQDAgICAAEAAAACAg=="
         },
         "type": "bar",
         "xaxis": "x2",
         "yaxis": "y2"
        },
        {
         "marker": {
          "color": [
           "lightgray",
           "lightgray",
           "lightgray",
           "lightgray",
           "lightgray",
           "lightgray",
           "lightgray",
           "lightgray",
           "lightgray",
           "lightgray",
           "lightgray",
           "lightgray",
           "lightgray",
           "lightgray",
           "lightgray",
           "lightgray",
           "lightgray",
           "lightgray",
           "lightgray",
           "lightgray",
           "lightgray",
           "red",
           "lightgray",
           "lightgray",
           "lightgray",
           "lightgray",
           "lightgray",
           "lightgray",
           "lightgray",
           "red",
           "lightgray",
           "lightgray",
           "lightgray",
           "lightgray",
           "red",
           "lightgray",
           "lightgray",
           "lightgray",
           "lightgray",
           "lightgray",
           "red",
           "lightgray",
           "lightgray",
           "lightgray",
           "lightgray",
           "lightgray",
           "red",
           "red",
           "lightgray",
           "red",
           "red",
           "lightgray",
           "lightgray",
           "red",
           "red",
           "lightgray",
           "lightgray",
           "lightgray",
           "lightgray",
           "red",
           "lightgray",
           "red",
           "lightgray",
           "lightgray",
           "red",
           "lightgray",
           "lightgray",
           "lightgray",
           "lightgray",
           "lightgray",
           "lightgray",
           "red",
           "red",
           "red",
           "lightgray",
           "red",
           "lightgray",
           "red",
           "lightgray",
           "lightgray",
           "red",
           "red",
           "red",
           "red",
           "red",
           "lightgray",
           "red",
           "red",
           "red",
           "red",
           "red",
           "red",
           "red",
           "lightgray",
           "red",
           "lightgray",
           "lightgray",
           "lightgray",
           "red",
           "red"
          ],
          "size": [
           4,
           4,
           4,
           4,
           4,
           4,
           4,
           4,
           4,
           4,
           4,
           4,
           4,
           4,
           4,
           4,
           4,
           4,
           4,
           4,
           4,
           8,
           4,
           4,
           4,
           4,
           4,
           4,
           4,
           8,
           4,
           4,
           4,
           4,
           8,
           4,
           4,
           4,
           4,
           4,
           8,
           4,
           4,
           4,
           4,
           4,
           8,
           8,
           4,
           8,
           8,
           4,
           4,
           8,
           8,
           4,
           4,
           4,
           4,
           8,
           4,
           8,
           4,
           4,
           8,
           4,
           4,
           4,
           4,
           4,
           4,
           8,
           8,
           8,
           4,
           8,
           4,
           8,
           4,
           4,
           8,
           8,
           8,
           8,
           8,
           4,
           8,
           8,
           8,
           8,
           8,
           8,
           8,
           4,
           8,
           4,
           4,
           4,
           8,
           8
          ]
         },
         "mode": "markers",
         "name": "Population",
         "showlegend": false,
         "x": {
          "dtype": "i1",
          "bdata": "AAECAwQFBgcICQoLDA0ODxAREhMUFRYXGBkaGxwdHh8gISIjJCUmJygpKissLS4vMDEyMzQ1Njc4OTo7PD0+P0BBQkNERUZHSElKS0xNTk9QUVJTVFVWV1hZWltcXV5fYGFiYw=="
         },
         "y": {
          "dtype": "f8",
          "bdata": "atSd2g1l6j+ieMc2V4rpP+mC6QSk9eo/GhvC4o2F7D+BfdGLL9/pP704yPGQCOo/xh9XILAY7T93xIOzjvXrPwCIiA5LJOo/IbokPDLs6z93CSiAhXnqP0AjgL3yoeo/dYvmTTHt6z92yGNsx6PoP4ZcpFROGuk/z9V0oeQf6z/Gz0ZjuZDqP8XAflOr2ew/tuJ3jmYO6z87E5euOGnqPzpvNoxnLe8/Fkt8c/ih7D8H7phVe0PtP9nAgH2eCes/LMQrLZeb7D9qEYKYYNHtP1y2lcXe9es/gzNOqpOQ7j/f1psECyrtP0oNc+v10e0/9+RKZFp87T+xRCuDcMnwPyMmUPgHwO4/g1ph57E97T+SXgVZnDTwP4T6P42fTe0/WKog5prA7z89s5xVv3HsP4NUberGne0/HlUBsucb8D/Y8YFAg5/wP72tnM4OQPA/pNEhtvYZ8D+LfVZYqwjwP/v4PRxxWO4/XnUh65G47z9mb66gDibwP3SUk9qUcfE/TB55iST08D8fKyuaxbLuP3q6hA2EGfE/VcLcJ/ec8D+kABMw4nXwP776KrB5kvE/zk33Iwr98T/Rl2rPTf3xP1S58ZRkp/A/4sg99J8o8T9Q8KIre8DxP+dHzewdWfI/X7CfkuBD8T8cImYQrZTxPzxr9/bO7PA/ZWq58Bbv8D8v9dw1Kp/yP3xmCFU0I/M/BWakumIT8j9O+0//VwTzP69J8/ORlfI/T608yxLc8T8LsFgG5b7yPxQrnryOxPM/xwPv2OqW8j8gsC1kYfPzP2D7j78ar/A/4nlyCqSE8z/0Zl5K1ALzPy96TMJzyPI/vW7xGSst8z8C7uAtApjxP1Jeu7zCFvM/En1TsZKh8z90mT7Cy5v0P1c/qRmrF/M/vDD13+rw8j+SFv6KbETzP3Ms51VYe/Q/54f8w+IX9D+0UtHiv3zzP9QGaWkMZ/Q/aZf56X8m9D8h1cb8ru30PynuSyE2rPM/Sdcn1pIN9D9m0x/ZDxX0P5z1Kx1TTvM/w14AhGLL9D+FUhnw49j0P0S30w0pufQ/thKYrcGc9D8="
         },
         "type": "scatter",
         "xaxis": "x3",
         "yaxis": "y3"
        },
        {
         "marker": {
          "color": [
           "red",
           "orange",
           "yellow",
           "green"
          ]
         },
         "name": "Selections by Quartile",
         "x": [
          "Bottom 25%",
          "25-50%",
          "50-75%",
          "Top 25%"
         ],
         "y": [
          1,
          5,
          12,
          32
         ],
         "type": "bar",
         "xaxis": "x4",
         "yaxis": "y4"
        }
       ],
       "layout": {
        "template": {
         "data": {
          "histogram2dcontour": [
           {
            "type": "histogram2dcontour",
            "colorbar": {
             "outlinewidth": 0,
             "ticks": ""
            },
            "colorscale": [
             [
              0.0,
              "#0d0887"
             ],
             [
              0.1111111111111111,
              "#46039f"
             ],
             [
              0.2222222222222222,
              "#7201a8"
             ],
             [
              0.3333333333333333,
              "#9c179e"
             ],
             [
              0.4444444444444444,
              "#bd3786"
             ],
             [
              0.5555555555555556,
              "#d8576b"
             ],
             [
              0.6666666666666666,
              "#ed7953"
             ],
             [
              0.7777777777777778,
              "#fb9f3a"
             ],
             [
              0.8888888888888888,
              "#fdca26"
             ],
             [
              1.0,
              "#f0f921"
             ]
            ]
           }
          ],
          "choropleth": [
           {
            "type": "choropleth",
            "colorbar": {
             "outlinewidth": 0,
             "ticks": ""
            }
           }
          ],
          "histogram2d": [
           {
            "type": "histogram2d",
            "colorbar": {
             "outlinewidth": 0,
             "ticks": ""
            },
            "colorscale": [
             [
              0.0,
              "#0d0887"
             ],
             [
              0.1111111111111111,
              "#46039f"
             ],
             [
              0.2222222222222222,
              "#7201a8"
             ],
             [
              0.3333333333333333,
              "#9c179e"
             ],
             [
              0.4444444444444444,
              "#bd3786"
             ],
             [
              0.5555555555555556,
              "#d8576b"
             ],
             [
              0.6666666666666666,
              "#ed7953"
             ],
             [
              0.7777777777777778,
              "#fb9f3a"
             ],
             [
              0.8888888888888888,
              "#fdca26"
             ],
             [
              1.0,
              "#f0f921"
             ]
            ]
           }
          ],
          "heatmap": [
           {
            "type": "heatmap",
            "colorbar": {
             "outlinewidth": 0,
             "ticks": ""
            },
            "colorscale": [
             [
              0.0,
              "#0d0887"
             ],
             [
              0.1111111111111111,
              "#46039f"
             ],
             [
              0.2222222222222222,
              "#7201a8"
             ],
             [
              0.3333333333333333,
              "#9c179e"
             ],
             [
              0.4444444444444444,
              "#bd3786"
             ],
             [
              0.5555555555555556,
              "#d8576b"
             ],
             [
              0.6666666666666666,
              "#ed7953"
             ],
             [
              0.7777777777777778,
              "#fb9f3a"
             ],
             [
              0.8888888888888888,
              "#fdca26"
             ],
             [
              1.0,
              "#f0f921"
             ]
            ]
           }
          ],
          "contourcarpet": [
           {
            "type": "contourcarpet",
            "colorbar": {
             "outlinewidth": 0,
             "ticks": ""
            }
           }
          ],
          "contour": [
           {
            "type": "contour",
            "colorbar": {
             "outlinewidth": 0,
             "ticks": ""
            },
            "colorscale": [
             [
              0.0,
              "#0d0887"
             ],
             [
              0.1111111111111111,
              "#46039f"
             ],
             [
              0.2222222222222222,
              "#7201a8"
             ],
             [
              0.3333333333333333,
              "#9c179e"
             ],
             [
              0.4444444444444444,
              "#bd3786"
             ],
             [
              0.5555555555555556,
              "#d8576b"
             ],
             [
              0.6666666666666666,
              "#ed7953"
             ],
             [
              0.7777777777777778,
              "#fb9f3a"
             ],
             [
              0.8888888888888888,
              "#fdca26"
             ],
             [
              1.0,
              "#f0f921"
             ]
            ]
           }
          ],
          "surface": [
           {
            "type": "surface",
            "colorbar": {
             "outlinewidth": 0,
             "ticks": ""
            },
            "colorscale": [
             [
              0.0,
              "#0d0887"
             ],
             [
              0.1111111111111111,
              "#46039f"
             ],
             [
              0.2222222222222222,
              "#7201a8"
             ],
             [
              0.3333333333333333,
              "#9c179e"
             ],
             [
              0.4444444444444444,
              "#bd3786"
             ],
             [
              0.5555555555555556,
              "#d8576b"
             ],
             [
              0.6666666666666666,
              "#ed7953"
             ],
             [
              0.7777777777777778,
              "#fb9f3a"
             ],
             [
              0.8888888888888888,
              "#fdca26"
             ],
             [
              1.0,
              "#f0f921"
             ]
            ]
           }
          ],
          "mesh3d": [
           {
            "type": "mesh3d",
            "colorbar": {
             "outlinewidth": 0,
             "ticks": ""
            }
           }
          ],
          "scatter": [
           {
            "marker": {
             "line": {
              "color": "#283442"
             }
            },
            "type": "scatter"
           }
          ],
          "parcoords": [
           {
            "type": "parcoords",
            "line": {
             "colorbar": {
              "outlinewidth": 0,
              "ticks": ""
             }
            }
           }
          ],
          "scatterpolargl": [
           {
            "type": "scatterpolargl",
            "marker": {
             "colorbar": {
              "outlinewidth": 0,
              "ticks": ""
             }
            }
           }
          ],
          "bar": [
           {
            "error_x": {
             "color": "#f2f5fa"
            },
            "error_y": {
             "color": "#f2f5fa"
            },
            "marker": {
             "line": {
              "color": "rgb(17,17,17)",
              "width": 0.5
             },
             "pattern": {
              "fillmode": "overlay",
              "size": 10,
              "solidity": 0.2
             }
            },
            "type": "bar"
           }
          ],
          "scattergeo": [
           {
            "type": "scattergeo",
            "marker": {
             "colorbar": {
              "outlinewidth": 0,
              "ticks": ""
             }
            }
           }
          ],
          "scatterpolar": [
           {
            "type": "scatterpolar",
            "marker": {
             "colorbar": {
              "outlinewidth": 0,
              "ticks": ""
             }
            }
           }
          ],
          "histogram": [
           {
            "marker": {
             "pattern": {
              "fillmode": "overlay",
              "size": 10,
              "solidity": 0.2
             }
            },
            "type": "histogram"
           }
          ],
          "scattergl": [
           {
            "marker": {
             "line": {
              "color": "#283442"
             }
            },
            "type": "scattergl"
           }
          ],
          "scatter3d": [
           {
            "type": "scatter3d",
            "line": {
             "colorbar": {
              "outlinewidth": 0,
              "ticks": ""
             }
            },
            "marker": {
             "colorbar": {
              "outlinewidth": 0,
              "ticks": ""
             }
            }
           }
          ],
          "scattermap": [
           {
            "type": "scattermap",
            "marker": {
             "colorbar": {
              "outlinewidth": 0,
              "ticks": ""
             }
            }
           }
          ],
          "scattermapbox": [
           {
            "type": "scattermapbox",
            "marker": {
             "colorbar": {
              "outlinewidth": 0,
              "ticks": ""
             }
            }
           }
          ],
          "scatterternary": [
           {
            "type": "scatterternary",
            "marker": {
             "colorbar": {
              "outlinewidth": 0,
              "ticks": ""
             }
            }
           }
          ],
          "scattercarpet": [
           {
            "type": "scattercarpet",
            "marker": {
             "colorbar": {
              "outlinewidth": 0,
              "ticks": ""
             }
            }
           }
          ],
          "carpet": [
           {
            "aaxis": {
             "endlinecolor": "#A2B1C6",
             "gridcolor": "#506784",
             "linecolor": "#506784",
             "minorgridcolor": "#506784",
             "startlinecolor": "#A2B1C6"
            },
            "baxis": {
             "endlinecolor": "#A2B1C6",
             "gridcolor": "#506784",
             "linecolor": "#506784",
             "minorgridcolor": "#506784",
             "startlinecolor": "#A2B1C6"
            },
            "type": "carpet"
           }
          ],
          "table": [
           {
            "cells": {
             "fill": {
              "color": "#506784"
             },
             "line": {
              "color": "rgb(17,17,17)"
             }
            },
            "header": {
             "fill": {
              "color": "#2a3f5f"
             },
             "line": {
              "color": "rgb(17,17,17)"
             }
            },
            "type": "table"
           }
          ],
          "barpolar": [
           {
            "marker": {
             "line": {
              "color": "rgb(17,17,17)",
              "width": 0.5
             },
             "pattern": {
              "fillmode": "overlay",
              "size": 10,
              "solidity": 0.2
             }
            },
            "type": "barpolar"
           }
          ],
          "pie": [
           {
            "automargin": true,
            "type": "pie"
           }
          ]
         },
         "layout": {
          "autotypenumbers": "strict",
          "colorway": [
           "#636efa",
           "#EF553B",
           "#00cc96",
           "#ab63fa",
           "#FFA15A",
           "#19d3f3",
           "#FF6692",
           "#B6E880",
           "#FF97FF",
           "#FECB52"
          ],
          "font": {
           "color": "#f2f5fa"
          },
          "hovermode": "closest",
          "hoverlabel": {
           "align": "left"
          },
          "paper_bgcolor": "rgb(17,17,17)",
          "plot_bgcolor": "rgb(17,17,17)",
          "polar": {
           "bgcolor": "rgb(17,17,17)",
           "angularaxis": {
            "gridcolor": "#506784",
            "linecolor": "#506784",
            "ticks": ""
           },
           "radialaxis": {
            "gridcolor": "#506784",
            "linecolor": "#506784",
            "ticks": ""
           }
          },
          "ternary": {
           "bgcolor": "rgb(17,17,17)",
           "aaxis": {
            "gridcolor": "#506784",
            "linecolor": "#506784",
            "ticks": ""
           },
           "baxis": {
            "gridcolor": "#506784",
            "linecolor": "#506784",
            "ticks": ""
           },
           "caxis": {
            "gridcolor": "#506784",
            "linecolor": "#506784",
            "ticks": ""
           }
          },
          "coloraxis": {
           "colorbar": {
            "outlinewidth": 0,
            "ticks": ""
           }
          },
          "colorscale": {
           "sequential": [
            [
             0.0,
             "#0d0887"
            ],
            [
             0.1111111111111111,
             "#46039f"
            ],
            [
             0.2222222222222222,
             "#7201a8"
            ],
            [
             0.3333333333333333,
             "#9c179e"
            ],
            [
             0.4444444444444444,
             "#bd3786"
            ],
            [
             0.5555555555555556,
             "#d8576b"
            ],
            [
             0.6666666666666666,
             "#ed7953"
            ],
            [
             0.7777777777777778,
             "#fb9f3a"
            ],
            [
             0.8888888888888888,
             "#fdca26"
            ],
            [
             1.0,
             "#f0f921"
            ]
           ],
           "sequentialminus": [
            [
             0.0,
             "#0d0887"
            ],
            [
             0.1111111111111111,
             "#46039f"
            ],
            [
             0.2222222222222222,
             "#7201a8"
            ],
            [
             0.3333333333333333,
             "#9c179e"
            ],
            [
             0.4444444444444444,
             "#bd3786"
            ],
            [
             0.5555555555555556,
             "#d8576b"
            ],
            [
             0.6666666666666666,
             "#ed7953"
            ],
            [
             0.7777777777777778,
             "#fb9f3a"
            ],
            [
             0.8888888888888888,
             "#fdca26"
            ],
            [
             1.0,
             "#f0f921"
            ]
           ],
           "diverging": [
            [
             0,
             "#8e0152"
            ],
            [
             0.1,
             "#c51b7d"
            ],
            [
             0.2,
             "#de77ae"
            ],
            [
             0.3,
             "#f1b6da"
            ],
            [
             0.4,
             "#fde0ef"
            ],
            [
             0.5,
             "#f7f7f7"
            ],
            [
             0.6,
             "#e6f5d0"
            ],
            [
             0.7,
             "#b8e186"
            ],
            [
             0.8,
             "#7fbc41"
            ],
            [
             0.9,
             "#4d9221"
            ],
            [
             1,
             "#276419"
            ]
           ]
          },
          "xaxis": {
           "gridcolor": "#283442",
           "linecolor": "#506784",
           "ticks": "",
           "title": {
            "standoff": 15
           },
           "zerolinecolor": "#283442",
           "automargin": true,
           "zerolinewidth": 2
          },
          "yaxis": {
           "gridcolor": "#283442",
           "linecolor": "#506784",
           "ticks": "",
           "title": {
            "standoff": 15
           },
           "zerolinecolor": "#283442",
           "automargin": true,
           "zerolinewidth": 2
          },
          "scene": {
           "xaxis": {
            "backgroundcolor": "rgb(17,17,17)",
            "gridcolor": "#506784",
            "linecolor": "#506784",
            "showbackground": true,
            "ticks": "",
            "zerolinecolor": "#C8D4E3",
            "gridwidth": 2
           },
           "yaxis": {
            "backgroundcolor": "rgb(17,17,17)",
            "gridcolor": "#506784",
            "linecolor": "#506784",
            "showbackground": true,
            "ticks": "",
            "zerolinecolor": "#C8D4E3",
            "gridwidth": 2
           },
           "zaxis": {
            "backgroundcolor": "rgb(17,17,17)",
            "gridcolor": "#506784",
            "linecolor": "#506784",
            "showbackground": true,
            "ticks": "",
            "zerolinecolor": "#C8D4E3",
            "gridwidth": 2
           }
          },
          "shapedefaults": {
           "line": {
            "color": "#f2f5fa"
           }
          },
          "annotationdefaults": {
           "arrowcolor": "#f2f5fa",
           "arrowhead": 0,
           "arrowwidth": 1
          },
          "geo": {
           "bgcolor": "rgb(17,17,17)",
           "landcolor": "rgb(17,17,17)",
           "subunitcolor": "#506784",
           "showland": true,
           "showlakes": true,
           "lakecolor": "rgb(17,17,17)"
          },
          "title": {
           "x": 0.05
          },
          "updatemenudefaults": {
           "bgcolor": "#506784",
           "borderwidth": 0
          },
          "sliderdefaults": {
           "bgcolor": "#C8D4E3",
           "borderwidth": 1,
           "bordercolor": "rgb(17,17,17)",
           "tickwidth": 0
          },
          "mapbox": {
           "style": "dark"
          }
         }
        },
        "xaxis": {
         "anchor": "y",
         "domain": [
          0.0,
          0.45
         ],
         "title": {
          "text": "Fitness Score"
         }
        },
        "yaxis": {
         "anchor": "x",
         "domain": [
          0.56,
          1.0
         ],
         "title": {
          "text": "Count"
         }
        },
        "xaxis2": {
         "anchor": "y2",
         "domain": [
          0.55,
          1.0
         ],
         "title": {
          "text": "Individual ID"
         }
        },
        "yaxis2": {
         "anchor": "x2",
         "domain": [
          0.56,
          1.0
         ],
         "title": {
          "text": "Times Selected"
         }
        },
        "xaxis3": {
         "anchor": "y3",
         "domain": [
          0.0,
          0.45
         ],
         "title": {
          "text": "Individual ID"
         }
        },
        "yaxis3": {
         "anchor": "x3",
         "domain": [
          0.0,
          0.44
         ],
         "title": {
          "text": "Fitness Score"
         }
        },
        "xaxis4": {
         "anchor": "y4",
         "domain": [
          0.55,
          1.0
         ],
         "title": {
          "text": "Fitness Quartile"
         }
        },
        "yaxis4": {
         "anchor": "x4",
         "domain": [
          0.0,
          0.44
         ],
         "title": {
          "text": "Selections"
         }
        },
        "annotations": [
         {
          "font": {
           "size": 16
          },
          "showarrow": false,
          "text": "Population Fitness Distribution",
          "x": 0.225,
          "xanchor": "center",
          "xref": "paper",
          "y": 1.0,
          "yanchor": "bottom",
          "yref": "paper"
         },
         {
          "font": {
           "size": 16
          },
          "showarrow": false,
          "text": "Selection Frequency by Individual",
          "x": 0.775,
          "xanchor": "center",
          "xref": "paper",
          "y": 1.0,
          "yanchor": "bottom",
          "yref": "paper"
         },
         {
          "font": {
           "size": 16
          },
          "showarrow": false,
          "text": "Selected vs Population Fitness",
          "x": 0.225,
          "xanchor": "center",
          "xref": "paper",
          "y": 0.44,
          "yanchor": "bottom",
          "yref": "paper"
         },
         {
          "font": {
           "size": 16
          },
          "showarrow": false,
          "text": "Selection Bias Analysis",
          "x": 0.775,
          "xanchor": "center",
          "xref": "paper",
          "y": 0.44,
          "yanchor": "bottom",
          "yref": "paper"
         },
         {
          "showarrow": false,
          "text": "Population Mean",
          "x": 1,
          "xanchor": "right",
          "xref": "x3 domain",
          "y": 1.0448076741302954,
          "yanchor": "bottom",
          "yref": "y3"
         },
         {
          "showarrow": false,
          "text": "Selected Mean",
          "x": 1,
          "xanchor": "right",
          "xref": "x3 domain",
          "y": 1.1890409870755454,
          "yanchor": "bottom",
          "yref": "y3"
         }
        ],
        "shapes": [
         {
          "line": {
           "color": "blue",
           "dash": "dash"
          },
          "type": "line",
          "x0": 0,
          "x1": 1,
          "xref": "x3 domain",
          "y0": 1.0448076741302954,
          "y1": 1.0448076741302954,
          "yref": "y3"
         },
         {
          "line": {
           "color": "orange",
           "dash": "dash"
          },
          "type": "line",
          "x0": 0,
          "x1": 1,
          "xref": "x3 domain",
          "y0": 1.1890409870755454,
          "y1": 1.1890409870755454,
          "yref": "y3"
         }
        ],
        "title": {
         "text": "Tournament Selection Analysis - Size 3, 50/100 Parents"
        },
        "height": 800,
        "width": 1000,
        "showlegend": true
       },
       "config": {
        "plotlyServerURL": "https://plot.ly"
       }
      }
     },
     "metadata": {},
     "output_type": "display_data"
    },
    {
     "name": "stdout",
     "output_type": "stream",
     "text": [
      "\n",
      "📊 Selection by Fitness Quartiles:\n",
      "   Bottom 25%: 1/50 (2.0%)\n",
      "   25-50%: 5/50 (10.0%)\n",
      "   50-75%: 12/50 (24.0%)\n",
      "   Top 25%: 32/50 (64.0%)\n"
     ]
    }
   ],
   "execution_count": 7
  },
  {
   "cell_type": "markdown",
   "metadata": {},
   "source": [
    "## 6. Tournament Size Comparison"
   ]
  },
  {
   "cell_type": "code",
   "metadata": {
    "ExecuteTime": {
     "end_time": "2025-06-17T10:03:51.341149Z",
     "start_time": "2025-06-17T10:03:51.322608Z"
    }
   },
   "source": [
    "# Compare different tournament sizes\n",
    "print(f\"🔬 Tournament Size Comparison\")\n",
    "print(f\"   Testing different tournament sizes to show selection pressure effects\")\n",
    "\n",
    "tournament_sizes = [1, 2, 3, 5, 7]\n",
    "comparison_results = []\n",
    "\n",
    "for k in tournament_sizes:\n",
    "    # Run selection with this tournament size\n",
    "    parents, indices = tournament_selection(\n",
    "        population, fitness_scores, k, NUM_PARENTS, seed=RANDOM_SEED\n",
    "    )\n",
    "    \n",
    "    selected_fitness_k = fitness_scores[indices]\n",
    "    mean_selected = np.mean(selected_fitness_k)\n",
    "    selection_bias = ((mean_selected / np.mean(fitness_scores)) - 1) * 100\n",
    "    \n",
    "    # Count selections from top half\n",
    "    top_half_indices = np.where(fitness_scores >= np.median(fitness_scores))[0]\n",
    "    top_half_selections = np.sum(np.isin(indices, top_half_indices))\n",
    "    top_half_percentage = top_half_selections / NUM_PARENTS * 100\n",
    "    \n",
    "    comparison_results.append({\n",
    "        'tournament_size': k,\n",
    "        'mean_fitness': mean_selected,\n",
    "        'bias_percentage': selection_bias,\n",
    "        'top_half_percentage': top_half_percentage\n",
    "    })\n",
    "    \n",
    "    print(f\"   Tournament {k}: Bias {selection_bias:.1f}%, Top half {top_half_percentage:.1f}%\")\n",
    "\n",
    "# Visualize tournament size effects\n",
    "fig = make_subplots(\n",
    "    rows=1, cols=2,\n",
    "    subplot_titles=['Selection Bias vs Tournament Size', 'Top Half Selections vs Tournament Size']\n",
    ")\n",
    "\n",
    "tournament_sizes_plot = [r['tournament_size'] for r in comparison_results]\n",
    "bias_percentages = [r['bias_percentage'] for r in comparison_results]\n",
    "top_half_percentages = [r['top_half_percentage'] for r in comparison_results]\n",
    "\n",
    "fig.add_trace(\n",
    "    go.Scatter(\n",
    "        x=tournament_sizes_plot,\n",
    "        y=bias_percentages,\n",
    "        mode='markers+lines',\n",
    "        name='Selection Bias',\n",
    "        marker=dict(color='blue', size=8),\n",
    "        line=dict(color='blue')\n",
    "    ),\n",
    "    row=1, col=1\n",
    ")\n",
    "\n",
    "fig.add_trace(\n",
    "    go.Scatter(\n",
    "        x=tournament_sizes_plot,\n",
    "        y=top_half_percentages,\n",
    "        mode='markers+lines',\n",
    "        name='Top Half %',\n",
    "        marker=dict(color='green', size=8),\n",
    "        line=dict(color='green')\n",
    "    ),\n",
    "    row=1, col=2\n",
    ")\n",
    "\n",
    "# Add reference lines\n",
    "fig.add_hline(y=0, line_dash=\"dash\", line_color=\"gray\", row=1, col=1)\n",
    "fig.add_hline(y=50, line_dash=\"dash\", line_color=\"gray\", row=1, col=2)\n",
    "\n",
    "fig.update_xaxes(title_text=\"Tournament Size\", row=1, col=1)\n",
    "fig.update_xaxes(title_text=\"Tournament Size\", row=1, col=2)\n",
    "fig.update_yaxes(title_text=\"Selection Bias (%)\", row=1, col=1)\n",
    "fig.update_yaxes(title_text=\"Top Half Selections (%)\", row=1, col=2)\n",
    "\n",
    "fig.update_layout(\n",
    "    title=\"Tournament Size Effects on Selection Pressure\",\n",
    "    height=400,\n",
    "    width=1000,\n",
    "    showlegend=False\n",
    ")\n",
    "\n",
    "fig.show()\n",
    "\n",
    "print(f\"\\n📈 Selection Pressure Analysis:\")\n",
    "print(f\"   Tournament size 1: Random selection (~50% from top half)\")\n",
    "print(f\"   Tournament size 2: Moderate bias toward fitness\")\n",
    "print(f\"   Tournament size 5+: Strong bias toward high fitness\")\n",
    "print(f\"   Current setting ({TOURNAMENT_SIZE}): {top_half_percentages[tournament_sizes.index(TOURNAMENT_SIZE)]:.1f}% from top half\")"
   ],
   "outputs": [
    {
     "name": "stdout",
     "output_type": "stream",
     "text": [
      "🔬 Tournament Size Comparison\n",
      "   Testing different tournament sizes to show selection pressure effects\n",
      "   Tournament 1: Bias 0.7%, Top half 58.0%\n",
      "   Tournament 2: Bias 8.7%, Top half 80.0%\n",
      "   Tournament 3: Bias 13.8%, Top half 88.0%\n",
      "   Tournament 5: Bias 16.8%, Top half 92.0%\n",
      "   Tournament 7: Bias 18.8%, Top half 98.0%\n"
     ]
    },
    {
     "data": {
      "application/vnd.plotly.v1+json": {
       "data": [
        {
         "line": {
          "color": "blue"
         },
         "marker": {
          "color": "blue",
          "size": 8
         },
         "mode": "markers+lines",
         "name": "Selection Bias",
         "x": [
          1,
          2,
          3,
          5,
          7
         ],
         "y": [
          0.6698925631028363,
          8.74700330196454,
          13.804771587776731,
          16.77553537906249,
          18.799553157634485
         ],
         "type": "scatter",
         "xaxis": "x",
         "yaxis": "y"
        },
        {
         "line": {
          "color": "green"
         },
         "marker": {
          "color": "green",
          "size": 8
         },
         "mode": "markers+lines",
         "name": "Top Half %",
         "x": [
          1,
          2,
          3,
          5,
          7
         ],
         "y": [
          57.99999999999999,
          80.0,
          88.0,
          92.0,
          98.0
         ],
         "type": "scatter",
         "xaxis": "x2",
         "yaxis": "y2"
        }
       ],
       "layout": {
        "template": {
         "data": {
          "histogram2dcontour": [
           {
            "type": "histogram2dcontour",
            "colorbar": {
             "outlinewidth": 0,
             "ticks": ""
            },
            "colorscale": [
             [
              0.0,
              "#0d0887"
             ],
             [
              0.1111111111111111,
              "#46039f"
             ],
             [
              0.2222222222222222,
              "#7201a8"
             ],
             [
              0.3333333333333333,
              "#9c179e"
             ],
             [
              0.4444444444444444,
              "#bd3786"
             ],
             [
              0.5555555555555556,
              "#d8576b"
             ],
             [
              0.6666666666666666,
              "#ed7953"
             ],
             [
              0.7777777777777778,
              "#fb9f3a"
             ],
             [
              0.8888888888888888,
              "#fdca26"
             ],
             [
              1.0,
              "#f0f921"
             ]
            ]
           }
          ],
          "choropleth": [
           {
            "type": "choropleth",
            "colorbar": {
             "outlinewidth": 0,
             "ticks": ""
            }
           }
          ],
          "histogram2d": [
           {
            "type": "histogram2d",
            "colorbar": {
             "outlinewidth": 0,
             "ticks": ""
            },
            "colorscale": [
             [
              0.0,
              "#0d0887"
             ],
             [
              0.1111111111111111,
              "#46039f"
             ],
             [
              0.2222222222222222,
              "#7201a8"
             ],
             [
              0.3333333333333333,
              "#9c179e"
             ],
             [
              0.4444444444444444,
              "#bd3786"
             ],
             [
              0.5555555555555556,
              "#d8576b"
             ],
             [
              0.6666666666666666,
              "#ed7953"
             ],
             [
              0.7777777777777778,
              "#fb9f3a"
             ],
             [
              0.8888888888888888,
              "#fdca26"
             ],
             [
              1.0,
              "#f0f921"
             ]
            ]
           }
          ],
          "heatmap": [
           {
            "type": "heatmap",
            "colorbar": {
             "outlinewidth": 0,
             "ticks": ""
            },
            "colorscale": [
             [
              0.0,
              "#0d0887"
             ],
             [
              0.1111111111111111,
              "#46039f"
             ],
             [
              0.2222222222222222,
              "#7201a8"
             ],
             [
              0.3333333333333333,
              "#9c179e"
             ],
             [
              0.4444444444444444,
              "#bd3786"
             ],
             [
              0.5555555555555556,
              "#d8576b"
             ],
             [
              0.6666666666666666,
              "#ed7953"
             ],
             [
              0.7777777777777778,
              "#fb9f3a"
             ],
             [
              0.8888888888888888,
              "#fdca26"
             ],
             [
              1.0,
              "#f0f921"
             ]
            ]
           }
          ],
          "contourcarpet": [
           {
            "type": "contourcarpet",
            "colorbar": {
             "outlinewidth": 0,
             "ticks": ""
            }
           }
          ],
          "contour": [
           {
            "type": "contour",
            "colorbar": {
             "outlinewidth": 0,
             "ticks": ""
            },
            "colorscale": [
             [
              0.0,
              "#0d0887"
             ],
             [
              0.1111111111111111,
              "#46039f"
             ],
             [
              0.2222222222222222,
              "#7201a8"
             ],
             [
              0.3333333333333333,
              "#9c179e"
             ],
             [
              0.4444444444444444,
              "#bd3786"
             ],
             [
              0.5555555555555556,
              "#d8576b"
             ],
             [
              0.6666666666666666,
              "#ed7953"
             ],
             [
              0.7777777777777778,
              "#fb9f3a"
             ],
             [
              0.8888888888888888,
              "#fdca26"
             ],
             [
              1.0,
              "#f0f921"
             ]
            ]
           }
          ],
          "surface": [
           {
            "type": "surface",
            "colorbar": {
             "outlinewidth": 0,
             "ticks": ""
            },
            "colorscale": [
             [
              0.0,
              "#0d0887"
             ],
             [
              0.1111111111111111,
              "#46039f"
             ],
             [
              0.2222222222222222,
              "#7201a8"
             ],
             [
              0.3333333333333333,
              "#9c179e"
             ],
             [
              0.4444444444444444,
              "#bd3786"
             ],
             [
              0.5555555555555556,
              "#d8576b"
             ],
             [
              0.6666666666666666,
              "#ed7953"
             ],
             [
              0.7777777777777778,
              "#fb9f3a"
             ],
             [
              0.8888888888888888,
              "#fdca26"
             ],
             [
              1.0,
              "#f0f921"
             ]
            ]
           }
          ],
          "mesh3d": [
           {
            "type": "mesh3d",
            "colorbar": {
             "outlinewidth": 0,
             "ticks": ""
            }
           }
          ],
          "scatter": [
           {
            "marker": {
             "line": {
              "color": "#283442"
             }
            },
            "type": "scatter"
           }
          ],
          "parcoords": [
           {
            "type": "parcoords",
            "line": {
             "colorbar": {
              "outlinewidth": 0,
              "ticks": ""
             }
            }
           }
          ],
          "scatterpolargl": [
           {
            "type": "scatterpolargl",
            "marker": {
             "colorbar": {
              "outlinewidth": 0,
              "ticks": ""
             }
            }
           }
          ],
          "bar": [
           {
            "error_x": {
             "color": "#f2f5fa"
            },
            "error_y": {
             "color": "#f2f5fa"
            },
            "marker": {
             "line": {
              "color": "rgb(17,17,17)",
              "width": 0.5
             },
             "pattern": {
              "fillmode": "overlay",
              "size": 10,
              "solidity": 0.2
             }
            },
            "type": "bar"
           }
          ],
          "scattergeo": [
           {
            "type": "scattergeo",
            "marker": {
             "colorbar": {
              "outlinewidth": 0,
              "ticks": ""
             }
            }
           }
          ],
          "scatterpolar": [
           {
            "type": "scatterpolar",
            "marker": {
             "colorbar": {
              "outlinewidth": 0,
              "ticks": ""
             }
            }
           }
          ],
          "histogram": [
           {
            "marker": {
             "pattern": {
              "fillmode": "overlay",
              "size": 10,
              "solidity": 0.2
             }
            },
            "type": "histogram"
           }
          ],
          "scattergl": [
           {
            "marker": {
             "line": {
              "color": "#283442"
             }
            },
            "type": "scattergl"
           }
          ],
          "scatter3d": [
           {
            "type": "scatter3d",
            "line": {
             "colorbar": {
              "outlinewidth": 0,
              "ticks": ""
             }
            },
            "marker": {
             "colorbar": {
              "outlinewidth": 0,
              "ticks": ""
             }
            }
           }
          ],
          "scattermap": [
           {
            "type": "scattermap",
            "marker": {
             "colorbar": {
              "outlinewidth": 0,
              "ticks": ""
             }
            }
           }
          ],
          "scattermapbox": [
           {
            "type": "scattermapbox",
            "marker": {
             "colorbar": {
              "outlinewidth": 0,
              "ticks": ""
             }
            }
           }
          ],
          "scatterternary": [
           {
            "type": "scatterternary",
            "marker": {
             "colorbar": {
              "outlinewidth": 0,
              "ticks": ""
             }
            }
           }
          ],
          "scattercarpet": [
           {
            "type": "scattercarpet",
            "marker": {
             "colorbar": {
              "outlinewidth": 0,
              "ticks": ""
             }
            }
           }
          ],
          "carpet": [
           {
            "aaxis": {
             "endlinecolor": "#A2B1C6",
             "gridcolor": "#506784",
             "linecolor": "#506784",
             "minorgridcolor": "#506784",
             "startlinecolor": "#A2B1C6"
            },
            "baxis": {
             "endlinecolor": "#A2B1C6",
             "gridcolor": "#506784",
             "linecolor": "#506784",
             "minorgridcolor": "#506784",
             "startlinecolor": "#A2B1C6"
            },
            "type": "carpet"
           }
          ],
          "table": [
           {
            "cells": {
             "fill": {
              "color": "#506784"
             },
             "line": {
              "color": "rgb(17,17,17)"
             }
            },
            "header": {
             "fill": {
              "color": "#2a3f5f"
             },
             "line": {
              "color": "rgb(17,17,17)"
             }
            },
            "type": "table"
           }
          ],
          "barpolar": [
           {
            "marker": {
             "line": {
              "color": "rgb(17,17,17)",
              "width": 0.5
             },
             "pattern": {
              "fillmode": "overlay",
              "size": 10,
              "solidity": 0.2
             }
            },
            "type": "barpolar"
           }
          ],
          "pie": [
           {
            "automargin": true,
            "type": "pie"
           }
          ]
         },
         "layout": {
          "autotypenumbers": "strict",
          "colorway": [
           "#636efa",
           "#EF553B",
           "#00cc96",
           "#ab63fa",
           "#FFA15A",
           "#19d3f3",
           "#FF6692",
           "#B6E880",
           "#FF97FF",
           "#FECB52"
          ],
          "font": {
           "color": "#f2f5fa"
          },
          "hovermode": "closest",
          "hoverlabel": {
           "align": "left"
          },
          "paper_bgcolor": "rgb(17,17,17)",
          "plot_bgcolor": "rgb(17,17,17)",
          "polar": {
           "bgcolor": "rgb(17,17,17)",
           "angularaxis": {
            "gridcolor": "#506784",
            "linecolor": "#506784",
            "ticks": ""
           },
           "radialaxis": {
            "gridcolor": "#506784",
            "linecolor": "#506784",
            "ticks": ""
           }
          },
          "ternary": {
           "bgcolor": "rgb(17,17,17)",
           "aaxis": {
            "gridcolor": "#506784",
            "linecolor": "#506784",
            "ticks": ""
           },
           "baxis": {
            "gridcolor": "#506784",
            "linecolor": "#506784",
            "ticks": ""
           },
           "caxis": {
            "gridcolor": "#506784",
            "linecolor": "#506784",
            "ticks": ""
           }
          },
          "coloraxis": {
           "colorbar": {
            "outlinewidth": 0,
            "ticks": ""
           }
          },
          "colorscale": {
           "sequential": [
            [
             0.0,
             "#0d0887"
            ],
            [
             0.1111111111111111,
             "#46039f"
            ],
            [
             0.2222222222222222,
             "#7201a8"
            ],
            [
             0.3333333333333333,
             "#9c179e"
            ],
            [
             0.4444444444444444,
             "#bd3786"
            ],
            [
             0.5555555555555556,
             "#d8576b"
            ],
            [
             0.6666666666666666,
             "#ed7953"
            ],
            [
             0.7777777777777778,
             "#fb9f3a"
            ],
            [
             0.8888888888888888,
             "#fdca26"
            ],
            [
             1.0,
             "#f0f921"
            ]
           ],
           "sequentialminus": [
            [
             0.0,
             "#0d0887"
            ],
            [
             0.1111111111111111,
             "#46039f"
            ],
            [
             0.2222222222222222,
             "#7201a8"
            ],
            [
             0.3333333333333333,
             "#9c179e"
            ],
            [
             0.4444444444444444,
             "#bd3786"
            ],
            [
             0.5555555555555556,
             "#d8576b"
            ],
            [
             0.6666666666666666,
             "#ed7953"
            ],
            [
             0.7777777777777778,
             "#fb9f3a"
            ],
            [
             0.8888888888888888,
             "#fdca26"
            ],
            [
             1.0,
             "#f0f921"
            ]
           ],
           "diverging": [
            [
             0,
             "#8e0152"
            ],
            [
             0.1,
             "#c51b7d"
            ],
            [
             0.2,
             "#de77ae"
            ],
            [
             0.3,
             "#f1b6da"
            ],
            [
             0.4,
             "#fde0ef"
            ],
            [
             0.5,
             "#f7f7f7"
            ],
            [
             0.6,
             "#e6f5d0"
            ],
            [
             0.7,
             "#b8e186"
            ],
            [
             0.8,
             "#7fbc41"
            ],
            [
             0.9,
             "#4d9221"
            ],
            [
             1,
             "#276419"
            ]
           ]
          },
          "xaxis": {
           "gridcolor": "#283442",
           "linecolor": "#506784",
           "ticks": "",
           "title": {
            "standoff": 15
           },
           "zerolinecolor": "#283442",
           "automargin": true,
           "zerolinewidth": 2
          },
          "yaxis": {
           "gridcolor": "#283442",
           "linecolor": "#506784",
           "ticks": "",
           "title": {
            "standoff": 15
           },
           "zerolinecolor": "#283442",
           "automargin": true,
           "zerolinewidth": 2
          },
          "scene": {
           "xaxis": {
            "backgroundcolor": "rgb(17,17,17)",
            "gridcolor": "#506784",
            "linecolor": "#506784",
            "showbackground": true,
            "ticks": "",
            "zerolinecolor": "#C8D4E3",
            "gridwidth": 2
           },
           "yaxis": {
            "backgroundcolor": "rgb(17,17,17)",
            "gridcolor": "#506784",
            "linecolor": "#506784",
            "showbackground": true,
            "ticks": "",
            "zerolinecolor": "#C8D4E3",
            "gridwidth": 2
           },
           "zaxis": {
            "backgroundcolor": "rgb(17,17,17)",
            "gridcolor": "#506784",
            "linecolor": "#506784",
            "showbackground": true,
            "ticks": "",
            "zerolinecolor": "#C8D4E3",
            "gridwidth": 2
           }
          },
          "shapedefaults": {
           "line": {
            "color": "#f2f5fa"
           }
          },
          "annotationdefaults": {
           "arrowcolor": "#f2f5fa",
           "arrowhead": 0,
           "arrowwidth": 1
          },
          "geo": {
           "bgcolor": "rgb(17,17,17)",
           "landcolor": "rgb(17,17,17)",
           "subunitcolor": "#506784",
           "showland": true,
           "showlakes": true,
           "lakecolor": "rgb(17,17,17)"
          },
          "title": {
           "x": 0.05
          },
          "updatemenudefaults": {
           "bgcolor": "#506784",
           "borderwidth": 0
          },
          "sliderdefaults": {
           "bgcolor": "#C8D4E3",
           "borderwidth": 1,
           "bordercolor": "rgb(17,17,17)",
           "tickwidth": 0
          },
          "mapbox": {
           "style": "dark"
          }
         }
        },
        "xaxis": {
         "anchor": "y",
         "domain": [
          0.0,
          0.45
         ],
         "title": {
          "text": "Tournament Size"
         }
        },
        "yaxis": {
         "anchor": "x",
         "domain": [
          0.0,
          1.0
         ],
         "title": {
          "text": "Selection Bias (%)"
         }
        },
        "xaxis2": {
         "anchor": "y2",
         "domain": [
          0.55,
          1.0
         ],
         "title": {
          "text": "Tournament Size"
         }
        },
        "yaxis2": {
         "anchor": "x2",
         "domain": [
          0.0,
          1.0
         ],
         "title": {
          "text": "Top Half Selections (%)"
         }
        },
        "annotations": [
         {
          "font": {
           "size": 16
          },
          "showarrow": false,
          "text": "Selection Bias vs Tournament Size",
          "x": 0.225,
          "xanchor": "center",
          "xref": "paper",
          "y": 1.0,
          "yanchor": "bottom",
          "yref": "paper"
         },
         {
          "font": {
           "size": 16
          },
          "showarrow": false,
          "text": "Top Half Selections vs Tournament Size",
          "x": 0.775,
          "xanchor": "center",
          "xref": "paper",
          "y": 1.0,
          "yanchor": "bottom",
          "yref": "paper"
         }
        ],
        "shapes": [
         {
          "line": {
           "color": "gray",
           "dash": "dash"
          },
          "type": "line",
          "x0": 0,
          "x1": 1,
          "xref": "x domain",
          "y0": 0,
          "y1": 0,
          "yref": "y"
         },
         {
          "line": {
           "color": "gray",
           "dash": "dash"
          },
          "type": "line",
          "x0": 0,
          "x1": 1,
          "xref": "x2 domain",
          "y0": 50,
          "y1": 50,
          "yref": "y2"
         }
        ],
        "title": {
         "text": "Tournament Size Effects on Selection Pressure"
        },
        "height": 400,
        "width": 1000,
        "showlegend": false
       },
       "config": {
        "plotlyServerURL": "https://plot.ly"
       }
      }
     },
     "metadata": {},
     "output_type": "display_data"
    },
    {
     "name": "stdout",
     "output_type": "stream",
     "text": [
      "\n",
      "📈 Selection Pressure Analysis:\n",
      "   Tournament size 1: Random selection (~50% from top half)\n",
      "   Tournament size 2: Moderate bias toward fitness\n",
      "   Tournament size 5+: Strong bias toward high fitness\n",
      "   Current setting (3): 88.0% from top half\n"
     ]
    }
   ],
   "execution_count": 8
  },
  {
   "cell_type": "markdown",
   "metadata": {},
   "source": [
    "## 7. Performance Scaling"
   ]
  },
  {
   "cell_type": "code",
   "metadata": {
    "ExecuteTime": {
     "end_time": "2025-06-17T10:03:51.552752Z",
     "start_time": "2025-06-17T10:03:51.351092Z"
    }
   },
   "source": [
    "# Test performance with different population and parent sizes\n",
    "print(f\"⚡ Performance Scaling Analysis\")\n",
    "print(f\"   Testing tournament selection performance with different sizes\")\n",
    "\n",
    "performance_tests = [\n",
    "    (50, 10),\n",
    "    (100, 25),\n",
    "    (200, 50),\n",
    "    (500, 100)\n",
    "]\n",
    "\n",
    "performance_results = []\n",
    "\n",
    "for pop_size, num_parents in performance_tests:\n",
    "    # Create test population\n",
    "    test_pop = initialize_population(pop_size, layer_sizes, seed=1)\n",
    "    test_fitness = np.random.random(pop_size).astype(np.float64)\n",
    "    \n",
    "    # Warm up JIT for this size\n",
    "    _ = tournament_selection(test_pop[:5], test_fitness[:5], TOURNAMENT_SIZE, 2, seed=1)\n",
    "    \n",
    "    # Time the selection\n",
    "    start_time = time.time()\n",
    "    for _ in range(10):  # Multiple runs for better timing\n",
    "        _ = tournament_selection(test_pop, test_fitness, TOURNAMENT_SIZE, num_parents, seed=1)\n",
    "    avg_time = (time.time() - start_time) / 10\n",
    "    \n",
    "    selections_per_sec = num_parents / avg_time\n",
    "    performance_results.append({\n",
    "        'pop_size': pop_size,\n",
    "        'num_parents': num_parents,\n",
    "        'time': avg_time,\n",
    "        'selections_per_sec': selections_per_sec\n",
    "    })\n",
    "    \n",
    "    print(f\"   Pop {pop_size}, Parents {num_parents}: {avg_time*1000:.2f}ms ({selections_per_sec:.0f} selections/s)\")\n",
    "\n",
    "# Visualize performance scaling\n",
    "pop_sizes = [r['pop_size'] for r in performance_results]\n",
    "times = [r['time'] for r in performance_results]\n",
    "throughputs = [r['selections_per_sec'] for r in performance_results]\n",
    "\n",
    "fig = make_subplots(\n",
    "    rows=1, cols=2,\n",
    "    subplot_titles=['Selection Time vs Population Size', 'Throughput vs Population Size']\n",
    ")\n",
    "\n",
    "fig.add_trace(\n",
    "    go.Scatter(\n",
    "        x=pop_sizes,\n",
    "        y=times,\n",
    "        mode='markers+lines',\n",
    "        name='Selection Time',\n",
    "        marker=dict(color='blue', size=8),\n",
    "        line=dict(color='blue')\n",
    "    ),\n",
    "    row=1, col=1\n",
    ")\n",
    "\n",
    "fig.add_trace(\n",
    "    go.Scatter(\n",
    "        x=pop_sizes,\n",
    "        y=throughputs,\n",
    "        mode='markers+lines',\n",
    "        name='Throughput',\n",
    "        marker=dict(color='green', size=8),\n",
    "        line=dict(color='green')\n",
    "    ),\n",
    "    row=1, col=2\n",
    ")\n",
    "\n",
    "fig.update_xaxes(title_text=\"Population Size\", row=1, col=1)\n",
    "fig.update_xaxes(title_text=\"Population Size\", row=1, col=2)\n",
    "fig.update_yaxes(title_text=\"Time (seconds)\", row=1, col=1)\n",
    "fig.update_yaxes(title_text=\"Selections/Second\", row=1, col=2)\n",
    "\n",
    "fig.update_layout(\n",
    "    title=\"Tournament Selection Performance Scaling\",\n",
    "    height=400,\n",
    "    width=1000,\n",
    "    showlegend=False\n",
    ")\n",
    "\n",
    "fig.show()\n",
    "\n",
    "print(f\"\\n📊 Performance Summary:\")\n",
    "print(f\"   Tournament selection scales excellently with population size\")\n",
    "print(f\"   Current configuration: {NUM_PARENTS/selection_time:.0f} selections/second\")\n",
    "print(f\"   Ready for large-scale genetic algorithm operations\")"
   ],
   "outputs": [
    {
     "name": "stdout",
     "output_type": "stream",
     "text": [
      "⚡ Performance Scaling Analysis\n",
      "   Testing tournament selection performance with different sizes\n",
      "   Pop 50, Parents 10: 0.14ms (71332 selections/s)\n",
      "   Pop 100, Parents 25: 0.32ms (78911 selections/s)\n",
      "   Pop 200, Parents 50: 0.33ms (153267 selections/s)\n",
      "   Pop 500, Parents 100: 0.65ms (154612 selections/s)\n"
     ]
    },
    {
     "data": {
      "application/vnd.plotly.v1+json": {
       "data": [
        {
         "line": {
          "color": "blue"
         },
         "marker": {
          "color": "blue",
          "size": 8
         },
         "mode": "markers+lines",
         "name": "Selection Time",
         "x": [
          50,
          100,
          200,
          500
         ],
         "y": [
          1.4019012451171875E-4,
          3.1681060791015624E-4,
          3.2622814178466796E-4,
          6.467819213867188E-4
         ],
         "type": "scatter",
         "xaxis": "x",
         "yaxis": "y"
        },
        {
         "line": {
          "color": "green"
         },
         "marker": {
          "color": "green",
          "size": 8
         },
         "mode": "markers+lines",
         "name": "Throughput",
         "x": [
          50,
          100,
          200,
          500
         ],
         "y": [
          71331.70068027212,
          78911.49909692956,
          153266.9736168969,
          154611.61899144793
         ],
         "type": "scatter",
         "xaxis": "x2",
         "yaxis": "y2"
        }
       ],
       "layout": {
        "template": {
         "data": {
          "histogram2dcontour": [
           {
            "type": "histogram2dcontour",
            "colorbar": {
             "outlinewidth": 0,
             "ticks": ""
            },
            "colorscale": [
             [
              0.0,
              "#0d0887"
             ],
             [
              0.1111111111111111,
              "#46039f"
             ],
             [
              0.2222222222222222,
              "#7201a8"
             ],
             [
              0.3333333333333333,
              "#9c179e"
             ],
             [
              0.4444444444444444,
              "#bd3786"
             ],
             [
              0.5555555555555556,
              "#d8576b"
             ],
             [
              0.6666666666666666,
              "#ed7953"
             ],
             [
              0.7777777777777778,
              "#fb9f3a"
             ],
             [
              0.8888888888888888,
              "#fdca26"
             ],
             [
              1.0,
              "#f0f921"
             ]
            ]
           }
          ],
          "choropleth": [
           {
            "type": "choropleth",
            "colorbar": {
             "outlinewidth": 0,
             "ticks": ""
            }
           }
          ],
          "histogram2d": [
           {
            "type": "histogram2d",
            "colorbar": {
             "outlinewidth": 0,
             "ticks": ""
            },
            "colorscale": [
             [
              0.0,
              "#0d0887"
             ],
             [
              0.1111111111111111,
              "#46039f"
             ],
             [
              0.2222222222222222,
              "#7201a8"
             ],
             [
              0.3333333333333333,
              "#9c179e"
             ],
             [
              0.4444444444444444,
              "#bd3786"
             ],
             [
              0.5555555555555556,
              "#d8576b"
             ],
             [
              0.6666666666666666,
              "#ed7953"
             ],
             [
              0.7777777777777778,
              "#fb9f3a"
             ],
             [
              0.8888888888888888,
              "#fdca26"
             ],
             [
              1.0,
              "#f0f921"
             ]
            ]
           }
          ],
          "heatmap": [
           {
            "type": "heatmap",
            "colorbar": {
             "outlinewidth": 0,
             "ticks": ""
            },
            "colorscale": [
             [
              0.0,
              "#0d0887"
             ],
             [
              0.1111111111111111,
              "#46039f"
             ],
             [
              0.2222222222222222,
              "#7201a8"
             ],
             [
              0.3333333333333333,
              "#9c179e"
             ],
             [
              0.4444444444444444,
              "#bd3786"
             ],
             [
              0.5555555555555556,
              "#d8576b"
             ],
             [
              0.6666666666666666,
              "#ed7953"
             ],
             [
              0.7777777777777778,
              "#fb9f3a"
             ],
             [
              0.8888888888888888,
              "#fdca26"
             ],
             [
              1.0,
              "#f0f921"
             ]
            ]
           }
          ],
          "contourcarpet": [
           {
            "type": "contourcarpet",
            "colorbar": {
             "outlinewidth": 0,
             "ticks": ""
            }
           }
          ],
          "contour": [
           {
            "type": "contour",
            "colorbar": {
             "outlinewidth": 0,
             "ticks": ""
            },
            "colorscale": [
             [
              0.0,
              "#0d0887"
             ],
             [
              0.1111111111111111,
              "#46039f"
             ],
             [
              0.2222222222222222,
              "#7201a8"
             ],
             [
              0.3333333333333333,
              "#9c179e"
             ],
             [
              0.4444444444444444,
              "#bd3786"
             ],
             [
              0.5555555555555556,
              "#d8576b"
             ],
             [
              0.6666666666666666,
              "#ed7953"
             ],
             [
              0.7777777777777778,
              "#fb9f3a"
             ],
             [
              0.8888888888888888,
              "#fdca26"
             ],
             [
              1.0,
              "#f0f921"
             ]
            ]
           }
          ],
          "surface": [
           {
            "type": "surface",
            "colorbar": {
             "outlinewidth": 0,
             "ticks": ""
            },
            "colorscale": [
             [
              0.0,
              "#0d0887"
             ],
             [
              0.1111111111111111,
              "#46039f"
             ],
             [
              0.2222222222222222,
              "#7201a8"
             ],
             [
              0.3333333333333333,
              "#9c179e"
             ],
             [
              0.4444444444444444,
              "#bd3786"
             ],
             [
              0.5555555555555556,
              "#d8576b"
             ],
             [
              0.6666666666666666,
              "#ed7953"
             ],
             [
              0.7777777777777778,
              "#fb9f3a"
             ],
             [
              0.8888888888888888,
              "#fdca26"
             ],
             [
              1.0,
              "#f0f921"
             ]
            ]
           }
          ],
          "mesh3d": [
           {
            "type": "mesh3d",
            "colorbar": {
             "outlinewidth": 0,
             "ticks": ""
            }
           }
          ],
          "scatter": [
           {
            "marker": {
             "line": {
              "color": "#283442"
             }
            },
            "type": "scatter"
           }
          ],
          "parcoords": [
           {
            "type": "parcoords",
            "line": {
             "colorbar": {
              "outlinewidth": 0,
              "ticks": ""
             }
            }
           }
          ],
          "scatterpolargl": [
           {
            "type": "scatterpolargl",
            "marker": {
             "colorbar": {
              "outlinewidth": 0,
              "ticks": ""
             }
            }
           }
          ],
          "bar": [
           {
            "error_x": {
             "color": "#f2f5fa"
            },
            "error_y": {
             "color": "#f2f5fa"
            },
            "marker": {
             "line": {
              "color": "rgb(17,17,17)",
              "width": 0.5
             },
             "pattern": {
              "fillmode": "overlay",
              "size": 10,
              "solidity": 0.2
             }
            },
            "type": "bar"
           }
          ],
          "scattergeo": [
           {
            "type": "scattergeo",
            "marker": {
             "colorbar": {
              "outlinewidth": 0,
              "ticks": ""
             }
            }
           }
          ],
          "scatterpolar": [
           {
            "type": "scatterpolar",
            "marker": {
             "colorbar": {
              "outlinewidth": 0,
              "ticks": ""
             }
            }
           }
          ],
          "histogram": [
           {
            "marker": {
             "pattern": {
              "fillmode": "overlay",
              "size": 10,
              "solidity": 0.2
             }
            },
            "type": "histogram"
           }
          ],
          "scattergl": [
           {
            "marker": {
             "line": {
              "color": "#283442"
             }
            },
            "type": "scattergl"
           }
          ],
          "scatter3d": [
           {
            "type": "scatter3d",
            "line": {
             "colorbar": {
              "outlinewidth": 0,
              "ticks": ""
             }
            },
            "marker": {
             "colorbar": {
              "outlinewidth": 0,
              "ticks": ""
             }
            }
           }
          ],
          "scattermap": [
           {
            "type": "scattermap",
            "marker": {
             "colorbar": {
              "outlinewidth": 0,
              "ticks": ""
             }
            }
           }
          ],
          "scattermapbox": [
           {
            "type": "scattermapbox",
            "marker": {
             "colorbar": {
              "outlinewidth": 0,
              "ticks": ""
             }
            }
           }
          ],
          "scatterternary": [
           {
            "type": "scatterternary",
            "marker": {
             "colorbar": {
              "outlinewidth": 0,
              "ticks": ""
             }
            }
           }
          ],
          "scattercarpet": [
           {
            "type": "scattercarpet",
            "marker": {
             "colorbar": {
              "outlinewidth": 0,
              "ticks": ""
             }
            }
           }
          ],
          "carpet": [
           {
            "aaxis": {
             "endlinecolor": "#A2B1C6",
             "gridcolor": "#506784",
             "linecolor": "#506784",
             "minorgridcolor": "#506784",
             "startlinecolor": "#A2B1C6"
            },
            "baxis": {
             "endlinecolor": "#A2B1C6",
             "gridcolor": "#506784",
             "linecolor": "#506784",
             "minorgridcolor": "#506784",
             "startlinecolor": "#A2B1C6"
            },
            "type": "carpet"
           }
          ],
          "table": [
           {
            "cells": {
             "fill": {
              "color": "#506784"
             },
             "line": {
              "color": "rgb(17,17,17)"
             }
            },
            "header": {
             "fill": {
              "color": "#2a3f5f"
             },
             "line": {
              "color": "rgb(17,17,17)"
             }
            },
            "type": "table"
           }
          ],
          "barpolar": [
           {
            "marker": {
             "line": {
              "color": "rgb(17,17,17)",
              "width": 0.5
             },
             "pattern": {
              "fillmode": "overlay",
              "size": 10,
              "solidity": 0.2
             }
            },
            "type": "barpolar"
           }
          ],
          "pie": [
           {
            "automargin": true,
            "type": "pie"
           }
          ]
         },
         "layout": {
          "autotypenumbers": "strict",
          "colorway": [
           "#636efa",
           "#EF553B",
           "#00cc96",
           "#ab63fa",
           "#FFA15A",
           "#19d3f3",
           "#FF6692",
           "#B6E880",
           "#FF97FF",
           "#FECB52"
          ],
          "font": {
           "color": "#f2f5fa"
          },
          "hovermode": "closest",
          "hoverlabel": {
           "align": "left"
          },
          "paper_bgcolor": "rgb(17,17,17)",
          "plot_bgcolor": "rgb(17,17,17)",
          "polar": {
           "bgcolor": "rgb(17,17,17)",
           "angularaxis": {
            "gridcolor": "#506784",
            "linecolor": "#506784",
            "ticks": ""
           },
           "radialaxis": {
            "gridcolor": "#506784",
            "linecolor": "#506784",
            "ticks": ""
           }
          },
          "ternary": {
           "bgcolor": "rgb(17,17,17)",
           "aaxis": {
            "gridcolor": "#506784",
            "linecolor": "#506784",
            "ticks": ""
           },
           "baxis": {
            "gridcolor": "#506784",
            "linecolor": "#506784",
            "ticks": ""
           },
           "caxis": {
            "gridcolor": "#506784",
            "linecolor": "#506784",
            "ticks": ""
           }
          },
          "coloraxis": {
           "colorbar": {
            "outlinewidth": 0,
            "ticks": ""
           }
          },
          "colorscale": {
           "sequential": [
            [
             0.0,
             "#0d0887"
            ],
            [
             0.1111111111111111,
             "#46039f"
            ],
            [
             0.2222222222222222,
             "#7201a8"
            ],
            [
             0.3333333333333333,
             "#9c179e"
            ],
            [
             0.4444444444444444,
             "#bd3786"
            ],
            [
             0.5555555555555556,
             "#d8576b"
            ],
            [
             0.6666666666666666,
             "#ed7953"
            ],
            [
             0.7777777777777778,
             "#fb9f3a"
            ],
            [
             0.8888888888888888,
             "#fdca26"
            ],
            [
             1.0,
             "#f0f921"
            ]
           ],
           "sequentialminus": [
            [
             0.0,
             "#0d0887"
            ],
            [
             0.1111111111111111,
             "#46039f"
            ],
            [
             0.2222222222222222,
             "#7201a8"
            ],
            [
             0.3333333333333333,
             "#9c179e"
            ],
            [
             0.4444444444444444,
             "#bd3786"
            ],
            [
             0.5555555555555556,
             "#d8576b"
            ],
            [
             0.6666666666666666,
             "#ed7953"
            ],
            [
             0.7777777777777778,
             "#fb9f3a"
            ],
            [
             0.8888888888888888,
             "#fdca26"
            ],
            [
             1.0,
             "#f0f921"
            ]
           ],
           "diverging": [
            [
             0,
             "#8e0152"
            ],
            [
             0.1,
             "#c51b7d"
            ],
            [
             0.2,
             "#de77ae"
            ],
            [
             0.3,
             "#f1b6da"
            ],
            [
             0.4,
             "#fde0ef"
            ],
            [
             0.5,
             "#f7f7f7"
            ],
            [
             0.6,
             "#e6f5d0"
            ],
            [
             0.7,
             "#b8e186"
            ],
            [
             0.8,
             "#7fbc41"
            ],
            [
             0.9,
             "#4d9221"
            ],
            [
             1,
             "#276419"
            ]
           ]
          },
          "xaxis": {
           "gridcolor": "#283442",
           "linecolor": "#506784",
           "ticks": "",
           "title": {
            "standoff": 15
           },
           "zerolinecolor": "#283442",
           "automargin": true,
           "zerolinewidth": 2
          },
          "yaxis": {
           "gridcolor": "#283442",
           "linecolor": "#506784",
           "ticks": "",
           "title": {
            "standoff": 15
           },
           "zerolinecolor": "#283442",
           "automargin": true,
           "zerolinewidth": 2
          },
          "scene": {
           "xaxis": {
            "backgroundcolor": "rgb(17,17,17)",
            "gridcolor": "#506784",
            "linecolor": "#506784",
            "showbackground": true,
            "ticks": "",
            "zerolinecolor": "#C8D4E3",
            "gridwidth": 2
           },
           "yaxis": {
            "backgroundcolor": "rgb(17,17,17)",
            "gridcolor": "#506784",
            "linecolor": "#506784",
            "showbackground": true,
            "ticks": "",
            "zerolinecolor": "#C8D4E3",
            "gridwidth": 2
           },
           "zaxis": {
            "backgroundcolor": "rgb(17,17,17)",
            "gridcolor": "#506784",
            "linecolor": "#506784",
            "showbackground": true,
            "ticks": "",
            "zerolinecolor": "#C8D4E3",
            "gridwidth": 2
           }
          },
          "shapedefaults": {
           "line": {
            "color": "#f2f5fa"
           }
          },
          "annotationdefaults": {
           "arrowcolor": "#f2f5fa",
           "arrowhead": 0,
           "arrowwidth": 1
          },
          "geo": {
           "bgcolor": "rgb(17,17,17)",
           "landcolor": "rgb(17,17,17)",
           "subunitcolor": "#506784",
           "showland": true,
           "showlakes": true,
           "lakecolor": "rgb(17,17,17)"
          },
          "title": {
           "x": 0.05
          },
          "updatemenudefaults": {
           "bgcolor": "#506784",
           "borderwidth": 0
          },
          "sliderdefaults": {
           "bgcolor": "#C8D4E3",
           "borderwidth": 1,
           "bordercolor": "rgb(17,17,17)",
           "tickwidth": 0
          },
          "mapbox": {
           "style": "dark"
          }
         }
        },
        "xaxis": {
         "anchor": "y",
         "domain": [
          0.0,
          0.45
         ],
         "title": {
          "text": "Population Size"
         }
        },
        "yaxis": {
         "anchor": "x",
         "domain": [
          0.0,
          1.0
         ],
         "title": {
          "text": "Time (seconds)"
         }
        },
        "xaxis2": {
         "anchor": "y2",
         "domain": [
          0.55,
          1.0
         ],
         "title": {
          "text": "Population Size"
         }
        },
        "yaxis2": {
         "anchor": "x2",
         "domain": [
          0.0,
          1.0
         ],
         "title": {
          "text": "Selections/Second"
         }
        },
        "annotations": [
         {
          "font": {
           "size": 16
          },
          "showarrow": false,
          "text": "Selection Time vs Population Size",
          "x": 0.225,
          "xanchor": "center",
          "xref": "paper",
          "y": 1.0,
          "yanchor": "bottom",
          "yref": "paper"
         },
         {
          "font": {
           "size": 16
          },
          "showarrow": false,
          "text": "Throughput vs Population Size",
          "x": 0.775,
          "xanchor": "center",
          "xref": "paper",
          "y": 1.0,
          "yanchor": "bottom",
          "yref": "paper"
         }
        ],
        "title": {
         "text": "Tournament Selection Performance Scaling"
        },
        "height": 400,
        "width": 1000,
        "showlegend": false
       },
       "config": {
        "plotlyServerURL": "https://plot.ly"
       }
      }
     },
     "metadata": {},
     "output_type": "display_data"
    },
    {
     "name": "stdout",
     "output_type": "stream",
     "text": [
      "\n",
      "📊 Performance Summary:\n",
      "   Tournament selection scales excellently with population size\n",
      "   Current configuration: 70611 selections/second\n",
      "   Ready for large-scale genetic algorithm operations\n"
     ]
    }
   ],
   "execution_count": 9
  },
  {
   "cell_type": "markdown",
   "metadata": {},
   "source": [
    "## 8. Summary & Next Steps"
   ]
  },
  {
   "cell_type": "code",
   "metadata": {
    "ExecuteTime": {
     "end_time": "2025-06-17T10:03:51.567561Z",
     "start_time": "2025-06-17T10:03:51.563417Z"
    }
   },
   "source": [
    "print(f\"📊 TOURNAMENT SELECTION SUMMARY\")\n",
    "print(f\"=\" * 50)\n",
    "\n",
    "print(f\"\\n🔧 Configuration Used:\")\n",
    "print(f\"   Population size: {POPULATION_SIZE}\")\n",
    "print(f\"   Architecture: {' -> '.join(map(str, LAYER_SIZES))}\")\n",
    "print(f\"   Tournament size: {TOURNAMENT_SIZE}\")\n",
    "print(f\"   Parents selected: {NUM_PARENTS} ({NUM_PARENTS/POPULATION_SIZE*100:.0f}%)\")\n",
    "print(f\"   Total parameters: {total_params:,}\")\n",
    "\n",
    "print(f\"\\n🏆 Selection Results:\")\n",
    "selection_bias = ((np.mean(selected_fitness) / np.mean(fitness_scores)) - 1) * 100\n",
    "print(f\"   Selection bias: {selection_bias:.1f}% toward higher fitness\")\n",
    "print(f\"   Population mean fitness: {np.mean(fitness_scores):.3f}\")\n",
    "print(f\"   Selected mean fitness: {np.mean(selected_fitness):.3f}\")\n",
    "print(f\"   Best individual selected: {'✅' if np.argmax(fitness_scores) in selected_indices else '❌'}\")\n",
    "print(f\"   Unique parents: {len(np.unique(selected_indices))}/{NUM_PARENTS}\")\n",
    "\n",
    "print(f\"\\n⚡ Performance Metrics:\")\n",
    "print(f\"   Selection time: {selection_time:.6f} seconds\")\n",
    "print(f\"   Throughput: {NUM_PARENTS / selection_time:.0f} selections/second\")\n",
    "print(f\"   Time per selection: {selection_time / NUM_PARENTS * 1000:.3f} ms\")\n",
    "\n",
    "print(f\"\\n📊 Selection Pressure Analysis:\")\n",
    "top_half_selected = np.sum(selected_indices >= POPULATION_SIZE // 2)\n",
    "print(f\"   Tournament size {TOURNAMENT_SIZE}: {'Low' if TOURNAMENT_SIZE <= 2 else 'Medium' if TOURNAMENT_SIZE <= 4 else 'High'} selection pressure\")\n",
    "print(f\"   Top half selections: {top_half_selected}/{NUM_PARENTS} ({top_half_selected/NUM_PARENTS*100:.1f}%)\")\n",
    "print(f\"   Expected for random: ~50%\")\n",
    "\n",
    "print(f\"\\n🧬 Genetic Algorithm Readiness:\")\n",
    "print(f\"   ✅ Tournament selection working perfectly\")\n",
    "print(f\"   ✅ Configurable selection pressure\")\n",
    "print(f\"   ✅ High-performance implementation\")\n",
    "print(f\"   ✅ Bias toward fitness confirmed\")\n",
    "print(f\"   ✅ Scalable to large populations\")\n",
    "\n",
    "print(f\"\\n📈 Next Steps:\")\n",
    "print(f\"   1. Crossover operations (breed selected parents)\")\n",
    "print(f\"   2. Mutation operations (add genetic diversity)\")\n",
    "print(f\"   3. Population replacement strategies\")\n",
    "print(f\"   4. Complete evolutionary loop\")\n",
    "print(f\"   5. Multi-generational optimization\")\n",
    "\n",
    "print(f\"\\n✅ TOURNAMENT SELECTION COMPLETE!\")\n",
    "print(f\"   🎯 Parents selected based on fitness\")\n",
    "print(f\"   📊 Selection pressure configurable and working\")\n",
    "print(f\"   ⚡ Performance optimized for genetic algorithms\")\n",
    "print(f\"   🔬 Ready for crossover and mutation operations\")"
   ],
   "outputs": [
    {
     "name": "stdout",
     "output_type": "stream",
     "text": [
      "📊 TOURNAMENT SELECTION SUMMARY\n",
      "==================================================\n",
      "\n",
      "🔧 Configuration Used:\n",
      "   Population size: 100\n",
      "   Architecture: 1 -> 100 -> 200 -> 3\n",
      "   Tournament size: 3\n",
      "   Parents selected: 50 (50%)\n",
      "   Total parameters: 21,306\n",
      "\n",
      "🏆 Selection Results:\n",
      "   Selection bias: 13.8% toward higher fitness\n",
      "   Population mean fitness: 1.045\n",
      "   Selected mean fitness: 1.189\n",
      "   Best individual selected: ✅\n",
      "   Unique parents: 33/50\n",
      "\n",
      "⚡ Performance Metrics:\n",
      "   Selection time: 0.000708 seconds\n",
      "   Throughput: 70611 selections/second\n",
      "   Time per selection: 0.014 ms\n",
      "\n",
      "📊 Selection Pressure Analysis:\n",
      "   Tournament size 3: Medium selection pressure\n",
      "   Top half selections: 43/50 (86.0%)\n",
      "   Expected for random: ~50%\n",
      "\n",
      "🧬 Genetic Algorithm Readiness:\n",
      "   ✅ Tournament selection working perfectly\n",
      "   ✅ Configurable selection pressure\n",
      "   ✅ High-performance implementation\n",
      "   ✅ Bias toward fitness confirmed\n",
      "   ✅ Scalable to large populations\n",
      "\n",
      "📈 Next Steps:\n",
      "   1. Crossover operations (breed selected parents)\n",
      "   2. Mutation operations (add genetic diversity)\n",
      "   3. Population replacement strategies\n",
      "   4. Complete evolutionary loop\n",
      "   5. Multi-generational optimization\n",
      "\n",
      "✅ TOURNAMENT SELECTION COMPLETE!\n",
      "   🎯 Parents selected based on fitness\n",
      "   📊 Selection pressure configurable and working\n",
      "   ⚡ Performance optimized for genetic algorithms\n",
      "   🔬 Ready for crossover and mutation operations\n"
     ]
    }
   ],
   "execution_count": 10
  }
 ],
 "metadata": {
  "kernelspec": {
   "display_name": "Python 3",
   "language": "python",
   "name": "python3"
  },
  "language_info": {
   "codemirror_mode": {
    "name": "ipython",
    "version": 3
   },
   "file_extension": ".py",
   "mimetype": "text/x-python",
   "name": "python",
   "nbconvert_exporter": "python",
   "pygments_lexer": "ipython3",
   "version": "3.8.5"
  }
 },
 "nbformat": 4,
 "nbformat_minor": 4
}
