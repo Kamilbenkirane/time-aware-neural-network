{
 "cells": [
  {
   "cell_type": "code",
   "id": "initial_id",
   "metadata": {
    "collapsed": true,
    "ExecuteTime": {
     "end_time": "2025-06-16T14:07:28.943174Z",
     "start_time": "2025-06-16T14:07:28.940870Z"
    }
   },
   "source": [
    "from src.evolution.nb_individual_pure import initialize_individual_weights, create_individual_nn_state, \\\n",
    "    get_individual_action\n",
    "\n",
    "weights = initialize_individual_weights(1, 1, 3, seed=42)\n",
    "print(f\"\\nInitialized weights: {len(weights)} values\")\n",
    "\n",
    "# Test neural network operations\n",
    "nn_state = create_individual_nn_state(1, 3)\n",
    "action, nn_state = get_individual_action(weights, 0.5, 1.0, nn_state, 1, 1, 3, 1.0)"
   ],
   "outputs": [
    {
     "name": "stdout",
     "output_type": "stream",
     "text": [
      "\n",
      "Initialized weights: 8 values\n"
     ]
    }
   ],
   "execution_count": 5
  },
  {
   "metadata": {
    "ExecuteTime": {
     "end_time": "2025-06-16T14:07:29.652512Z",
     "start_time": "2025-06-16T14:07:29.649566Z"
    }
   },
   "cell_type": "code",
   "source": "nn_state",
   "id": "d74e67b75e597596",
   "outputs": [
    {
     "data": {
      "text/plain": [
       "(array([0.03301583]), 1.0, array([-0.06373937,  0.45330248,  0.22404532]), 1.0)"
      ]
     },
     "execution_count": 6,
     "metadata": {},
     "output_type": "execute_result"
    }
   ],
   "execution_count": 6
  },
  {
   "metadata": {
    "ExecuteTime": {
     "end_time": "2025-06-16T14:07:30.080148Z",
     "start_time": "2025-06-16T14:07:30.076980Z"
    }
   },
   "cell_type": "code",
   "source": "weights",
   "id": "3c4c8ffc5df9883b",
   "outputs": [
    {
     "data": {
      "text/plain": [
       "array([ 0.14901425, -0.04147929,  0.19430656,  0.45690896, -0.07024601,\n",
       "       -0.07024109,  0.47376384,  0.23023042])"
      ]
     },
     "execution_count": 7,
     "metadata": {},
     "output_type": "execute_result"
    }
   ],
   "execution_count": 7
  },
  {
   "metadata": {
    "ExecuteTime": {
     "end_time": "2025-06-16T14:29:30.655406Z",
     "start_time": "2025-06-16T14:29:30.492063Z"
    }
   },
   "cell_type": "code",
   "source": [
    "import numpy as np\n",
    "from numba import njit, prange\n",
    "import time\n",
    "\n",
    "# Test 1: Sequential version (should always work)\n",
    "@njit(fastmath=True, cache=True)\n",
    "def test_sequential(arr):\n",
    "  result = np.empty(len(arr), dtype=np.float64)\n",
    "  for i in range(len(arr)):\n",
    "      result[i] = arr[i] * arr[i] + np.sin(arr[i])\n",
    "  return result\n",
    "\n",
    "# Test 2: Parallel version (might crash with SIGSEGV)\n",
    "@njit(fastmath=True, cache=True, parallel=True)\n",
    "def test_parallel(arr):\n",
    "  result = np.empty(len(arr), dtype=np.float64)\n",
    "  for i in prange(len(arr)):\n",
    "      result[i] = arr[i] * arr[i] + np.sin(arr[i])\n",
    "  return result\n",
    "\n",
    "# Test data\n",
    "print(\"Creating test data...\")\n",
    "test_array = np.random.randn(10000).astype(np.float64)\n",
    "\n",
    "# Test sequential\n",
    "print(\"Testing sequential version...\")\n",
    "start = time.time()\n",
    "result_seq = test_sequential(test_array)\n",
    "seq_time = time.time() - start\n",
    "print(f\"Sequential: {seq_time:.4f}s - SUCCESS\")\n",
    "\n",
    "# Test parallel (this might crash)\n",
    "print(\"Testing parallel version...\")\n",
    "try:\n",
    "  start = time.time()\n",
    "  result_par = test_parallel(test_array)\n",
    "  par_time = time.time() - start\n",
    "  print(f\"Parallel: {par_time:.4f}s - SUCCESS\")\n",
    "\n",
    "  # Check if results match\n",
    "  if np.allclose(result_seq, result_par):\n",
    "      print(\"✅ Results match - Parallel Numba works!\")\n",
    "  else:\n",
    "      print(\"❌ Results don't match - Race condition detected\")\n",
    "\n",
    "except Exception as e:\n",
    "  print(f\"❌ Parallel version CRASHED: {e}\")\n",
    "\n",
    "# Check Numba threading info\n",
    "print(\"\\nNumba threading info:\")\n",
    "try:\n",
    "  import numba\n",
    "  print(f\"Threading layer: {numba.threading_layer()}\")\n",
    "except:\n",
    "  print(\"Could not get threading layer info\")\n"
   ],
   "id": "4ff4099d3b11b1c7",
   "outputs": [
    {
     "name": "stdout",
     "output_type": "stream",
     "text": [
      "Creating test data...\n",
      "Testing sequential version...\n",
      "Sequential: 0.0753s - SUCCESS\n",
      "Testing parallel version...\n",
      "Parallel: 0.0788s - SUCCESS\n",
      "✅ Results match - Parallel Numba works!\n",
      "\n",
      "Numba threading info:\n",
      "Threading layer: workqueue\n"
     ]
    }
   ],
   "execution_count": 9
  },
  {
   "metadata": {},
   "cell_type": "code",
   "outputs": [],
   "execution_count": null,
   "source": "",
   "id": "875ea2e81cffc7e0"
  }
 ],
 "metadata": {
  "kernelspec": {
   "display_name": "Python 3",
   "language": "python",
   "name": "python3"
  },
  "language_info": {
   "codemirror_mode": {
    "name": "ipython",
    "version": 2
   },
   "file_extension": ".py",
   "mimetype": "text/x-python",
   "name": "python",
   "nbconvert_exporter": "python",
   "pygments_lexer": "ipython2",
   "version": "2.7.6"
  }
 },
 "nbformat": 4,
 "nbformat_minor": 5
}
