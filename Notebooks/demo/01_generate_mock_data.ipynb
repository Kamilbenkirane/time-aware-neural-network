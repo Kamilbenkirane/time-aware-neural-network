{
 "cells": [
  {
   "cell_type": "markdown",
   "id": "cell-0",
   "metadata": {},
   "source": [
    "# Generate Mock Market Data\n",
    "\n",
    "Generate irregular timestamps and realistic price movements for testing."
   ]
  },
  {
   "cell_type": "code",
   "id": "cell-1",
   "metadata": {
    "ExecuteTime": {
     "end_time": "2025-06-19T07:41:49.009551Z",
     "start_time": "2025-06-19T07:41:48.838605Z"
    }
   },
   "source": [
    "import numpy as np\n",
    "import pandas as pd\n",
    "import os"
   ],
   "outputs": [],
   "execution_count": 1
  },
  {
   "cell_type": "markdown",
   "id": "cell-2",
   "metadata": {},
   "source": [
    "## Generate Irregular Timestamps"
   ]
  },
  {
   "cell_type": "code",
   "id": "cell-3",
   "metadata": {
    "ExecuteTime": {
     "end_time": "2025-06-19T07:41:49.085251Z",
     "start_time": "2025-06-19T07:41:49.010033Z"
    }
   },
   "source": [
    "# Simulation network\n",
    "total_duration = 36000  # 1 hour in seconds\n",
    "base_frequency = 2.0   # Average 2 ticks per second\n",
    "burst_probability = 0.02  # 2% chance of burst per second\n",
    "burst_intensity = 20   # 20x normal frequency during bursts\n",
    "burst_duration = 3.0   # Bursts last 3 seconds\n",
    "\n",
    "np.random.seed(42)\n",
    "\n",
    "# Generate irregular timestamps\n",
    "timestamps = []\n",
    "current_time = 0.0\n",
    "\n",
    "while current_time < total_duration:\n",
    "    # Check for burst\n",
    "    if np.random.random() < burst_probability:\n",
    "        # Burst period - high frequency\n",
    "        burst_end = current_time + burst_duration\n",
    "        while current_time < burst_end and current_time < total_duration:\n",
    "            # Much shorter intervals during burst\n",
    "            interval = np.random.exponential(1.0 / (base_frequency * burst_intensity))\n",
    "            current_time += interval\n",
    "            timestamps.append(current_time)\n",
    "    else:\n",
    "        # Normal period\n",
    "        interval = np.random.exponential(1.0 / base_frequency)\n",
    "        current_time += interval\n",
    "        timestamps.append(current_time)\n",
    "\n",
    "timestamps = np.array(timestamps)\n",
    "timestamps = timestamps[timestamps <= total_duration]  # Remove any overflow\n",
    "\n",
    "print(f\"Generated {len(timestamps)} ticks over {total_duration/60:.1f} minutes\")\n",
    "print(f\"Average frequency: {len(timestamps)/total_duration:.2f} ticks/second\")"
   ],
   "outputs": [
    {
     "name": "stdout",
     "output_type": "stream",
     "text": [
      "Generated 223754 ticks over 600.0 minutes\n",
      "Average frequency: 6.22 ticks/second\n"
     ]
    }
   ],
   "execution_count": 2
  },
  {
   "cell_type": "markdown",
   "id": "cell-4",
   "metadata": {},
   "source": [
    "## Generate Realistic Prices"
   ]
  },
  {
   "cell_type": "code",
   "id": "cell-5",
   "metadata": {
    "ExecuteTime": {
     "end_time": "2025-06-19T07:41:49.279974Z",
     "start_time": "2025-06-19T07:41:49.086570Z"
    }
   },
   "source": [
    "# Generate realistic price movements\n",
    "initial_price = 100.0\n",
    "prices = np.zeros(len(timestamps))\n",
    "prices[0] = initial_price\n",
    "\n",
    "for i in range(1, len(timestamps)):\n",
    "    # Simple random walk: small random steps\n",
    "    random_step = np.random.normal(0, 0.05)  # ±5 cents average\n",
    "    \n",
    "    # Add tiny periodic pattern\n",
    "    time_hours = timestamps[i] / 36  # Convert to hours\n",
    "    daily_drift = 0.01 * np.sin(2 * np.pi * time_hours / 24)  # 1 cent daily pattern\n",
    "    \n",
    "    # Update price with small absolute changes\n",
    "    prices[i] = prices[i-1] + random_step + daily_drift\n",
    "\n",
    "print(f\"Price range: ${prices.min():.2f} to ${prices.max():.2f}\")\n",
    "print(f\"Final price: ${prices[-1]:.2f} (change: {(prices[-1]/initial_price-1)*100:+.2f}%)\")"
   ],
   "outputs": [
    {
     "name": "stdout",
     "output_type": "stream",
     "text": [
      "Price range: $64.80 to $133.44\n",
      "Final price: $119.50 (change: +19.50%)\n"
     ]
    }
   ],
   "execution_count": 3
  },
  {
   "cell_type": "markdown",
   "id": "cell-6",
   "metadata": {},
   "source": [
    "## Save to Parquet"
   ]
  },
  {
   "cell_type": "code",
   "id": "cell-7",
   "metadata": {
    "ExecuteTime": {
     "end_time": "2025-06-19T07:41:49.331887Z",
     "start_time": "2025-06-19T07:41:49.280498Z"
    }
   },
   "source": [
    "# Create DataFrame\n",
    "df = pd.DataFrame({\n",
    "    'timestamp': np.array(timestamps* 1000, dtype=np.int64),  # Convert to milliseconds\n",
    "    'price': prices\n",
    "}).drop_duplicates(subset='timestamp').reset_index(drop=True)\n",
    "\n",
    "# Save to root project data directory\n",
    "output_file = '../../data/mock.parquet'\n",
    "os.makedirs('../../data', exist_ok=True)\n",
    "df.to_parquet(output_file, index=False)\n",
    "\n",
    "print(f\"Saved {len(df)} records to {output_file}\")\n",
    "print(f\"File size: {os.path.getsize(output_file) / 1024:.1f} KB\")\n",
    "print(f\"\\nDataFrame info:\")\n",
    "print(df.info())\n",
    "print(f\"\\nFirst 5 rows:\")\n",
    "print(df.head())"
   ],
   "outputs": [
    {
     "name": "stdout",
     "output_type": "stream",
     "text": [
      "Saved 220534 records to ../../data/mock.parquet\n",
      "File size: 3195.7 KB\n",
      "\n",
      "DataFrame info:\n",
      "<class 'pandas.core.frame.DataFrame'>\n",
      "RangeIndex: 220534 entries, 0 to 220533\n",
      "Data columns (total 2 columns):\n",
      " #   Column     Non-Null Count   Dtype  \n",
      "---  ------     --------------   -----  \n",
      " 0   timestamp  220534 non-null  int64  \n",
      " 1   price      220534 non-null  float64\n",
      "dtypes: float64(1), int64(1)\n",
      "memory usage: 3.4 MB\n",
      "None\n",
      "\n",
      "First 5 rows:\n",
      "   timestamp       price\n",
      "0       1505  100.000000\n",
      "1       1961  100.036676\n",
      "2       2046  100.104224\n",
      "3       3051  100.166131\n",
      "4       3667  100.206304\n"
     ]
    }
   ],
   "execution_count": 4
  }
 ],
 "metadata": {
  "kernelspec": {
   "display_name": "Python 3 (ipykernel)",
   "language": "python",
   "name": "python3"
  },
  "language_info": {
   "codemirror_mode": {
    "name": "ipython",
    "version": 3
   },
   "file_extension": ".py",
   "mimetype": "text/x-python",
   "name": "python",
   "nbconvert_exporter": "python",
   "pygments_lexer": "ipython3",
   "version": "3.9.7"
  }
 },
 "nbformat": 4,
 "nbformat_minor": 5
}
