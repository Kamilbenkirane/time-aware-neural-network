{
 "cells": [
  {
   "metadata": {
    "collapsed": true,
    "ExecuteTime": {
     "end_time": "2025-06-19T15:58:32.122436Z",
     "start_time": "2025-06-19T15:58:31.745856Z"
    }
   },
   "cell_type": "markdown",
   "source": "# Setup and Imports",
   "id": "initial_id"
  },
  {
   "cell_type": "code",
   "id": "cd7cm9yeu2",
   "source": [
    "import os\n",
    "from pathlib import Path\n",
    "\n",
    "import numpy as np\n",
    "import polars as pl\n",
    "from dotenv import load_dotenv\n",
    "from numba import config\n",
    "\n",
    "from src.tann.evolution.individual import predict_individual, initialize_individual, individual_actions\n",
    "from src.tann.evolution.population import initialize_population, get_population_actions\n",
    "from src.tann.network.neuron import compute_layer_indices\n",
    "\n",
    "# Auto-reload modules\n",
    "%load_ext autoreload\n",
    "%autoreload 2\n",
    "\n",
    "# Load environment and set working directory\n",
    "load_dotenv()\n",
    "root = Path(os.getenv(\"ROOT\"))\n",
    "os.chdir(root)"
   ],
   "metadata": {
    "ExecuteTime": {
     "end_time": "2025-06-19T16:11:49.073607Z",
     "start_time": "2025-06-19T16:11:48.784450Z"
    }
   },
   "outputs": [],
   "execution_count": 1
  },
  {
   "cell_type": "markdown",
   "id": "h4d8h0aopen",
   "source": "# Configuration",
   "metadata": {}
  },
  {
   "cell_type": "code",
   "id": "gfuc18cf1t5",
   "source": [
    "# Objective parameters\n",
    "n_features = 1\n",
    "output_size = 3\n",
    "output_activation = 2\n",
    "features = [\"price\"]\n",
    "timestamp_col = \"timestamp\"\n",
    "\n",
    "# Individual parameters\n",
    "hidden_layers_sizes = [10, 10]\n",
    "hidden_layers_activations = [1, 1, 1]\n",
    "\n",
    "# Helpers\n",
    "seed = 123\n",
    "epoch_id = 0\n",
    "\n",
    "# Numba configuration"
   ],
   "metadata": {
    "ExecuteTime": {
     "end_time": "2025-06-19T16:11:49.082884Z",
     "start_time": "2025-06-19T16:11:49.074285Z"
    }
   },
   "outputs": [],
   "execution_count": 2
  },
  {
   "metadata": {
    "ExecuteTime": {
     "end_time": "2025-06-19T15:58:32.139573Z",
     "start_time": "2025-06-19T15:58:32.123029Z"
    }
   },
   "cell_type": "markdown",
   "source": "# Load and Prepare Data",
   "id": "578049999ee7ae98"
  },
  {
   "cell_type": "code",
   "id": "ixw20031jtk",
   "source": [
    "df = pl.read_parquet(root / 'data/mock.parquet')\n",
    "df = df.with_columns(\n",
    "    (pl.col('timestamp') // 600_000).alias('epoch'),\n",
    ")"
   ],
   "metadata": {
    "ExecuteTime": {
     "end_time": "2025-06-19T16:11:49.101635Z",
     "start_time": "2025-06-19T16:11:49.084163Z"
    }
   },
   "outputs": [],
   "execution_count": 3
  },
  {
   "metadata": {
    "ExecuteTime": {
     "end_time": "2025-06-19T15:58:32.172009Z",
     "start_time": "2025-06-19T15:58:32.164728Z"
    }
   },
   "cell_type": "markdown",
   "source": "# Initialize Network Architecture",
   "id": "4b32a672459a66d2"
  },
  {
   "cell_type": "code",
   "id": "slnmvwc87ls",
   "source": "layer_sizes = [n_features] + hidden_layers_sizes + [output_size]\nlayer_activations = hidden_layers_activations + [output_activation]\nprevious_states = np.zeros(np.sum(layer_sizes[1:]), dtype=np.float64)\nprevious_time = df.filter(pl.col('epoch') == epoch_id).select('timestamp').to_series()[0]\n\n# Compute layer indices for efficient processing\nparam_indices, neuron_indices = compute_layer_indices(layer_sizes)",
   "metadata": {
    "ExecuteTime": {
     "end_time": "2025-06-19T16:11:49.408392Z",
     "start_time": "2025-06-19T16:11:49.102143Z"
    }
   },
   "outputs": [],
   "execution_count": 4
  },
  {
   "metadata": {
    "ExecuteTime": {
     "end_time": "2025-06-19T15:58:32.667152Z",
     "start_time": "2025-06-19T15:58:32.172526Z"
    }
   },
   "cell_type": "markdown",
   "source": "# Initialize Individual",
   "id": "91f9fd842ad4c09b"
  },
  {
   "cell_type": "code",
   "id": "3qus3iixdqx",
   "source": "individual = initialize_individual(layer_sizes, seed=seed)",
   "metadata": {
    "ExecuteTime": {
     "end_time": "2025-06-19T16:11:49.563092Z",
     "start_time": "2025-06-19T16:11:49.408968Z"
    }
   },
   "outputs": [],
   "execution_count": 5
  },
  {
   "metadata": {
    "ExecuteTime": {
     "end_time": "2025-06-19T15:58:32.685943Z",
     "start_time": "2025-06-19T15:58:32.667711Z"
    }
   },
   "cell_type": "markdown",
   "source": "# Prepare Data for Testing",
   "id": "d6a8ed0f7c12fb56"
  },
  {
   "cell_type": "code",
   "id": "8lm2cek9zr6",
   "source": "df_epoch = df.filter(pl.col(\"epoch\") == epoch_id)\n\n# Extract timestamps and feature values\ntimestamps = df_epoch[timestamp_col].to_numpy()\nfeature_values = df_epoch.select(features).to_numpy()\n\n# Prepare single input for testing\ncurrent_time = df_epoch.select(timestamp_col).to_series()[0]\nvalues = np.array([df_epoch.select(features).to_series()[0]], dtype=np.float64)\ninputs = (current_time, values)",
   "metadata": {
    "ExecuteTime": {
     "end_time": "2025-06-19T16:11:49.575183Z",
     "start_time": "2025-06-19T16:11:49.563619Z"
    }
   },
   "outputs": [],
   "execution_count": 6
  },
  {
   "metadata": {
    "ExecuteTime": {
     "end_time": "2025-06-19T15:58:33.216311Z",
     "start_time": "2025-06-19T15:58:32.791152Z"
    }
   },
   "cell_type": "markdown",
   "source": "# Test Individual Prediction",
   "id": "e6de5354951f944e"
  },
  {
   "cell_type": "code",
   "id": "hhrbxgfjhe",
   "source": "current_values, new_states = predict_individual(\n    individual, layer_sizes, layer_activations, inputs, \n    previous_states, previous_time, param_indices, neuron_indices\n)",
   "metadata": {
    "ExecuteTime": {
     "end_time": "2025-06-19T16:11:50.010716Z",
     "start_time": "2025-06-19T16:11:49.575769Z"
    }
   },
   "outputs": [],
   "execution_count": 7
  },
  {
   "metadata": {
    "ExecuteTime": {
     "end_time": "2025-06-19T15:58:34.881803Z",
     "start_time": "2025-06-19T15:58:33.216886Z"
    }
   },
   "cell_type": "markdown",
   "source": "# Benchmark Individual Prediction",
   "id": "d71f6cea3ea7a75a"
  },
  {
   "cell_type": "code",
   "id": "g8obsb7ht18",
   "source": "%timeit -r 1 current_values, new_states = predict_individual(individual, layer_sizes, layer_activations, inputs, previous_states, previous_time, param_indices, neuron_indices)",
   "metadata": {
    "ExecuteTime": {
     "end_time": "2025-06-19T16:11:51.115931Z",
     "start_time": "2025-06-19T16:11:50.011269Z"
    }
   },
   "outputs": [
    {
     "name": "stdout",
     "output_type": "stream",
     "text": [
      "5.22 μs ± 0 ns per loop (mean ± std. dev. of 1 run, 100,000 loops each)\n"
     ]
    }
   ],
   "execution_count": 8
  },
  {
   "metadata": {
    "ExecuteTime": {
     "end_time": "2025-06-19T15:58:36.891151Z",
     "start_time": "2025-06-19T15:58:34.896546Z"
    }
   },
   "cell_type": "markdown",
   "source": "# Benchmark Individual Actions",
   "id": "80a230e23b3fa069"
  },
  {
   "cell_type": "code",
   "id": "p6xtpnrrmrq",
   "source": "%timeit -r 1 actions = individual_actions(individual, layer_sizes, layer_activations, previous_states, previous_time, param_indices, neuron_indices, timestamps, feature_values)",
   "metadata": {
    "ExecuteTime": {
     "end_time": "2025-06-19T16:11:51.583594Z",
     "start_time": "2025-06-19T16:11:51.116717Z"
    }
   },
   "outputs": [
    {
     "name": "stdout",
     "output_type": "stream",
     "text": [
      "2.11 ms ± 0 ns per loop (mean ± std. dev. of 1 run, 100 loops each)\n"
     ]
    }
   ],
   "execution_count": 9
  },
  {
   "cell_type": "markdown",
   "id": "ld6ho33boo",
   "source": "# Initialize Population",
   "metadata": {
    "ExecuteTime": {
     "end_time": "2025-06-19T15:58:39.753567Z",
     "start_time": "2025-06-19T15:58:38.894282Z"
    }
   }
  },
  {
   "cell_type": "code",
   "id": "f0u3fnyyd15",
   "source": "# Initialize population\npop_size = 100\npopulation = initialize_population(pop_size, layer_sizes, seed=seed)\n\n# Initialize population states\npopulation_states = np.zeros((pop_size, np.sum(layer_sizes[1:])), dtype=np.float64)",
   "metadata": {
    "ExecuteTime": {
     "end_time": "2025-06-19T16:11:52.473063Z",
     "start_time": "2025-06-19T16:11:51.584405Z"
    }
   },
   "outputs": [],
   "execution_count": 10
  },
  {
   "cell_type": "markdown",
   "id": "clkmdjmvnrc",
   "source": "# Benchmark Population Actions",
   "metadata": {
    "ExecuteTime": {
     "end_time": "2025-06-19T15:58:43.043613Z",
     "start_time": "2025-06-19T15:58:39.756004Z"
    }
   }
  },
  {
   "cell_type": "code",
   "id": "vxcp9khsnl",
   "source": "%timeit -r 1 get_population_actions_result = get_population_actions(population, layer_sizes, layer_activations, population_states, previous_time, param_indices, neuron_indices, timestamps, feature_values)",
   "metadata": {
    "ExecuteTime": {
     "end_time": "2025-06-19T16:11:54.415929Z",
     "start_time": "2025-06-19T16:11:52.473633Z"
    }
   },
   "outputs": [
    {
     "name": "stdout",
     "output_type": "stream",
     "text": [
      "98.1 ms ± 0 ns per loop (mean ± std. dev. of 1 run, 10 loops each)\n"
     ]
    }
   ],
   "execution_count": 11
  }
 ],
 "metadata": {
  "kernelspec": {
   "display_name": "Python 3",
   "language": "python",
   "name": "python3"
  },
  "language_info": {
   "codemirror_mode": {
    "name": "ipython",
    "version": 2
   },
   "file_extension": ".py",
   "mimetype": "text/x-python",
   "name": "python",
   "nbconvert_exporter": "python",
   "pygments_lexer": "ipython2",
   "version": "2.7.6"
  }
 },
 "nbformat": 4,
 "nbformat_minor": 5
}
