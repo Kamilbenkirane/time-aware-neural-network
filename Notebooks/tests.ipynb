{
 "cells": [
  {
   "metadata": {},
   "cell_type": "markdown",
   "source": "## Setup and imports",
   "id": "e4cc003f1b19686"
  },
  {
   "metadata": {
    "ExecuteTime": {
     "end_time": "2025-06-18T20:24:06.242656Z",
     "start_time": "2025-06-18T20:24:06.058885Z"
    }
   },
   "cell_type": "code",
   "source": [
    "import time\n",
    "from pathlib import Path\n",
    "import os\n",
    "import numpy as np\n",
    "\n",
    "import pandas as pd\n",
    "from dotenv import load_dotenv\n",
    "%load_ext autoreload\n",
    "%autoreload 2\n",
    "load_dotenv()\n",
    "root = Path(os.getenv(\"ROOT\"))\n",
    "os.chdir(root)"
   ],
   "id": "941aa0d20ef7c7f1",
   "outputs": [],
   "execution_count": 1
  },
  {
   "metadata": {},
   "cell_type": "markdown",
   "source": "## Test configuration parameters",
   "id": "a46e2cda335e6c04"
  },
  {
   "cell_type": "code",
   "id": "initial_id",
   "metadata": {
    "collapsed": true,
    "ExecuteTime": {
     "end_time": "2025-06-18T20:24:06.324783Z",
     "start_time": "2025-06-18T20:24:06.315577Z"
    }
   },
   "source": [
    "layer_sizes = [1, 1, 2, 3]\n",
    "activations = [1,300,400,2]\n",
    "population_size = 1000\n",
    "population_prev_times = np.full(population_size, int(time.time() * 1000))\n",
    "prev_time = int(time.time() * 1000)\n",
    "current_states = np.zeros(np.sum(layer_sizes[1:]), dtype=np.float64)\n",
    "inputs = (prev_time, np.array([1.0]))\n",
    "seed = 123"
   ],
   "outputs": [],
   "execution_count": 2
  },
  {
   "metadata": {},
   "cell_type": "markdown",
   "source": "## Layer parameters calculation",
   "id": "3a4248eed19f74ce"
  },
  {
   "metadata": {
    "ExecuteTime": {
     "end_time": "2025-06-18T20:24:07.040438Z",
     "start_time": "2025-06-18T20:24:06.330303Z"
    }
   },
   "cell_type": "code",
   "source": [
    "from src.tann.network import get_layer_parameters\n",
    "layer_parameters_count = get_layer_parameters(layer_sizes, layer_id=0)\n",
    "%timeit -r 1 get_layer_parameters(layer_sizes, layer_id=0)"
   ],
   "id": "47faddf4c5e91909",
   "outputs": [
    {
     "name": "stdout",
     "output_type": "stream",
     "text": [
      "2.27 μs ± 0 ns per loop (mean ± std. dev. of 1 run, 100,000 loops each)\n"
     ]
    }
   ],
   "execution_count": 3
  },
  {
   "metadata": {},
   "cell_type": "markdown",
   "source": "## Total parameters calculation",
   "id": "7ca6c8306a2845d3"
  },
  {
   "metadata": {
    "ExecuteTime": {
     "end_time": "2025-06-18T20:24:07.572886Z",
     "start_time": "2025-06-18T20:24:07.052088Z"
    }
   },
   "cell_type": "code",
   "source": [
    "from src.tann.network import get_total_parameters\n",
    "total_parameters = get_total_parameters(layer_sizes)\n",
    "%timeit -r 1 get_total_parameters(layer_sizes)"
   ],
   "id": "1088cc8d5df388ff",
   "outputs": [
    {
     "name": "stdout",
     "output_type": "stream",
     "text": [
      "2.33 μs ± 0 ns per loop (mean ± std. dev. of 1 run, 100,000 loops each)\n"
     ]
    }
   ],
   "execution_count": 4
  },
  {
   "metadata": {},
   "cell_type": "markdown",
   "source": "## Activation function names",
   "id": "4af21ecd7c232965"
  },
  {
   "metadata": {
    "ExecuteTime": {
     "end_time": "2025-06-18T20:24:30.820253Z",
     "start_time": "2025-06-18T20:24:29.298751Z"
    }
   },
   "cell_type": "code",
   "source": [
    "from src.tann.network.activation import get_activation_name\n",
    "dict_activation = {i : get_activation_name(i) for i in range(10)}\n",
    "print(dict_activation)\n",
    "%timeit -r 1 [get_activation_name(i) for i in range(10)]"
   ],
   "id": "d2fc422df6fccd15",
   "outputs": [
    {
     "name": "stdout",
     "output_type": "stream",
     "text": [
      "{0: 'linear', 1: 'relu', 2: 'sigmoid', 3: 'tanh', 4: 'leaky_relu', 5: 'unknown', 6: 'unknown', 7: 'unknown', 8: 'unknown', 9: 'unknown'}\n",
      "701 ns ± 0 ns per loop (mean ± std. dev. of 1 run, 1,000,000 loops each)\n"
     ]
    }
   ],
   "execution_count": 12
  },
  {
   "metadata": {},
   "cell_type": "markdown",
   "source": "## Benchmark activation functions performance",
   "id": "8a42309d569d2178"
  },
  {
   "metadata": {
    "ExecuteTime": {
     "end_time": "2025-06-18T20:24:36.758771Z",
     "start_time": "2025-06-18T20:24:36.512671Z"
    }
   },
   "cell_type": "code",
   "source": [
    "from src.tann.network.activation import apply_activation\n",
    "import numpy as np\n",
    "import time\n",
    "\n",
    "value = 1.3324341\n",
    "\n",
    "for i in range(10):\n",
    "    times = []\n",
    "    for _ in range(100000):\n",
    "        start = time.perf_counter()\n",
    "        apply_activation(value, activation_type=i)\n",
    "        end = time.perf_counter()\n",
    "        times.append((end - start) * 1e9)  # Convert to milliseconds\n",
    "    print(\n",
    "        f\"Activation {i} - {get_activation_name(i)} - Time: {np.mean(times):.2f} ± {np.std(times):.2f} ns\"\n",
    "    )"
   ],
   "id": "7ae2c53d7b7049bc",
   "outputs": [
    {
     "name": "stdout",
     "output_type": "stream",
     "text": [
      "Activation 0 - linear - Time: 162.13 ± 137.67 ns\n",
      "Activation 1 - relu - Time: 128.02 ± 372.92 ns\n",
      "Activation 2 - sigmoid - Time: 120.77 ± 40.84 ns\n",
      "Activation 3 - tanh - Time: 121.36 ± 86.60 ns\n",
      "Activation 4 - leaky_relu - Time: 115.10 ± 53.37 ns\n",
      "Activation 5 - unknown - Time: 111.87 ± 43.38 ns\n",
      "Activation 6 - unknown - Time: 116.49 ± 99.37 ns\n",
      "Activation 7 - unknown - Time: 114.10 ± 27.89 ns\n",
      "Activation 8 - unknown - Time: 115.58 ± 28.67 ns\n",
      "Activation 9 - unknown - Time: 114.52 ± 24.33 ns\n"
     ]
    }
   ],
   "execution_count": 13
  },
  {
   "metadata": {},
   "cell_type": "markdown",
   "source": "## Layer indices computation",
   "id": "3e613ae8710f7818"
  },
  {
   "metadata": {
    "ExecuteTime": {
     "end_time": "2025-06-18T20:24:45.455248Z",
     "start_time": "2025-06-18T20:24:44.884007Z"
    }
   },
   "cell_type": "code",
   "source": [
    "from src.tann.network.utils import compute_layer_indices\n",
    "\n",
    "param_indices, neuron_indices = compute_layer_indices(layer_sizes)\n",
    "%timeit -r 1 compute_layer_indices(layer_sizes)"
   ],
   "id": "1b010f301bc5adba",
   "outputs": [
    {
     "name": "stdout",
     "output_type": "stream",
     "text": [
      "2.65 μs ± 0 ns per loop (mean ± std. dev. of 1 run, 100,000 loops each)\n"
     ]
    }
   ],
   "execution_count": 14
  },
  {
   "metadata": {},
   "cell_type": "markdown",
   "source": "## Individual initialization",
   "id": "2c091da53c658316"
  },
  {
   "metadata": {
    "ExecuteTime": {
     "end_time": "2025-06-18T20:24:51.783592Z",
     "start_time": "2025-06-18T20:24:51.009135Z"
    }
   },
   "cell_type": "code",
   "source": [
    "from src.tann.evolution import initialize_individual\n",
    "individual = initialize_individual(layer_sizes, seed=seed)\n",
    "%timeit -r 1 individual = initialize_individual(layer_sizes, seed=seed)"
   ],
   "id": "fee4d754cc456ffc",
   "outputs": [
    {
     "name": "stdout",
     "output_type": "stream",
     "text": [
      "3.54 μs ± 0 ns per loop (mean ± std. dev. of 1 run, 100,000 loops each)\n"
     ]
    }
   ],
   "execution_count": 15
  },
  {
   "metadata": {},
   "cell_type": "markdown",
   "source": "## Population initialization",
   "id": "8cba86c3fc2f51a9"
  },
  {
   "metadata": {
    "ExecuteTime": {
     "end_time": "2025-06-18T20:25:02.987221Z",
     "start_time": "2025-06-18T20:25:02.076318Z"
    }
   },
   "cell_type": "code",
   "source": [
    "from src.tann.evolution import initialize_population\n",
    "population = initialize_population(population_size, layer_sizes, seed=seed)\n",
    "%timeit -r 1 population = initialize_population(population_size, layer_sizes, seed=seed)"
   ],
   "id": "e0c55a3af617e14c",
   "outputs": [
    {
     "name": "stdout",
     "output_type": "stream",
     "text": [
      "424 μs ± 0 ns per loop (mean ± std. dev. of 1 run, 1,000 loops each)\n"
     ]
    }
   ],
   "execution_count": 16
  },
  {
   "metadata": {},
   "cell_type": "markdown",
   "source": "## Individual prediction",
   "id": "557e9fe525609341"
  },
  {
   "metadata": {
    "ExecuteTime": {
     "end_time": "2025-06-18T20:25:15.686700Z",
     "start_time": "2025-06-18T20:25:11.330552Z"
    }
   },
   "cell_type": "code",
   "source": [
    "from src.tann.evolution import predict_individual\n",
    "\n",
    "current_values, new_states, current_time = predict_individual(individual, layer_sizes, activations, inputs, current_states, prev_time, param_indices, neuron_indices)\n",
    "\n",
    "%timeit current_values, new_states, current_time = predict_individual(individual, layer_sizes, activations, inputs, current_states, prev_time, param_indices, neuron_indices)"
   ],
   "id": "a82b33c48cb256b7",
   "outputs": [
    {
     "name": "stdout",
     "output_type": "stream",
     "text": [
      "5.34 μs ± 42.6 ns per loop (mean ± std. dev. of 7 runs, 100,000 loops each)\n"
     ]
    }
   ],
   "execution_count": 17
  },
  {
   "metadata": {},
   "cell_type": "markdown",
   "source": "## Population prediction",
   "id": "3fcd32672a26cb1e"
  },
  {
   "metadata": {
    "ExecuteTime": {
     "end_time": "2025-06-18T20:25:28.828820Z",
     "start_time": "2025-06-18T20:25:28.058611Z"
    }
   },
   "cell_type": "code",
   "source": [
    "from src.tann.evolution.population import predict_population\n",
    "population_states = np.zeros((population_size, len(current_states)), dtype=np.float64)\n",
    "\n",
    "outputs, updated_states, updated_times = predict_population(population, layer_sizes, activations, inputs, population_states, population_prev_times)\n",
    "\n",
    "%timeit -r 1 outputs, updated_states, updated_times = predict_population(population, layer_sizes, activations, inputs, population_states, population_prev_times)"
   ],
   "id": "9a0fc22969847649",
   "outputs": [
    {
     "name": "stdout",
     "output_type": "stream",
     "text": [
      "355 μs ± 0 ns per loop (mean ± std. dev. of 1 run, 1,000 loops each)\n"
     ]
    }
   ],
   "execution_count": 18
  }
 ],
 "metadata": {
  "kernelspec": {
   "display_name": "Python 3",
   "language": "python",
   "name": "python3"
  },
  "language_info": {
   "codemirror_mode": {
    "name": "ipython",
    "version": 2
   },
   "file_extension": ".py",
   "mimetype": "text/x-python",
   "name": "python",
   "nbconvert_exporter": "python",
   "pygments_lexer": "ipython2",
   "version": "2.7.6"
  }
 },
 "nbformat": 4,
 "nbformat_minor": 5
}
