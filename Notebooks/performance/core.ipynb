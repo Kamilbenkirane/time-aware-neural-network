{
 "cells": [
  {
   "metadata": {},
   "cell_type": "markdown",
   "source": "## Setup and imports",
   "id": "e4cc003f1b19686"
  },
  {
   "metadata": {
    "ExecuteTime": {
     "end_time": "2025-06-19T17:46:59.156387Z",
     "start_time": "2025-06-19T17:46:58.840652Z"
    }
   },
   "cell_type": "code",
   "source": [
    "import time\n",
    "from pathlib import Path\n",
    "import os\n",
    "import numpy as np\n",
    "\n",
    "import pandas as pd\n",
    "from dotenv import load_dotenv\n",
    "%load_ext autoreload\n",
    "%autoreload 2\n",
    "load_dotenv()\n",
    "root = Path(os.getenv(\"ROOT\"))\n",
    "os.chdir(root)"
   ],
   "id": "941aa0d20ef7c7f1",
   "outputs": [],
   "execution_count": 1
  },
  {
   "metadata": {},
   "cell_type": "markdown",
   "source": "## Test configuration parameters",
   "id": "a46e2cda335e6c04"
  },
  {
   "cell_type": "code",
   "id": "initial_id",
   "metadata": {
    "collapsed": true,
    "ExecuteTime": {
     "end_time": "2025-06-19T17:46:59.164761Z",
     "start_time": "2025-06-19T17:46:59.157013Z"
    }
   },
   "source": [
    "layer_sizes = [1, 1, 2, 3]\n",
    "activations = [1,300,400,2]\n",
    "population_size = 1000\n",
    "population_prev_times = np.full(population_size, int(time.time() * 1000))\n",
    "prev_time = int(time.time() * 1000)\n",
    "current_states = np.zeros(np.sum(layer_sizes[1:]), dtype=np.float64)\n",
    "inputs = (prev_time, np.array([1.0]))\n",
    "seed = 123"
   ],
   "outputs": [],
   "execution_count": 2
  },
  {
   "metadata": {},
   "cell_type": "markdown",
   "source": "## Layer parameters calculation",
   "id": "3a4248eed19f74ce"
  },
  {
   "metadata": {
    "ExecuteTime": {
     "end_time": "2025-06-19T17:46:59.931433Z",
     "start_time": "2025-06-19T17:46:59.165129Z"
    }
   },
   "cell_type": "code",
   "source": [
    "from src.tann.network import get_layer_parameters\n",
    "layer_parameters_count = get_layer_parameters(layer_sizes, layer_id=0)\n",
    "%timeit -r 1 get_layer_parameters(layer_sizes, layer_id=0)"
   ],
   "id": "47faddf4c5e91909",
   "outputs": [
    {
     "name": "stdout",
     "output_type": "stream",
     "text": [
      "2.05 μs ± 0 ns per loop (mean ± std. dev. of 1 run, 100,000 loops each)\n"
     ]
    }
   ],
   "execution_count": 3
  },
  {
   "metadata": {},
   "cell_type": "markdown",
   "source": "## Total parameters calculation",
   "id": "7ca6c8306a2845d3"
  },
  {
   "metadata": {
    "ExecuteTime": {
     "end_time": "2025-06-19T17:47:04.204657Z",
     "start_time": "2025-06-19T17:46:59.932242Z"
    }
   },
   "cell_type": "code",
   "source": [
    "from src.tann.network import get_total_parameters\n",
    "total_parameters = get_total_parameters(layer_sizes)\n",
    "%timeit -r 1 get_total_parameters(layer_sizes)"
   ],
   "id": "1088cc8d5df388ff",
   "outputs": [
    {
     "name": "stdout",
     "output_type": "stream",
     "text": [
      "1.99 μs ± 0 ns per loop (mean ± std. dev. of 1 run, 1,000,000 loops each)\n"
     ]
    }
   ],
   "execution_count": 4
  },
  {
   "metadata": {},
   "cell_type": "markdown",
   "source": "## Activation function names",
   "id": "4af21ecd7c232965"
  },
  {
   "metadata": {
    "ExecuteTime": {
     "end_time": "2025-06-19T17:47:05.704301Z",
     "start_time": "2025-06-19T17:47:04.205172Z"
    }
   },
   "cell_type": "code",
   "source": [
    "from src.tann.network.activation import get_activation_name\n",
    "dict_activation = {i : get_activation_name(i) for i in range(10)}\n",
    "print(dict_activation)\n",
    "%timeit -r 1 [get_activation_name(i) for i in range(10)]"
   ],
   "id": "d2fc422df6fccd15",
   "outputs": [
    {
     "name": "stdout",
     "output_type": "stream",
     "text": [
      "{0: 'linear', 1: 'relu', 2: 'sigmoid', 3: 'tanh', 4: 'leaky_relu', 5: 'unknown', 6: 'unknown', 7: 'unknown', 8: 'unknown', 9: 'unknown'}\n",
      "705 ns ± 0 ns per loop (mean ± std. dev. of 1 run, 1,000,000 loops each)\n"
     ]
    }
   ],
   "execution_count": 5
  },
  {
   "metadata": {},
   "cell_type": "markdown",
   "source": "## Benchmark activation functions performance",
   "id": "8a42309d569d2178"
  },
  {
   "metadata": {
    "ExecuteTime": {
     "end_time": "2025-06-19T17:47:14.226887Z",
     "start_time": "2025-06-19T17:47:05.705029Z"
    }
   },
   "cell_type": "code",
   "source": [
    "from src.tann.network.activation import apply_activation\n",
    "import numpy as np\n",
    "import time\n",
    "\n",
    "n = 100000\n",
    "r = 100\n",
    "value = 1.3324341\n",
    "apply_activation(value, activation_type=0)\n",
    "for i in range(10):\n",
    "    times = []\n",
    "    for _ in range(r):\n",
    "        start = time.perf_counter()\n",
    "        [apply_activation(value, activation_type=i) for _ in range(n)]\n",
    "        end = time.perf_counter()\n",
    "\n",
    "        times.append((end - start) * 1e9 / n)  # Convert to milliseconds\n",
    "    print(\n",
    "        f\"Activation {i} - {get_activation_name(i)} - Time: {np.median(times):.2f} ± {np.std(times):.2f} ns\"\n",
    "    )"
   ],
   "id": "7ae2c53d7b7049bc",
   "outputs": [
    {
     "name": "stdout",
     "output_type": "stream",
     "text": [
      "Activation 0 - linear - Time: 83.12 ± 3.36 ns\n",
      "Activation 1 - relu - Time: 83.01 ± 1.17 ns\n",
      "Activation 2 - sigmoid - Time: 85.44 ± 1.32 ns\n",
      "Activation 3 - tanh - Time: 86.94 ± 2.99 ns\n",
      "Activation 4 - leaky_relu - Time: 82.88 ± 1.87 ns\n",
      "Activation 5 - unknown - Time: 84.61 ± 3.58 ns\n",
      "Activation 6 - unknown - Time: 83.79 ± 3.05 ns\n",
      "Activation 7 - unknown - Time: 83.59 ± 2.86 ns\n",
      "Activation 8 - unknown - Time: 83.88 ± 1.53 ns\n",
      "Activation 9 - unknown - Time: 84.47 ± 2.17 ns\n"
     ]
    }
   ],
   "execution_count": 6
  },
  {
   "metadata": {},
   "cell_type": "markdown",
   "source": "## Layer indices computation",
   "id": "3e613ae8710f7818"
  },
  {
   "metadata": {
    "ExecuteTime": {
     "end_time": "2025-06-19T17:47:14.855849Z",
     "start_time": "2025-06-19T17:47:14.227432Z"
    }
   },
   "cell_type": "code",
   "source": [
    "from src.tann.network.utils import compute_layer_indices\n",
    "\n",
    "param_indices, neuron_indices = compute_layer_indices(layer_sizes)\n",
    "%timeit -r 1 compute_layer_indices(layer_sizes)"
   ],
   "id": "1b010f301bc5adba",
   "outputs": [
    {
     "name": "stdout",
     "output_type": "stream",
     "text": [
      "2.48 μs ± 0 ns per loop (mean ± std. dev. of 1 run, 100,000 loops each)\n"
     ]
    }
   ],
   "execution_count": 7
  },
  {
   "metadata": {},
   "cell_type": "markdown",
   "source": "## Individual initialization",
   "id": "2c091da53c658316"
  },
  {
   "metadata": {
    "ExecuteTime": {
     "end_time": "2025-06-19T17:47:16.063922Z",
     "start_time": "2025-06-19T17:47:14.856617Z"
    }
   },
   "cell_type": "code",
   "source": [
    "from src.tann.evolution import initialize_individual\n",
    "individual = initialize_individual(layer_sizes, seed=seed)\n",
    "%timeit -r 1 individual = initialize_individual(layer_sizes, seed=seed)"
   ],
   "id": "fee4d754cc456ffc",
   "outputs": [
    {
     "name": "stdout",
     "output_type": "stream",
     "text": [
      "4.95 μs ± 0 ns per loop (mean ± std. dev. of 1 run, 100,000 loops each)\n"
     ]
    }
   ],
   "execution_count": 8
  },
  {
   "metadata": {},
   "cell_type": "markdown",
   "source": "## Population initialization",
   "id": "8cba86c3fc2f51a9"
  },
  {
   "metadata": {
    "ExecuteTime": {
     "end_time": "2025-06-19T17:47:18.020089Z",
     "start_time": "2025-06-19T17:47:16.064682Z"
    }
   },
   "cell_type": "code",
   "source": [
    "from src.tann.evolution import initialize_population\n",
    "population = initialize_population(population_size, layer_sizes, seed=seed)\n",
    "%timeit -r 1 population = initialize_population(population_size, layer_sizes, seed=seed)"
   ],
   "id": "e0c55a3af617e14c",
   "outputs": [
    {
     "name": "stdout",
     "output_type": "stream",
     "text": [
      "482 μs ± 0 ns per loop (mean ± std. dev. of 1 run, 1,000 loops each)\n"
     ]
    }
   ],
   "execution_count": 9
  },
  {
   "metadata": {},
   "cell_type": "markdown",
   "source": "## Individual prediction",
   "id": "557e9fe525609341"
  },
  {
   "metadata": {
    "ExecuteTime": {
     "end_time": "2025-06-19T17:47:22.549064Z",
     "start_time": "2025-06-19T17:47:18.022439Z"
    }
   },
   "cell_type": "code",
   "source": [
    "from src.tann.evolution import predict_individual\n",
    "\n",
    "current_values, new_states = predict_individual(individual, layer_sizes, activations, inputs, current_states, prev_time, param_indices, neuron_indices)\n",
    "\n",
    "%timeit current_values, new_states = predict_individual(individual, layer_sizes, activations, inputs, current_states, prev_time, param_indices, neuron_indices)"
   ],
   "id": "a82b33c48cb256b7",
   "outputs": [
    {
     "name": "stdout",
     "output_type": "stream",
     "text": [
      "5.1 μs ± 9.26 ns per loop (mean ± std. dev. of 7 runs, 100,000 loops each)\n"
     ]
    }
   ],
   "execution_count": 10
  },
  {
   "metadata": {},
   "cell_type": "markdown",
   "source": "## Population prediction",
   "id": "3fcd32672a26cb1e"
  },
  {
   "metadata": {
    "ExecuteTime": {
     "end_time": "2025-06-19T17:47:23.990268Z",
     "start_time": "2025-06-19T17:47:22.549602Z"
    }
   },
   "cell_type": "code",
   "source": [
    "from src.tann.evolution.population import predict_population\n",
    "population_states = np.zeros((population_size, len(current_states)), dtype=np.float64)\n",
    "\n",
    "outputs, updated_states = predict_population(population, layer_sizes, activations, inputs, population_states, prev_time)\n",
    "\n",
    "%timeit -r 1 outputs, updated_states = predict_population(population, layer_sizes, activations, inputs, population_states, prev_time)"
   ],
   "id": "9a0fc22969847649",
   "outputs": [
    {
     "name": "stdout",
     "output_type": "stream",
     "text": [
      "362 μs ± 0 ns per loop (mean ± std. dev. of 1 run, 1,000 loops each)\n"
     ]
    }
   ],
   "execution_count": 11
  },
  {
   "metadata": {
    "ExecuteTime": {
     "end_time": "2025-06-19T17:47:23.992141Z",
     "start_time": "2025-06-19T17:47:23.990742Z"
    }
   },
   "cell_type": "code",
   "source": "",
   "id": "ba959c360f001ffc",
   "outputs": [],
   "execution_count": null
  },
  {
   "metadata": {
    "ExecuteTime": {
     "end_time": "2025-06-19T17:47:24.005443Z",
     "start_time": "2025-06-19T17:47:23.992684Z"
    }
   },
   "cell_type": "code",
   "source": "inputs",
   "id": "e1ca9a922c392434",
   "outputs": [
    {
     "data": {
      "text/plain": [
       "(1750355219163, array([1.]))"
      ]
     },
     "execution_count": 12,
     "metadata": {},
     "output_type": "execute_result"
    }
   ],
   "execution_count": 12
  },
  {
   "metadata": {
    "ExecuteTime": {
     "end_time": "2025-06-19T17:47:24.007511Z",
     "start_time": "2025-06-19T17:47:24.006070Z"
    }
   },
   "cell_type": "code",
   "source": "",
   "id": "698589efe824a742",
   "outputs": [],
   "execution_count": null
  }
 ],
 "metadata": {
  "kernelspec": {
   "display_name": "Python 3",
   "language": "python",
   "name": "python3"
  },
  "language_info": {
   "codemirror_mode": {
    "name": "ipython",
    "version": 2
   },
   "file_extension": ".py",
   "mimetype": "text/x-python",
   "name": "python",
   "nbconvert_exporter": "python",
   "pygments_lexer": "ipython2",
   "version": "2.7.6"
  }
 },
 "nbformat": 4,
 "nbformat_minor": 5
}
