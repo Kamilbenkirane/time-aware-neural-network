{
 "cells": [
  {
   "cell_type": "markdown",
   "metadata": {},
   "source": [
    "# Genetic Algorithm for Neural Network Evolution\n",
    "Testing and optimizing time-aware neural networks using genetic algorithms"
   ]
  },
  {
   "cell_type": "code",
   "metadata": {
    "jupyter": {
     "is_executing": true
    }
   },
   "source": [
    "import numpy as np\n",
    "import plotly.graph_objects as go\n",
    "import plotly.express as px\n",
    "from plotly.subplots import make_subplots\n",
    "import sys\n",
    "import os\n",
    "from dotenv import load_dotenv\n",
    "\n",
    "load_dotenv()\n",
    "ROOT = os.getenv('ROOT')\n",
    "sys.path.append(ROOT)\n",
    "\n",
    "from src.evolution import GeneticAlgorithm, create_simple_test_fitness, create_sphere_function_fitness, create_trading_fitness_function"
   ],
   "outputs": [],
   "execution_count": null
  },
  {
   "cell_type": "markdown",
   "metadata": {},
   "source": [
    "## Test 1: Simple Optimization Problem\n",
    "Validate genetic algorithm on sphere function"
   ]
  },
  {
   "cell_type": "code",
   "metadata": {
    "ExecuteTime": {
     "end_time": "2025-06-16T12:17:41.594771Z",
     "start_time": "2025-06-16T12:17:29.760684Z"
    }
   },
   "source": [
    "# Test genetic algorithm on sphere function\n",
    "print(\"Testing Genetic Algorithm on Sphere Function\")\n",
    "print(\"=\" * 50)\n",
    "\n",
    "# Create genetic algorithm with small population for testing\n",
    "ga_test = GeneticAlgorithm(\n",
    "    population_size=20,\n",
    "    crossover_rate=0.9,\n",
    "    mutation_rate=0.1,\n",
    "    mutation_strength=0.1,\n",
    "    tournament_size=3,\n",
    "    elitism_count=2\n",
    ")\n",
    "\n",
    "# Create sphere function fitness (minimization converted to maximization)\n",
    "sphere_fitness = create_sphere_function_fitness()\n",
    "\n",
    "# Run evolution for few generations\n",
    "best_individual, evolution_stats = ga_test.run_evolution(\n",
    "    fitness_function=sphere_fitness,\n",
    "    generations=100,\n",
    "    verbose=True\n",
    ")\n",
    "\n",
    "print(f\"\\nBest individual fitness: {sphere_fitness(best_individual):.6f}\")\n",
    "print(f\"Best weights sum of squares: {np.sum(best_individual.get_weights()**2):.6f}\")\n",
    "print(f\"Expected optimum: 0.0 (all weights should be near zero)\")"
   ],
   "outputs": [
    {
     "name": "stdout",
     "output_type": "stream",
     "text": [
      "Testing Genetic Algorithm on Sphere Function\n",
      "==================================================\n",
      "🧬 Genetic Algorithm initialized (Population: 20)\n",
      "🚀 Parallel processing: 16 workers, 1 threads each\n",
      "🚀 Starting evolution (100 generations)...\n",
      "⚠️ Parallel failed, using serial: Can't get local object 'create_sphere_function_fit...\n",
      "Generation   0: Best=  0.2519, Mean=  0.1753, Std=0.0345 [0.1s]\n",
      "⚠️ Parallel failed, using serial: Can't get local object 'create_sphere_function_fit...\n",
      "⚠️ Parallel failed, using serial: Can't get local object 'create_sphere_function_fit...\n",
      "⚠️ Parallel failed, using serial: Can't get local object 'create_sphere_function_fit...\n",
      "⚠️ Parallel failed, using serial: Can't get local object 'create_sphere_function_fit...\n",
      "⚠️ Parallel failed, using serial: Can't get local object 'create_sphere_function_fit...\n",
      "⚠️ Parallel failed, using serial: Can't get local object 'create_sphere_function_fit...\n",
      "⚠️ Parallel failed, using serial: Can't get local object 'create_sphere_function_fit...\n",
      "⚠️ Parallel failed, using serial: Can't get local object 'create_sphere_function_fit...\n",
      "⚠️ Parallel failed, using serial: Can't get local object 'create_sphere_function_fit...\n",
      "⚠️ Parallel failed, using serial: Can't get local object 'create_sphere_function_fit...\n",
      "Generation  10: Best=  0.3615, Mean=  0.3283, Std=0.0161 [0.1s]\n",
      "⚠️ Parallel failed, using serial: Can't get local object 'create_sphere_function_fit...\n",
      "⚠️ Parallel failed, using serial: Can't get local object 'create_sphere_function_fit...\n",
      "⚠️ Parallel failed, using serial: Can't get local object 'create_sphere_function_fit...\n",
      "⚠️ Parallel failed, using serial: Can't get local object 'create_sphere_function_fit...\n",
      "⚠️ Parallel failed, using serial: Can't get local object 'create_sphere_function_fit...\n",
      "⚠️ Parallel failed, using serial: Can't get local object 'create_sphere_function_fit...\n",
      "⚠️ Parallel failed, using serial: Can't get local object 'create_sphere_function_fit...\n",
      "⚠️ Parallel failed, using serial: Can't get local object 'create_sphere_function_fit...\n",
      "⚠️ Parallel failed, using serial: Can't get local object 'create_sphere_function_fit...\n",
      "⚠️ Parallel failed, using serial: Can't get local object 'create_sphere_function_fit...\n",
      "Generation  20: Best=  0.4972, Mean=  0.4281, Std=0.0296 [0.1s]\n",
      "⚠️ Parallel failed, using serial: Can't get local object 'create_sphere_function_fit...\n",
      "⚠️ Parallel failed, using serial: Can't get local object 'create_sphere_function_fit...\n",
      "⚠️ Parallel failed, using serial: Can't get local object 'create_sphere_function_fit...\n",
      "⚠️ Parallel failed, using serial: Can't get local object 'create_sphere_function_fit...\n",
      "⚠️ Parallel failed, using serial: Can't get local object 'create_sphere_function_fit...\n",
      "⚠️ Parallel failed, using serial: Can't get local object 'create_sphere_function_fit...\n",
      "⚠️ Parallel failed, using serial: Can't get local object 'create_sphere_function_fit...\n",
      "⚠️ Parallel failed, using serial: Can't get local object 'create_sphere_function_fit...\n",
      "⚠️ Parallel failed, using serial: Can't get local object 'create_sphere_function_fit...\n",
      "⚠️ Parallel failed, using serial: Can't get local object 'create_sphere_function_fit...\n",
      "Generation  30: Best=  0.6159, Mean=  0.5686, Std=0.0271 [0.1s]\n",
      "⚠️ Parallel failed, using serial: Can't get local object 'create_sphere_function_fit...\n",
      "⚠️ Parallel failed, using serial: Can't get local object 'create_sphere_function_fit...\n",
      "⚠️ Parallel failed, using serial: Can't get local object 'create_sphere_function_fit...\n",
      "⚠️ Parallel failed, using serial: Can't get local object 'create_sphere_function_fit...\n",
      "⚠️ Parallel failed, using serial: Can't get local object 'create_sphere_function_fit...\n",
      "⚠️ Parallel failed, using serial: Can't get local object 'create_sphere_function_fit...\n",
      "⚠️ Parallel failed, using serial: Can't get local object 'create_sphere_function_fit...\n",
      "⚠️ Parallel failed, using serial: Can't get local object 'create_sphere_function_fit...\n",
      "⚠️ Parallel failed, using serial: Can't get local object 'create_sphere_function_fit...\n",
      "⚠️ Parallel failed, using serial: Can't get local object 'create_sphere_function_fit...\n",
      "Generation  40: Best=  0.6910, Mean=  0.6467, Std=0.0342 [0.1s]\n",
      "⚠️ Parallel failed, using serial: Can't get local object 'create_sphere_function_fit...\n",
      "⚠️ Parallel failed, using serial: Can't get local object 'create_sphere_function_fit...\n",
      "⚠️ Parallel failed, using serial: Can't get local object 'create_sphere_function_fit...\n",
      "⚠️ Parallel failed, using serial: Can't get local object 'create_sphere_function_fit...\n",
      "⚠️ Parallel failed, using serial: Can't get local object 'create_sphere_function_fit...\n",
      "⚠️ Parallel failed, using serial: Can't get local object 'create_sphere_function_fit...\n",
      "⚠️ Parallel failed, using serial: Can't get local object 'create_sphere_function_fit...\n",
      "⚠️ Parallel failed, using serial: Can't get local object 'create_sphere_function_fit...\n",
      "⚠️ Parallel failed, using serial: Can't get local object 'create_sphere_function_fit...\n",
      "⚠️ Parallel failed, using serial: Can't get local object 'create_sphere_function_fit...\n",
      "Generation  50: Best=  0.7708, Mean=  0.6955, Std=0.0433 [0.2s]\n",
      "⚠️ Parallel failed, using serial: Can't get local object 'create_sphere_function_fit...\n",
      "⚠️ Parallel failed, using serial: Can't get local object 'create_sphere_function_fit...\n",
      "⚠️ Parallel failed, using serial: Can't get local object 'create_sphere_function_fit...\n",
      "⚠️ Parallel failed, using serial: Can't get local object 'create_sphere_function_fit...\n",
      "⚠️ Parallel failed, using serial: Can't get local object 'create_sphere_function_fit...\n",
      "⚠️ Parallel failed, using serial: Can't get local object 'create_sphere_function_fit...\n",
      "⚠️ Parallel failed, using serial: Can't get local object 'create_sphere_function_fit...\n",
      "⚠️ Parallel failed, using serial: Can't get local object 'create_sphere_function_fit...\n",
      "⚠️ Parallel failed, using serial: Can't get local object 'create_sphere_function_fit...\n",
      "⚠️ Parallel failed, using serial: Can't get local object 'create_sphere_function_fit...\n",
      "Generation  60: Best=  0.8152, Mean=  0.7795, Std=0.0200 [0.2s]\n",
      "⚠️ Parallel failed, using serial: Can't get local object 'create_sphere_function_fit...\n",
      "⚠️ Parallel failed, using serial: Can't get local object 'create_sphere_function_fit...\n",
      "⚠️ Parallel failed, using serial: Can't get local object 'create_sphere_function_fit...\n",
      "⚠️ Parallel failed, using serial: Can't get local object 'create_sphere_function_fit...\n",
      "⚠️ Parallel failed, using serial: Can't get local object 'create_sphere_function_fit...\n",
      "⚠️ Parallel failed, using serial: Can't get local object 'create_sphere_function_fit...\n",
      "⚠️ Parallel failed, using serial: Can't get local object 'create_sphere_function_fit...\n",
      "⚠️ Parallel failed, using serial: Can't get local object 'create_sphere_function_fit...\n",
      "⚠️ Parallel failed, using serial: Can't get local object 'create_sphere_function_fit...\n",
      "⚠️ Parallel failed, using serial: Can't get local object 'create_sphere_function_fit...\n",
      "Generation  70: Best=  0.8549, Mean=  0.8077, Std=0.0291 [0.2s]\n",
      "⚠️ Parallel failed, using serial: Can't get local object 'create_sphere_function_fit...\n",
      "⚠️ Parallel failed, using serial: Can't get local object 'create_sphere_function_fit...\n",
      "⚠️ Parallel failed, using serial: Can't get local object 'create_sphere_function_fit...\n",
      "⚠️ Parallel failed, using serial: Can't get local object 'create_sphere_function_fit...\n",
      "⚠️ Parallel failed, using serial: Can't get local object 'create_sphere_function_fit...\n",
      "⚠️ Parallel failed, using serial: Can't get local object 'create_sphere_function_fit...\n",
      "⚠️ Parallel failed, using serial: Can't get local object 'create_sphere_function_fit...\n",
      "⚠️ Parallel failed, using serial: Can't get local object 'create_sphere_function_fit...\n",
      "⚠️ Parallel failed, using serial: Can't get local object 'create_sphere_function_fit...\n",
      "⚠️ Parallel failed, using serial: Can't get local object 'create_sphere_function_fit...\n",
      "Generation  80: Best=  0.8722, Mean=  0.8200, Std=0.0416 [0.2s]\n",
      "⚠️ Parallel failed, using serial: Can't get local object 'create_sphere_function_fit...\n",
      "⚠️ Parallel failed, using serial: Can't get local object 'create_sphere_function_fit...\n",
      "⚠️ Parallel failed, using serial: Can't get local object 'create_sphere_function_fit...\n",
      "⚠️ Parallel failed, using serial: Can't get local object 'create_sphere_function_fit...\n",
      "⚠️ Parallel failed, using serial: Can't get local object 'create_sphere_function_fit...\n",
      "⚠️ Parallel failed, using serial: Can't get local object 'create_sphere_function_fit...\n",
      "⚠️ Parallel failed, using serial: Can't get local object 'create_sphere_function_fit...\n",
      "⚠️ Parallel failed, using serial: Can't get local object 'create_sphere_function_fit...\n",
      "⚠️ Parallel failed, using serial: Can't get local object 'create_sphere_function_fit...\n",
      "⚠️ Parallel failed, using serial: Can't get local object 'create_sphere_function_fit...\n",
      "Generation  90: Best=  0.8986, Mean=  0.8476, Std=0.0349 [0.2s]\n",
      "⚠️ Parallel failed, using serial: Can't get local object 'create_sphere_function_fit...\n",
      "⚠️ Parallel failed, using serial: Can't get local object 'create_sphere_function_fit...\n",
      "⚠️ Parallel failed, using serial: Can't get local object 'create_sphere_function_fit...\n",
      "⚠️ Parallel failed, using serial: Can't get local object 'create_sphere_function_fit...\n",
      "⚠️ Parallel failed, using serial: Can't get local object 'create_sphere_function_fit...\n",
      "⚠️ Parallel failed, using serial: Can't get local object 'create_sphere_function_fit...\n",
      "⚠️ Parallel failed, using serial: Can't get local object 'create_sphere_function_fit...\n",
      "⚠️ Parallel failed, using serial: Can't get local object 'create_sphere_function_fit...\n",
      "⚠️ Parallel failed, using serial: Can't get local object 'create_sphere_function_fit...\n",
      "⚠️ Parallel failed, using serial: Can't get local object 'create_sphere_function_fit...\n",
      "🏁 Evolution complete! Total time: 0.2s\n",
      "   Final best fitness: 0.9049\n",
      "   Avg time per generation: 0.00s\n",
      "\n",
      "Best individual fitness: 0.904877\n",
      "Best weights sum of squares: 0.105123\n",
      "Expected optimum: 0.0 (all weights should be near zero)\n"
     ]
    }
   ],
   "execution_count": 2
  },
  {
   "cell_type": "code",
   "metadata": {
    "ExecuteTime": {
     "end_time": "2025-06-16T12:17:41.595996Z",
     "start_time": "2025-06-16T12:17:30.099595Z"
    }
   },
   "source": [
    "# Generate more realistic trading data with periodic patterns\n",
    "n_points = 2000\n",
    "base_times = np.arange(n_points)\n",
    "\n",
    "# Create multiple periodic components of different frequencies\n",
    "trend = 0.05 * base_times  # Slight upward trend\n",
    "daily_cycle = 30 * np.sin(2 * np.pi * base_times / 100)  # Daily cycle\n",
    "weekly_cycle = 50 * np.sin(2 * np.pi * base_times / 500)  # Weekly cycle  \n",
    "monthly_cycle = 25 * np.sin(2 * np.pi * base_times / 1000)  # Monthly cycle\n",
    "\n",
    "# Random walk component (realistic price movement)\n",
    "random_walk = np.cumsum(np.random.normal(0, 8, n_points))\n",
    "\n",
    "# Combine all components\n",
    "base_price = 1000\n",
    "prices = base_price + trend + daily_cycle + weekly_cycle + monthly_cycle + random_walk\n",
    "\n",
    "# Add market volatility clusters (realistic feature)\n",
    "volatility = 1 + 0.5 * np.abs(np.sin(2 * np.pi * base_times / 300))  # Volatility clustering\n",
    "noise = np.random.normal(0, 3, n_points) * volatility\n",
    "prices += noise\n",
    "\n",
    "# Normalize to reasonable trading range (but don't clip - let it be dynamic)\n",
    "price_range = np.max(prices) - np.min(prices)\n",
    "target_range = 400  # Target range of $400\n",
    "scale_factor = target_range / price_range\n",
    "prices = base_price + (prices - np.mean(prices)) * scale_factor\n",
    "\n",
    "# Create irregular timestamps\n",
    "timestamps = []\n",
    "price_data = []\n",
    "current_time = 0.0\n",
    "\n",
    "for i in range(n_points):\n",
    "    rush_period = (i % 200) < 20  # More frequent rush periods\n",
    "    time_increment = 0.1 if rush_period else 1.0\n",
    "    \n",
    "    current_time += time_increment\n",
    "    timestamps.append(current_time)\n",
    "    price_data.append(prices[i])\n",
    "\n",
    "timestamps = np.array(timestamps)\n",
    "price_data = np.array(price_data)\n",
    "\n",
    "print(f\"Generated {len(price_data)} price points\")\n",
    "print(f\"Price range: {np.min(price_data):.2f} to {np.max(price_data):.2f}\")\n",
    "print(f\"Price mean: {np.mean(price_data):.2f}, std: {np.std(price_data):.2f}\")\n",
    "print(f\"Time range: {timestamps[0]:.1f} to {timestamps[-1]:.1f}\")\n",
    "\n",
    "# Visualize the price components\n",
    "fig = make_subplots(\n",
    "    rows=2, cols=1,\n",
    "    subplot_titles=('Generated Price Series with Periodic Patterns', 'Price Components'),\n",
    "    vertical_spacing=0.1\n",
    ")\n",
    "\n",
    "# Main price series\n",
    "fig.add_trace(go.Scatter(\n",
    "    x=base_times, y=price_data,\n",
    "    mode='lines',\n",
    "    name='Final Price Series',\n",
    "    line=dict(color='blue', width=1)\n",
    "), row=1, col=1)\n",
    "\n",
    "# Show individual components\n",
    "fig.add_trace(go.Scatter(\n",
    "    x=base_times, y=base_price + daily_cycle,\n",
    "    mode='lines',\n",
    "    name='Daily Cycle',\n",
    "    line=dict(color='red', width=1)\n",
    "), row=2, col=1)\n",
    "\n",
    "fig.add_trace(go.Scatter(\n",
    "    x=base_times, y=base_price + weekly_cycle,\n",
    "    mode='lines',\n",
    "    name='Weekly Cycle', \n",
    "    line=dict(color='green', width=1)\n",
    "), row=2, col=1)\n",
    "\n",
    "fig.add_trace(go.Scatter(\n",
    "    x=base_times, y=base_price + monthly_cycle,\n",
    "    mode='lines',\n",
    "    name='Monthly Cycle',\n",
    "    line=dict(color='purple', width=1)\n",
    "), row=2, col=1)\n",
    "\n",
    "fig.update_layout(\n",
    "    title=\"Realistic Price Data with Multiple Periodic Components\",\n",
    "    height=700,\n",
    "    width=1200\n",
    ")\n",
    "\n",
    "fig.update_yaxes(title_text=\"Price\", row=1, col=1)\n",
    "fig.update_yaxes(title_text=\"Price Component\", row=2, col=1)\n",
    "fig.update_xaxes(title_text=\"Time\", row=2, col=1)\n",
    "\n",
    "fig.show()"
   ],
   "outputs": [
    {
     "name": "stdout",
     "output_type": "stream",
     "text": [
      "Generated 2000 price points\n",
      "Price range: 820.19 to 1220.19\n",
      "Price mean: 1000.00, std: 111.03\n",
      "Time range: 0.1 to 1820.0\n"
     ]
    },
    {
     "data": {
      "application/vnd.plotly.v1+json": {
       "data": [
        {
         "line": {
          "color": "blue",
          "width": 1
         },
         "mode": "lines",
         "name": "Final Price Series",
         "x": {
          "dtype": "i2",
          "bdata": "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"
         },
         "y": {
          "dtype": "f8",
          "bdata": "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"
         },
         "type": "scatter",
         "xaxis": "x",
         "yaxis": "y"
        },
        {
         "line": {
          "color": "red",
          "width": 1
         },
         "mode": "lines",
         "name": "Daily Cycle",
         "x": {
          "dtype": "i2",
          "bdata": "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"
         },
         "y": {
          "dtype": "f8",
          "bdata": "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"
         },
         "type": "scatter",
         "xaxis": "x2",
         "yaxis": "y2"
        },
        {
         "line": {
          "color": "green",
          "width": 1
         },
         "mode": "lines",
         "name": "Weekly Cycle",
         "x": {
          "dtype": "i2",
          "bdata": "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"
         },
         "y": {
          "dtype": "f8",
          "bdata": "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"
         },
         "type": "scatter",
         "xaxis": "x2",
         "yaxis": "y2"
        },
        {
         "line": {
          "color": "purple",
          "width": 1
         },
         "mode": "lines",
         "name": "Monthly Cycle",
         "x": {
          "dtype": "i2",
          "bdata": "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"
         },
         "y": {
          "dtype": "f8",
          "bdata": "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"
         },
         "type": "scatter",
         "xaxis": "x2",
         "yaxis": "y2"
        }
       ],
       "layout": {
        "template": {
         "data": {
          "histogram2dcontour": [
           {
            "type": "histogram2dcontour",
            "colorbar": {
             "outlinewidth": 0,
             "ticks": ""
            },
            "colorscale": [
             [
              0.0,
              "#0d0887"
             ],
             [
              0.1111111111111111,
              "#46039f"
             ],
             [
              0.2222222222222222,
              "#7201a8"
             ],
             [
              0.3333333333333333,
              "#9c179e"
             ],
             [
              0.4444444444444444,
              "#bd3786"
             ],
             [
              0.5555555555555556,
              "#d8576b"
             ],
             [
              0.6666666666666666,
              "#ed7953"
             ],
             [
              0.7777777777777778,
              "#fb9f3a"
             ],
             [
              0.8888888888888888,
              "#fdca26"
             ],
             [
              1.0,
              "#f0f921"
             ]
            ]
           }
          ],
          "choropleth": [
           {
            "type": "choropleth",
            "colorbar": {
             "outlinewidth": 0,
             "ticks": ""
            }
           }
          ],
          "histogram2d": [
           {
            "type": "histogram2d",
            "colorbar": {
             "outlinewidth": 0,
             "ticks": ""
            },
            "colorscale": [
             [
              0.0,
              "#0d0887"
             ],
             [
              0.1111111111111111,
              "#46039f"
             ],
             [
              0.2222222222222222,
              "#7201a8"
             ],
             [
              0.3333333333333333,
              "#9c179e"
             ],
             [
              0.4444444444444444,
              "#bd3786"
             ],
             [
              0.5555555555555556,
              "#d8576b"
             ],
             [
              0.6666666666666666,
              "#ed7953"
             ],
             [
              0.7777777777777778,
              "#fb9f3a"
             ],
             [
              0.8888888888888888,
              "#fdca26"
             ],
             [
              1.0,
              "#f0f921"
             ]
            ]
           }
          ],
          "heatmap": [
           {
            "type": "heatmap",
            "colorbar": {
             "outlinewidth": 0,
             "ticks": ""
            },
            "colorscale": [
             [
              0.0,
              "#0d0887"
             ],
             [
              0.1111111111111111,
              "#46039f"
             ],
             [
              0.2222222222222222,
              "#7201a8"
             ],
             [
              0.3333333333333333,
              "#9c179e"
             ],
             [
              0.4444444444444444,
              "#bd3786"
             ],
             [
              0.5555555555555556,
              "#d8576b"
             ],
             [
              0.6666666666666666,
              "#ed7953"
             ],
             [
              0.7777777777777778,
              "#fb9f3a"
             ],
             [
              0.8888888888888888,
              "#fdca26"
             ],
             [
              1.0,
              "#f0f921"
             ]
            ]
           }
          ],
          "contourcarpet": [
           {
            "type": "contourcarpet",
            "colorbar": {
             "outlinewidth": 0,
             "ticks": ""
            }
           }
          ],
          "contour": [
           {
            "type": "contour",
            "colorbar": {
             "outlinewidth": 0,
             "ticks": ""
            },
            "colorscale": [
             [
              0.0,
              "#0d0887"
             ],
             [
              0.1111111111111111,
              "#46039f"
             ],
             [
              0.2222222222222222,
              "#7201a8"
             ],
             [
              0.3333333333333333,
              "#9c179e"
             ],
             [
              0.4444444444444444,
              "#bd3786"
             ],
             [
              0.5555555555555556,
              "#d8576b"
             ],
             [
              0.6666666666666666,
              "#ed7953"
             ],
             [
              0.7777777777777778,
              "#fb9f3a"
             ],
             [
              0.8888888888888888,
              "#fdca26"
             ],
             [
              1.0,
              "#f0f921"
             ]
            ]
           }
          ],
          "surface": [
           {
            "type": "surface",
            "colorbar": {
             "outlinewidth": 0,
             "ticks": ""
            },
            "colorscale": [
             [
              0.0,
              "#0d0887"
             ],
             [
              0.1111111111111111,
              "#46039f"
             ],
             [
              0.2222222222222222,
              "#7201a8"
             ],
             [
              0.3333333333333333,
              "#9c179e"
             ],
             [
              0.4444444444444444,
              "#bd3786"
             ],
             [
              0.5555555555555556,
              "#d8576b"
             ],
             [
              0.6666666666666666,
              "#ed7953"
             ],
             [
              0.7777777777777778,
              "#fb9f3a"
             ],
             [
              0.8888888888888888,
              "#fdca26"
             ],
             [
              1.0,
              "#f0f921"
             ]
            ]
           }
          ],
          "mesh3d": [
           {
            "type": "mesh3d",
            "colorbar": {
             "outlinewidth": 0,
             "ticks": ""
            }
           }
          ],
          "scatter": [
           {
            "marker": {
             "line": {
              "color": "#283442"
             }
            },
            "type": "scatter"
           }
          ],
          "parcoords": [
           {
            "type": "parcoords",
            "line": {
             "colorbar": {
              "outlinewidth": 0,
              "ticks": ""
             }
            }
           }
          ],
          "scatterpolargl": [
           {
            "type": "scatterpolargl",
            "marker": {
             "colorbar": {
              "outlinewidth": 0,
              "ticks": ""
             }
            }
           }
          ],
          "bar": [
           {
            "error_x": {
             "color": "#f2f5fa"
            },
            "error_y": {
             "color": "#f2f5fa"
            },
            "marker": {
             "line": {
              "color": "rgb(17,17,17)",
              "width": 0.5
             },
             "pattern": {
              "fillmode": "overlay",
              "size": 10,
              "solidity": 0.2
             }
            },
            "type": "bar"
           }
          ],
          "scattergeo": [
           {
            "type": "scattergeo",
            "marker": {
             "colorbar": {
              "outlinewidth": 0,
              "ticks": ""
             }
            }
           }
          ],
          "scatterpolar": [
           {
            "type": "scatterpolar",
            "marker": {
             "colorbar": {
              "outlinewidth": 0,
              "ticks": ""
             }
            }
           }
          ],
          "histogram": [
           {
            "marker": {
             "pattern": {
              "fillmode": "overlay",
              "size": 10,
              "solidity": 0.2
             }
            },
            "type": "histogram"
           }
          ],
          "scattergl": [
           {
            "marker": {
             "line": {
              "color": "#283442"
             }
            },
            "type": "scattergl"
           }
          ],
          "scatter3d": [
           {
            "type": "scatter3d",
            "line": {
             "colorbar": {
              "outlinewidth": 0,
              "ticks": ""
             }
            },
            "marker": {
             "colorbar": {
              "outlinewidth": 0,
              "ticks": ""
             }
            }
           }
          ],
          "scattermap": [
           {
            "type": "scattermap",
            "marker": {
             "colorbar": {
              "outlinewidth": 0,
              "ticks": ""
             }
            }
           }
          ],
          "scattermapbox": [
           {
            "type": "scattermapbox",
            "marker": {
             "colorbar": {
              "outlinewidth": 0,
              "ticks": ""
             }
            }
           }
          ],
          "scatterternary": [
           {
            "type": "scatterternary",
            "marker": {
             "colorbar": {
              "outlinewidth": 0,
              "ticks": ""
             }
            }
           }
          ],
          "scattercarpet": [
           {
            "type": "scattercarpet",
            "marker": {
             "colorbar": {
              "outlinewidth": 0,
              "ticks": ""
             }
            }
           }
          ],
          "carpet": [
           {
            "aaxis": {
             "endlinecolor": "#A2B1C6",
             "gridcolor": "#506784",
             "linecolor": "#506784",
             "minorgridcolor": "#506784",
             "startlinecolor": "#A2B1C6"
            },
            "baxis": {
             "endlinecolor": "#A2B1C6",
             "gridcolor": "#506784",
             "linecolor": "#506784",
             "minorgridcolor": "#506784",
             "startlinecolor": "#A2B1C6"
            },
            "type": "carpet"
           }
          ],
          "table": [
           {
            "cells": {
             "fill": {
              "color": "#506784"
             },
             "line": {
              "color": "rgb(17,17,17)"
             }
            },
            "header": {
             "fill": {
              "color": "#2a3f5f"
             },
             "line": {
              "color": "rgb(17,17,17)"
             }
            },
            "type": "table"
           }
          ],
          "barpolar": [
           {
            "marker": {
             "line": {
              "color": "rgb(17,17,17)",
              "width": 0.5
             },
             "pattern": {
              "fillmode": "overlay",
              "size": 10,
              "solidity": 0.2
             }
            },
            "type": "barpolar"
           }
          ],
          "pie": [
           {
            "automargin": true,
            "type": "pie"
           }
          ]
         },
         "layout": {
          "autotypenumbers": "strict",
          "colorway": [
           "#636efa",
           "#EF553B",
           "#00cc96",
           "#ab63fa",
           "#FFA15A",
           "#19d3f3",
           "#FF6692",
           "#B6E880",
           "#FF97FF",
           "#FECB52"
          ],
          "font": {
           "color": "#f2f5fa"
          },
          "hovermode": "closest",
          "hoverlabel": {
           "align": "left"
          },
          "paper_bgcolor": "rgb(17,17,17)",
          "plot_bgcolor": "rgb(17,17,17)",
          "polar": {
           "bgcolor": "rgb(17,17,17)",
           "angularaxis": {
            "gridcolor": "#506784",
            "linecolor": "#506784",
            "ticks": ""
           },
           "radialaxis": {
            "gridcolor": "#506784",
            "linecolor": "#506784",
            "ticks": ""
           }
          },
          "ternary": {
           "bgcolor": "rgb(17,17,17)",
           "aaxis": {
            "gridcolor": "#506784",
            "linecolor": "#506784",
            "ticks": ""
           },
           "baxis": {
            "gridcolor": "#506784",
            "linecolor": "#506784",
            "ticks": ""
           },
           "caxis": {
            "gridcolor": "#506784",
            "linecolor": "#506784",
            "ticks": ""
           }
          },
          "coloraxis": {
           "colorbar": {
            "outlinewidth": 0,
            "ticks": ""
           }
          },
          "colorscale": {
           "sequential": [
            [
             0.0,
             "#0d0887"
            ],
            [
             0.1111111111111111,
             "#46039f"
            ],
            [
             0.2222222222222222,
             "#7201a8"
            ],
            [
             0.3333333333333333,
             "#9c179e"
            ],
            [
             0.4444444444444444,
             "#bd3786"
            ],
            [
             0.5555555555555556,
             "#d8576b"
            ],
            [
             0.6666666666666666,
             "#ed7953"
            ],
            [
             0.7777777777777778,
             "#fb9f3a"
            ],
            [
             0.8888888888888888,
             "#fdca26"
            ],
            [
             1.0,
             "#f0f921"
            ]
           ],
           "sequentialminus": [
            [
             0.0,
             "#0d0887"
            ],
            [
             0.1111111111111111,
             "#46039f"
            ],
            [
             0.2222222222222222,
             "#7201a8"
            ],
            [
             0.3333333333333333,
             "#9c179e"
            ],
            [
             0.4444444444444444,
             "#bd3786"
            ],
            [
             0.5555555555555556,
             "#d8576b"
            ],
            [
             0.6666666666666666,
             "#ed7953"
            ],
            [
             0.7777777777777778,
             "#fb9f3a"
            ],
            [
             0.8888888888888888,
             "#fdca26"
            ],
            [
             1.0,
             "#f0f921"
            ]
           ],
           "diverging": [
            [
             0,
             "#8e0152"
            ],
            [
             0.1,
             "#c51b7d"
            ],
            [
             0.2,
             "#de77ae"
            ],
            [
             0.3,
             "#f1b6da"
            ],
            [
             0.4,
             "#fde0ef"
            ],
            [
             0.5,
             "#f7f7f7"
            ],
            [
             0.6,
             "#e6f5d0"
            ],
            [
             0.7,
             "#b8e186"
            ],
            [
             0.8,
             "#7fbc41"
            ],
            [
             0.9,
             "#4d9221"
            ],
            [
             1,
             "#276419"
            ]
           ]
          },
          "xaxis": {
           "gridcolor": "#283442",
           "linecolor": "#506784",
           "ticks": "",
           "title": {
            "standoff": 15
           },
           "zerolinecolor": "#283442",
           "automargin": true,
           "zerolinewidth": 2
          },
          "yaxis": {
           "gridcolor": "#283442",
           "linecolor": "#506784",
           "ticks": "",
           "title": {
            "standoff": 15
           },
           "zerolinecolor": "#283442",
           "automargin": true,
           "zerolinewidth": 2
          },
          "scene": {
           "xaxis": {
            "backgroundcolor": "rgb(17,17,17)",
            "gridcolor": "#506784",
            "linecolor": "#506784",
            "showbackground": true,
            "ticks": "",
            "zerolinecolor": "#C8D4E3",
            "gridwidth": 2
           },
           "yaxis": {
            "backgroundcolor": "rgb(17,17,17)",
            "gridcolor": "#506784",
            "linecolor": "#506784",
            "showbackground": true,
            "ticks": "",
            "zerolinecolor": "#C8D4E3",
            "gridwidth": 2
           },
           "zaxis": {
            "backgroundcolor": "rgb(17,17,17)",
            "gridcolor": "#506784",
            "linecolor": "#506784",
            "showbackground": true,
            "ticks": "",
            "zerolinecolor": "#C8D4E3",
            "gridwidth": 2
           }
          },
          "shapedefaults": {
           "line": {
            "color": "#f2f5fa"
           }
          },
          "annotationdefaults": {
           "arrowcolor": "#f2f5fa",
           "arrowhead": 0,
           "arrowwidth": 1
          },
          "geo": {
           "bgcolor": "rgb(17,17,17)",
           "landcolor": "rgb(17,17,17)",
           "subunitcolor": "#506784",
           "showland": true,
           "showlakes": true,
           "lakecolor": "rgb(17,17,17)"
          },
          "title": {
           "x": 0.05
          },
          "updatemenudefaults": {
           "bgcolor": "#506784",
           "borderwidth": 0
          },
          "sliderdefaults": {
           "bgcolor": "#C8D4E3",
           "borderwidth": 1,
           "bordercolor": "rgb(17,17,17)",
           "tickwidth": 0
          },
          "mapbox": {
           "style": "dark"
          }
         }
        },
        "xaxis": {
         "anchor": "y",
         "domain": [
          0.0,
          1.0
         ]
        },
        "yaxis": {
         "anchor": "x",
         "domain": [
          0.55,
          1.0
         ],
         "title": {
          "text": "Price"
         }
        },
        "xaxis2": {
         "anchor": "y2",
         "domain": [
          0.0,
          1.0
         ],
         "title": {
          "text": "Time"
         }
        },
        "yaxis2": {
         "anchor": "x2",
         "domain": [
          0.0,
          0.45
         ],
         "title": {
          "text": "Price Component"
         }
        },
        "annotations": [
         {
          "font": {
           "size": 16
          },
          "showarrow": false,
          "text": "Generated Price Series with Periodic Patterns",
          "x": 0.5,
          "xanchor": "center",
          "xref": "paper",
          "y": 1.0,
          "yanchor": "bottom",
          "yref": "paper"
         },
         {
          "font": {
           "size": 16
          },
          "showarrow": false,
          "text": "Price Components",
          "x": 0.5,
          "xanchor": "center",
          "xref": "paper",
          "y": 0.45,
          "yanchor": "bottom",
          "yref": "paper"
         }
        ],
        "title": {
         "text": "Realistic Price Data with Multiple Periodic Components"
        },
        "height": 700,
        "width": 1200
       },
       "config": {
        "plotlyServerURL": "https://plot.ly"
       }
      }
     },
     "metadata": {},
     "output_type": "display_data"
    }
   ],
   "execution_count": 3
  },
  {
   "cell_type": "markdown",
   "metadata": {},
   "source": [
    "## Generate Trading Data\n",
    "Create price and timestamp data for neural network trading evolution"
   ]
  },
  {
   "cell_type": "code",
   "metadata": {
    "ExecuteTime": {
     "end_time": "2025-06-16T12:17:41.596713Z",
     "start_time": "2025-06-16T12:17:30.214230Z"
    }
   },
   "source": "",
   "outputs": [],
   "execution_count": null
  },
  {
   "metadata": {
    "ExecuteTime": {
     "end_time": "2025-06-16T12:17:41.596824Z",
     "start_time": "2025-06-16T12:17:30.229306Z"
    }
   },
   "cell_type": "code",
   "source": [
    "# Visualize price data\n",
    "fig = go.Figure()\n",
    "\n",
    "fig.add_trace(go.Scatter(\n",
    "    x=timestamps,\n",
    "    y=price_data,\n",
    "    mode='lines',\n",
    "    name='Price Data',\n",
    "    line=dict(color='blue', width=1)\n",
    "))\n",
    "\n",
    "fig.update_layout(\n",
    "    title=\"Simulated Price Data\",\n",
    "    xaxis_title=\"Time\",\n",
    "    yaxis_title=\"Price\",\n",
    "    width=800,\n",
    "    height=500\n",
    ")\n",
    "\n",
    "fig.show()\n"
   ],
   "outputs": [
    {
     "data": {
      "application/vnd.plotly.v1+json": {
       "data": [
        {
         "line": {
          "color": "blue",
          "width": 1
         },
         "mode": "lines",
         "name": "Price Data",
         "x": {
          "dtype": "f8",
          "bdata": "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"
         },
         "y": {
          "dtype": "f8",
          "bdata": "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"
         },
         "type": "scatter"
        }
       ],
       "layout": {
        "template": {
         "data": {
          "histogram2dcontour": [
           {
            "type": "histogram2dcontour",
            "colorbar": {
             "outlinewidth": 0,
             "ticks": ""
            },
            "colorscale": [
             [
              0.0,
              "#0d0887"
             ],
             [
              0.1111111111111111,
              "#46039f"
             ],
             [
              0.2222222222222222,
              "#7201a8"
             ],
             [
              0.3333333333333333,
              "#9c179e"
             ],
             [
              0.4444444444444444,
              "#bd3786"
             ],
             [
              0.5555555555555556,
              "#d8576b"
             ],
             [
              0.6666666666666666,
              "#ed7953"
             ],
             [
              0.7777777777777778,
              "#fb9f3a"
             ],
             [
              0.8888888888888888,
              "#fdca26"
             ],
             [
              1.0,
              "#f0f921"
             ]
            ]
           }
          ],
          "choropleth": [
           {
            "type": "choropleth",
            "colorbar": {
             "outlinewidth": 0,
             "ticks": ""
            }
           }
          ],
          "histogram2d": [
           {
            "type": "histogram2d",
            "colorbar": {
             "outlinewidth": 0,
             "ticks": ""
            },
            "colorscale": [
             [
              0.0,
              "#0d0887"
             ],
             [
              0.1111111111111111,
              "#46039f"
             ],
             [
              0.2222222222222222,
              "#7201a8"
             ],
             [
              0.3333333333333333,
              "#9c179e"
             ],
             [
              0.4444444444444444,
              "#bd3786"
             ],
             [
              0.5555555555555556,
              "#d8576b"
             ],
             [
              0.6666666666666666,
              "#ed7953"
             ],
             [
              0.7777777777777778,
              "#fb9f3a"
             ],
             [
              0.8888888888888888,
              "#fdca26"
             ],
             [
              1.0,
              "#f0f921"
             ]
            ]
           }
          ],
          "heatmap": [
           {
            "type": "heatmap",
            "colorbar": {
             "outlinewidth": 0,
             "ticks": ""
            },
            "colorscale": [
             [
              0.0,
              "#0d0887"
             ],
             [
              0.1111111111111111,
              "#46039f"
             ],
             [
              0.2222222222222222,
              "#7201a8"
             ],
             [
              0.3333333333333333,
              "#9c179e"
             ],
             [
              0.4444444444444444,
              "#bd3786"
             ],
             [
              0.5555555555555556,
              "#d8576b"
             ],
             [
              0.6666666666666666,
              "#ed7953"
             ],
             [
              0.7777777777777778,
              "#fb9f3a"
             ],
             [
              0.8888888888888888,
              "#fdca26"
             ],
             [
              1.0,
              "#f0f921"
             ]
            ]
           }
          ],
          "contourcarpet": [
           {
            "type": "contourcarpet",
            "colorbar": {
             "outlinewidth": 0,
             "ticks": ""
            }
           }
          ],
          "contour": [
           {
            "type": "contour",
            "colorbar": {
             "outlinewidth": 0,
             "ticks": ""
            },
            "colorscale": [
             [
              0.0,
              "#0d0887"
             ],
             [
              0.1111111111111111,
              "#46039f"
             ],
             [
              0.2222222222222222,
              "#7201a8"
             ],
             [
              0.3333333333333333,
              "#9c179e"
             ],
             [
              0.4444444444444444,
              "#bd3786"
             ],
             [
              0.5555555555555556,
              "#d8576b"
             ],
             [
              0.6666666666666666,
              "#ed7953"
             ],
             [
              0.7777777777777778,
              "#fb9f3a"
             ],
             [
              0.8888888888888888,
              "#fdca26"
             ],
             [
              1.0,
              "#f0f921"
             ]
            ]
           }
          ],
          "surface": [
           {
            "type": "surface",
            "colorbar": {
             "outlinewidth": 0,
             "ticks": ""
            },
            "colorscale": [
             [
              0.0,
              "#0d0887"
             ],
             [
              0.1111111111111111,
              "#46039f"
             ],
             [
              0.2222222222222222,
              "#7201a8"
             ],
             [
              0.3333333333333333,
              "#9c179e"
             ],
             [
              0.4444444444444444,
              "#bd3786"
             ],
             [
              0.5555555555555556,
              "#d8576b"
             ],
             [
              0.6666666666666666,
              "#ed7953"
             ],
             [
              0.7777777777777778,
              "#fb9f3a"
             ],
             [
              0.8888888888888888,
              "#fdca26"
             ],
             [
              1.0,
              "#f0f921"
             ]
            ]
           }
          ],
          "mesh3d": [
           {
            "type": "mesh3d",
            "colorbar": {
             "outlinewidth": 0,
             "ticks": ""
            }
           }
          ],
          "scatter": [
           {
            "marker": {
             "line": {
              "color": "#283442"
             }
            },
            "type": "scatter"
           }
          ],
          "parcoords": [
           {
            "type": "parcoords",
            "line": {
             "colorbar": {
              "outlinewidth": 0,
              "ticks": ""
             }
            }
           }
          ],
          "scatterpolargl": [
           {
            "type": "scatterpolargl",
            "marker": {
             "colorbar": {
              "outlinewidth": 0,
              "ticks": ""
             }
            }
           }
          ],
          "bar": [
           {
            "error_x": {
             "color": "#f2f5fa"
            },
            "error_y": {
             "color": "#f2f5fa"
            },
            "marker": {
             "line": {
              "color": "rgb(17,17,17)",
              "width": 0.5
             },
             "pattern": {
              "fillmode": "overlay",
              "size": 10,
              "solidity": 0.2
             }
            },
            "type": "bar"
           }
          ],
          "scattergeo": [
           {
            "type": "scattergeo",
            "marker": {
             "colorbar": {
              "outlinewidth": 0,
              "ticks": ""
             }
            }
           }
          ],
          "scatterpolar": [
           {
            "type": "scatterpolar",
            "marker": {
             "colorbar": {
              "outlinewidth": 0,
              "ticks": ""
             }
            }
           }
          ],
          "histogram": [
           {
            "marker": {
             "pattern": {
              "fillmode": "overlay",
              "size": 10,
              "solidity": 0.2
             }
            },
            "type": "histogram"
           }
          ],
          "scattergl": [
           {
            "marker": {
             "line": {
              "color": "#283442"
             }
            },
            "type": "scattergl"
           }
          ],
          "scatter3d": [
           {
            "type": "scatter3d",
            "line": {
             "colorbar": {
              "outlinewidth": 0,
              "ticks": ""
             }
            },
            "marker": {
             "colorbar": {
              "outlinewidth": 0,
              "ticks": ""
             }
            }
           }
          ],
          "scattermap": [
           {
            "type": "scattermap",
            "marker": {
             "colorbar": {
              "outlinewidth": 0,
              "ticks": ""
             }
            }
           }
          ],
          "scattermapbox": [
           {
            "type": "scattermapbox",
            "marker": {
             "colorbar": {
              "outlinewidth": 0,
              "ticks": ""
             }
            }
           }
          ],
          "scatterternary": [
           {
            "type": "scatterternary",
            "marker": {
             "colorbar": {
              "outlinewidth": 0,
              "ticks": ""
             }
            }
           }
          ],
          "scattercarpet": [
           {
            "type": "scattercarpet",
            "marker": {
             "colorbar": {
              "outlinewidth": 0,
              "ticks": ""
             }
            }
           }
          ],
          "carpet": [
           {
            "aaxis": {
             "endlinecolor": "#A2B1C6",
             "gridcolor": "#506784",
             "linecolor": "#506784",
             "minorgridcolor": "#506784",
             "startlinecolor": "#A2B1C6"
            },
            "baxis": {
             "endlinecolor": "#A2B1C6",
             "gridcolor": "#506784",
             "linecolor": "#506784",
             "minorgridcolor": "#506784",
             "startlinecolor": "#A2B1C6"
            },
            "type": "carpet"
           }
          ],
          "table": [
           {
            "cells": {
             "fill": {
              "color": "#506784"
             },
             "line": {
              "color": "rgb(17,17,17)"
             }
            },
            "header": {
             "fill": {
              "color": "#2a3f5f"
             },
             "line": {
              "color": "rgb(17,17,17)"
             }
            },
            "type": "table"
           }
          ],
          "barpolar": [
           {
            "marker": {
             "line": {
              "color": "rgb(17,17,17)",
              "width": 0.5
             },
             "pattern": {
              "fillmode": "overlay",
              "size": 10,
              "solidity": 0.2
             }
            },
            "type": "barpolar"
           }
          ],
          "pie": [
           {
            "automargin": true,
            "type": "pie"
           }
          ]
         },
         "layout": {
          "autotypenumbers": "strict",
          "colorway": [
           "#636efa",
           "#EF553B",
           "#00cc96",
           "#ab63fa",
           "#FFA15A",
           "#19d3f3",
           "#FF6692",
           "#B6E880",
           "#FF97FF",
           "#FECB52"
          ],
          "font": {
           "color": "#f2f5fa"
          },
          "hovermode": "closest",
          "hoverlabel": {
           "align": "left"
          },
          "paper_bgcolor": "rgb(17,17,17)",
          "plot_bgcolor": "rgb(17,17,17)",
          "polar": {
           "bgcolor": "rgb(17,17,17)",
           "angularaxis": {
            "gridcolor": "#506784",
            "linecolor": "#506784",
            "ticks": ""
           },
           "radialaxis": {
            "gridcolor": "#506784",
            "linecolor": "#506784",
            "ticks": ""
           }
          },
          "ternary": {
           "bgcolor": "rgb(17,17,17)",
           "aaxis": {
            "gridcolor": "#506784",
            "linecolor": "#506784",
            "ticks": ""
           },
           "baxis": {
            "gridcolor": "#506784",
            "linecolor": "#506784",
            "ticks": ""
           },
           "caxis": {
            "gridcolor": "#506784",
            "linecolor": "#506784",
            "ticks": ""
           }
          },
          "coloraxis": {
           "colorbar": {
            "outlinewidth": 0,
            "ticks": ""
           }
          },
          "colorscale": {
           "sequential": [
            [
             0.0,
             "#0d0887"
            ],
            [
             0.1111111111111111,
             "#46039f"
            ],
            [
             0.2222222222222222,
             "#7201a8"
            ],
            [
             0.3333333333333333,
             "#9c179e"
            ],
            [
             0.4444444444444444,
             "#bd3786"
            ],
            [
             0.5555555555555556,
             "#d8576b"
            ],
            [
             0.6666666666666666,
             "#ed7953"
            ],
            [
             0.7777777777777778,
             "#fb9f3a"
            ],
            [
             0.8888888888888888,
             "#fdca26"
            ],
            [
             1.0,
             "#f0f921"
            ]
           ],
           "sequentialminus": [
            [
             0.0,
             "#0d0887"
            ],
            [
             0.1111111111111111,
             "#46039f"
            ],
            [
             0.2222222222222222,
             "#7201a8"
            ],
            [
             0.3333333333333333,
             "#9c179e"
            ],
            [
             0.4444444444444444,
             "#bd3786"
            ],
            [
             0.5555555555555556,
             "#d8576b"
            ],
            [
             0.6666666666666666,
             "#ed7953"
            ],
            [
             0.7777777777777778,
             "#fb9f3a"
            ],
            [
             0.8888888888888888,
             "#fdca26"
            ],
            [
             1.0,
             "#f0f921"
            ]
           ],
           "diverging": [
            [
             0,
             "#8e0152"
            ],
            [
             0.1,
             "#c51b7d"
            ],
            [
             0.2,
             "#de77ae"
            ],
            [
             0.3,
             "#f1b6da"
            ],
            [
             0.4,
             "#fde0ef"
            ],
            [
             0.5,
             "#f7f7f7"
            ],
            [
             0.6,
             "#e6f5d0"
            ],
            [
             0.7,
             "#b8e186"
            ],
            [
             0.8,
             "#7fbc41"
            ],
            [
             0.9,
             "#4d9221"
            ],
            [
             1,
             "#276419"
            ]
           ]
          },
          "xaxis": {
           "gridcolor": "#283442",
           "linecolor": "#506784",
           "ticks": "",
           "title": {
            "standoff": 15
           },
           "zerolinecolor": "#283442",
           "automargin": true,
           "zerolinewidth": 2
          },
          "yaxis": {
           "gridcolor": "#283442",
           "linecolor": "#506784",
           "ticks": "",
           "title": {
            "standoff": 15
           },
           "zerolinecolor": "#283442",
           "automargin": true,
           "zerolinewidth": 2
          },
          "scene": {
           "xaxis": {
            "backgroundcolor": "rgb(17,17,17)",
            "gridcolor": "#506784",
            "linecolor": "#506784",
            "showbackground": true,
            "ticks": "",
            "zerolinecolor": "#C8D4E3",
            "gridwidth": 2
           },
           "yaxis": {
            "backgroundcolor": "rgb(17,17,17)",
            "gridcolor": "#506784",
            "linecolor": "#506784",
            "showbackground": true,
            "ticks": "",
            "zerolinecolor": "#C8D4E3",
            "gridwidth": 2
           },
           "zaxis": {
            "backgroundcolor": "rgb(17,17,17)",
            "gridcolor": "#506784",
            "linecolor": "#506784",
            "showbackground": true,
            "ticks": "",
            "zerolinecolor": "#C8D4E3",
            "gridwidth": 2
           }
          },
          "shapedefaults": {
           "line": {
            "color": "#f2f5fa"
           }
          },
          "annotationdefaults": {
           "arrowcolor": "#f2f5fa",
           "arrowhead": 0,
           "arrowwidth": 1
          },
          "geo": {
           "bgcolor": "rgb(17,17,17)",
           "landcolor": "rgb(17,17,17)",
           "subunitcolor": "#506784",
           "showland": true,
           "showlakes": true,
           "lakecolor": "rgb(17,17,17)"
          },
          "title": {
           "x": 0.05
          },
          "updatemenudefaults": {
           "bgcolor": "#506784",
           "borderwidth": 0
          },
          "sliderdefaults": {
           "bgcolor": "#C8D4E3",
           "borderwidth": 1,
           "bordercolor": "rgb(17,17,17)",
           "tickwidth": 0
          },
          "mapbox": {
           "style": "dark"
          }
         }
        },
        "title": {
         "text": "Simulated Price Data"
        },
        "xaxis": {
         "title": {
          "text": "Time"
         }
        },
        "yaxis": {
         "title": {
          "text": "Price"
         }
        },
        "width": 800,
        "height": 500
       },
       "config": {
        "plotlyServerURL": "https://plot.ly"
       }
      }
     },
     "metadata": {},
     "output_type": "display_data"
    }
   ],
   "execution_count": 4
  },
  {
   "cell_type": "markdown",
   "metadata": {},
   "source": [
    "## Test 2: Trading Neural Network Evolution\n",
    "Evolve neural networks for optimal trading performance"
   ]
  },
  {
   "cell_type": "code",
   "metadata": {
    "ExecuteTime": {
     "end_time": "2025-06-16T12:17:41.596890Z",
     "start_time": "2025-06-16T12:17:30.245684Z"
    }
   },
   "source": [
    "# Create trading fitness function\n",
    "trading_fitness = create_trading_fitness_function(\n",
    "    prices=price_data,\n",
    "    timestamps=timestamps,\n",
    "    risk_penalty=0.1,\n",
    "    sharpe_weight=0.3\n",
    ")\n",
    "\n",
    "print(\"Testing Random Individual Performance\")\n",
    "print(\"=\" * 40)\n",
    "\n",
    "# Test a few random individuals for baseline\n",
    "from src.evolution import Individual\n",
    "\n",
    "random_scores = []\n",
    "for i in range(10):\n",
    "    individual = Individual()\n",
    "    fitness = trading_fitness(individual)\n",
    "    random_scores.append(fitness)\n",
    "    print(f\"Random individual {i+1}: {fitness:.4f}\")\n",
    "\n",
    "print(f\"\\nRandom baseline - Mean: {np.mean(random_scores):.4f}, Std: {np.std(random_scores):.4f}\")\n",
    "print(f\"Best random: {np.max(random_scores):.4f}\")"
   ],
   "outputs": [
    {
     "name": "stdout",
     "output_type": "stream",
     "text": [
      "Testing Random Individual Performance\n",
      "========================================\n"
     ]
    },
    {
     "ename": "NameError",
     "evalue": "name 'normalized_prices' is not defined",
     "output_type": "error",
     "traceback": [
      "\u001B[31m---------------------------------------------------------------------------\u001B[39m",
      "\u001B[31mNameError\u001B[39m                                 Traceback (most recent call last)",
      "\u001B[36mCell\u001B[39m\u001B[36m \u001B[39m\u001B[32mIn[5]\u001B[39m\u001B[32m, line 18\u001B[39m\n\u001B[32m     16\u001B[39m \u001B[38;5;28;01mfor\u001B[39;00m i \u001B[38;5;129;01min\u001B[39;00m \u001B[38;5;28mrange\u001B[39m(\u001B[32m10\u001B[39m):\n\u001B[32m     17\u001B[39m     individual = Individual()\n\u001B[32m---> \u001B[39m\u001B[32m18\u001B[39m     fitness = \u001B[43mtrading_fitness\u001B[49m\u001B[43m(\u001B[49m\u001B[43mindividual\u001B[49m\u001B[43m)\u001B[49m\n\u001B[32m     19\u001B[39m     random_scores.append(fitness)\n\u001B[32m     20\u001B[39m     \u001B[38;5;28mprint\u001B[39m(\u001B[33mf\u001B[39m\u001B[33m\"\u001B[39m\u001B[33mRandom individual \u001B[39m\u001B[38;5;132;01m{\u001B[39;00mi+\u001B[32m1\u001B[39m\u001B[38;5;132;01m}\u001B[39;00m\u001B[33m: \u001B[39m\u001B[38;5;132;01m{\u001B[39;00mfitness\u001B[38;5;132;01m:\u001B[39;00m\u001B[33m.4f\u001B[39m\u001B[38;5;132;01m}\u001B[39;00m\u001B[33m\"\u001B[39m)\n",
      "\u001B[36mFile \u001B[39m\u001B[32m~/Desktop/Projects/Learning/neat/src/evolution/fitness.py:87\u001B[39m, in \u001B[36mcreate_trading_fitness_function.<locals>.fitness_function\u001B[39m\u001B[34m(individual)\u001B[39m\n\u001B[32m     84\u001B[39m portfolio_values = [\u001B[32m1.0\u001B[39m]\n\u001B[32m     86\u001B[39m \u001B[38;5;66;03m# Single pass - no tensor collection or replay\u001B[39;00m\n\u001B[32m---> \u001B[39m\u001B[32m87\u001B[39m \u001B[38;5;28;01mfor\u001B[39;00m norm_price, price, timestamp \u001B[38;5;129;01min\u001B[39;00m \u001B[38;5;28mzip\u001B[39m(\u001B[43mnormalized_prices\u001B[49m, prices, timestamps):\n\u001B[32m     88\u001B[39m     \u001B[38;5;66;03m# Get action as integer directly (avoids tensor operations)\u001B[39;00m\n\u001B[32m     89\u001B[39m     action = individual.get_action_int(norm_price, timestamp)\n\u001B[32m     91\u001B[39m     \u001B[38;5;66;03m# Execute trading logic immediately\u001B[39;00m\n",
      "\u001B[31mNameError\u001B[39m: name 'normalized_prices' is not defined"
     ]
    }
   ],
   "execution_count": 5
  },
  {
   "cell_type": "code",
   "metadata": {
    "ExecuteTime": {
     "end_time": "2025-06-16T12:17:41.596953Z",
     "start_time": "2025-06-16T10:58:52.144297Z"
    }
   },
   "source": [
    "# Run genetic algorithm for trading neural network evolution\n",
    "print(\"\\nEvolution Trading Neural Networks\")\n",
    "print(\"=\" * 40)\n",
    "\n",
    "# Create genetic algorithm for trading\n",
    "ga_trading = GeneticAlgorithm(\n",
    "  population_size=30,\n",
    "  crossover_rate=0.9,\n",
    "  mutation_rate=0.05,  # Lower mutation for trading\n",
    "  mutation_strength=0.1,\n",
    "  tournament_size=3,\n",
    "  elitism_count=3,\n",
    ")\n",
    "\n",
    "# Create trading fitness function\n",
    "from src.evolution import create_trading_fitness_function\n",
    "trading_fitness = create_trading_fitness_function(\n",
    "  prices=price_data,\n",
    "  timestamps=timestamps,\n",
    "  risk_penalty=0.1,\n",
    "  sharpe_weight=0.3\n",
    ")\n",
    "\n",
    "# Run evolution with direct fitness function\n",
    "best_trader, trading_evolution_stats = ga_trading.run_evolution(\n",
    "  fitness_function=trading_fitness,\n",
    "  generations=50,\n",
    "  verbose=True\n",
    ")\n",
    "\n",
    "# Test final fitness\n",
    "final_fitness = trading_fitness(best_trader)\n",
    "\n",
    "print(f\"\\nBest evolved individual fitness: {final_fitness:.6f}\")\n",
    "print(f\"Improvement over random mean: {final_fitness -\n",
    "np.mean(random_scores):.4f}\")\n"
   ],
   "outputs": [
    {
     "name": "stdout",
     "output_type": "stream",
     "text": [
      "\n",
      "Evolution Trading Neural Networks\n",
      "========================================\n",
      "🧬 Genetic Algorithm initialized (Population: 30)\n",
      "🚀 Starting evolution (50 generations)...\n",
      "Generation   0: Best=  2.6560, Mean=  0.0190, Std=0.8736 [1.3s]\n",
      "Generation  10: Best=113.4838, Mean= 29.4408, Std=46.7958 [14.8s]\n"
     ]
    }
   ],
   "execution_count": null
  },
  {
   "metadata": {},
   "cell_type": "markdown",
   "source": [
    "## Genetic Algorithm Results\n",
    "\n",
    "The genetic algorithm successfully evolved neural networks for trading."
   ]
  },
  {
   "metadata": {
    "ExecuteTime": {
     "end_time": "2025-06-16T12:17:41.598849Z",
     "start_time": "2025-06-16T10:58:23.013676Z"
    }
   },
   "cell_type": "code",
   "source": [
    "print(\"⚡ GENETIC ALGORITHM RESULTS\")\n",
    "print(\"=\" * 40)\n",
    "\n",
    "print(f\"\\n🧬 Genetic Algorithm:\")\n",
    "print(f\"   • Population size: {ga_trading.population_size}\")\n",
    "print(f\"   • Device: CPU (OPTIMIZED)\")  # Fixed - no more population.individual_params\n",
    "print(f\"   • Generations: 50\")\n",
    "\n",
    "print(f\"\\n✨ Key Features:\")\n",
    "print(f\"   • Ultra-optimized CPU-only neural networks\")\n",
    "print(f\"   • Single-pass trading simulation\")\n",
    "print(f\"   • Time-aware temporal memory\")\n",
    "print(f\"   • Tournament selection with elitism\")\n"
   ],
   "outputs": [
    {
     "name": "stdout",
     "output_type": "stream",
     "text": [
      "⚡ GENETIC ALGORITHM RESULTS\n",
      "========================================\n",
      "\n",
      "🧬 Genetic Algorithm:\n",
      "   • Population size: 30\n",
      "   • Device: CPU (OPTIMIZED)\n",
      "   • Generations: 50\n",
      "\n",
      "✨ Key Features:\n",
      "   • Ultra-optimized CPU-only neural networks\n",
      "   • Single-pass trading simulation\n",
      "   • Time-aware temporal memory\n",
      "   • Tournament selection with elitism\n"
     ]
    }
   ],
   "execution_count": 7
  },
  {
   "cell_type": "code",
   "metadata": {
    "ExecuteTime": {
     "end_time": "2025-06-16T12:17:41.599865Z",
     "start_time": "2025-06-16T10:58:23.335432Z"
    }
   },
   "source": [
    "import matplotlib.pyplot as plt\n",
    "import plotly.graph_objects as go\n",
    "from plotly.subplots import make_subplots\n",
    "import numpy as np\n",
    "\n",
    "# Visualize trading evolution progress\n",
    "generations = list(range(len(trading_evolution_stats)))  # Generate generation numbers\n",
    "best_fitness = [stat['best_fitness'] for stat in\n",
    "trading_evolution_stats]\n",
    "mean_fitness = [stat['mean_fitness'] for stat in\n",
    "trading_evolution_stats]\n",
    "std_fitness = [stat['std_fitness'] for stat in\n",
    "trading_evolution_stats]\n",
    "\n",
    "# Create matplotlib plot\n",
    "plt.figure(figsize=(12, 8))\n",
    "\n",
    "plt.subplot(2, 2, 1)\n",
    "plt.plot(generations, best_fitness, 'g-', linewidth=2,\n",
    "label='Best Fitness')\n",
    "plt.plot(generations, mean_fitness, 'b-', alpha=0.7, label='Mean Fitness')\n",
    "plt.fill_between(generations,\n",
    "               np.array(mean_fitness) - np.array(std_fitness),\n",
    "               np.array(mean_fitness) + np.array(std_fitness),\n",
    "               alpha=0.3, color='blue', label='±1 Std Dev')\n",
    "plt.xlabel('Generation')\n",
    "plt.ylabel('Fitness')\n",
    "plt.title('Trading Evolution Progress')\n",
    "plt.legend()\n",
    "plt.grid(True, alpha=0.3)\n",
    "\n",
    "plt.subplot(2, 2, 2)\n",
    "plt.plot(generations, std_fitness, 'orange', linewidth=2)\n",
    "plt.xlabel('Generation')\n",
    "plt.ylabel('Standard Deviation')\n",
    "plt.title('Population Diversity')\n",
    "plt.grid(True, alpha=0.3)\n",
    "\n",
    "plt.tight_layout()\n",
    "plt.show()\n",
    "\n",
    "# Create interactive plotly visualization\n",
    "fig = make_subplots(\n",
    "  rows=2, cols=1,\n",
    "  subplot_titles=('Fitness Evolution', 'Population Diversity'),\n",
    "  vertical_spacing=0.1\n",
    ")\n",
    "\n",
    "# Fitness evolution\n",
    "fig.add_trace(go.Scatter(\n",
    "  x=generations, y=best_fitness,\n",
    "  mode='lines+markers',\n",
    "  name='Best Fitness',\n",
    "  line=dict(color='green', width=2)\n",
    "), row=1, col=1)\n",
    "\n",
    "fig.add_trace(go.Scatter(\n",
    "  x=generations, y=mean_fitness,\n",
    "  mode='lines',\n",
    "  name='Mean Fitness',\n",
    "  line=dict(color='blue', width=1)\n",
    "), row=1, col=1)\n",
    "\n",
    "# Add random baseline\n",
    "fig.add_hline(\n",
    "  y=np.mean(random_scores),\n",
    "  line_dash=\"dash\",\n",
    "  line_color=\"red\",\n",
    "  annotation_text=\"Random Baseline\",\n",
    "  row=1, col=1\n",
    ")\n",
    "\n",
    "# Population diversity (standard deviation)\n",
    "fig.add_trace(go.Scatter(\n",
    "  x=generations, y=std_fitness,\n",
    "  mode='lines',\n",
    "  name='Std Deviation',\n",
    "  line=dict(color='orange', width=1)\n",
    "), row=2, col=1)\n",
    "\n",
    "fig.update_layout(\n",
    "  title=\"Genetic Algorithm Evolution - Trading Neural Networks\",\n",
    "  height=700,\n",
    "  width=1000\n",
    ")\n",
    "\n",
    "fig.update_xaxes(title_text=\"Generation\", row=2, col=1)\n",
    "fig.update_yaxes(title_text=\"Fitness\", row=1, col=1)\n",
    "fig.update_yaxes(title_text=\"Std Deviation\", row=2, col=1)\n",
    "\n",
    "fig.show()\n",
    "\n",
    "print(f\"📊 Evolution Summary:\")\n",
    "print(f\"   • Starting fitness: {best_fitness[0]:.4f}\")\n",
    "print(f\"   • Final fitness: {best_fitness[-1]:.4f}\")\n",
    "print(f\"   • Improvement: {best_fitness[-1] -\n",
    "best_fitness[0]:.4f}\")\n",
    "print(f\"   • Best generation: {generations[np.argmax(best_fitness)]}\")\n"
   ],
   "outputs": [
    {
     "ename": "NameError",
     "evalue": "name 'trading_evolution_stats' is not defined",
     "output_type": "error",
     "traceback": [
      "\u001B[31m---------------------------------------------------------------------------\u001B[39m",
      "\u001B[31mNameError\u001B[39m                                 Traceback (most recent call last)",
      "\u001B[36mCell\u001B[39m\u001B[36m \u001B[39m\u001B[32mIn[8]\u001B[39m\u001B[32m, line 7\u001B[39m\n\u001B[32m      4\u001B[39m \u001B[38;5;28;01mimport\u001B[39;00m\u001B[38;5;250m \u001B[39m\u001B[34;01mnumpy\u001B[39;00m\u001B[38;5;250m \u001B[39m\u001B[38;5;28;01mas\u001B[39;00m\u001B[38;5;250m \u001B[39m\u001B[34;01mnp\u001B[39;00m\n\u001B[32m      6\u001B[39m \u001B[38;5;66;03m# Visualize trading evolution progress\u001B[39;00m\n\u001B[32m----> \u001B[39m\u001B[32m7\u001B[39m generations = \u001B[38;5;28mlist\u001B[39m(\u001B[38;5;28mrange\u001B[39m(\u001B[38;5;28mlen\u001B[39m(\u001B[43mtrading_evolution_stats\u001B[49m)))  \u001B[38;5;66;03m# Generate generation numbers\u001B[39;00m\n\u001B[32m      8\u001B[39m best_fitness = [stat[\u001B[33m'\u001B[39m\u001B[33mbest_fitness\u001B[39m\u001B[33m'\u001B[39m] \u001B[38;5;28;01mfor\u001B[39;00m stat \u001B[38;5;129;01min\u001B[39;00m\n\u001B[32m      9\u001B[39m trading_evolution_stats]\n\u001B[32m     10\u001B[39m mean_fitness = [stat[\u001B[33m'\u001B[39m\u001B[33mmean_fitness\u001B[39m\u001B[33m'\u001B[39m] \u001B[38;5;28;01mfor\u001B[39;00m stat \u001B[38;5;129;01min\u001B[39;00m\n\u001B[32m     11\u001B[39m trading_evolution_stats]\n",
      "\u001B[31mNameError\u001B[39m: name 'trading_evolution_stats' is not defined"
     ]
    }
   ],
   "execution_count": 8
  },
  {
   "cell_type": "markdown",
   "metadata": {},
   "source": [
    "## Analyze Best Evolved Individual\n",
    "Test the performance of the evolved neural network"
   ]
  },
  {
   "cell_type": "code",
   "metadata": {
    "ExecuteTime": {
     "end_time": "2025-06-16T12:17:41.600152Z",
     "start_time": "2025-06-16T10:58:23.929743Z"
    }
   },
   "source": [
    "# Test best individual's trading performance\n",
    "def detailed_trading_simulation(individual, prices, timestamps):\n",
    "    individual.reset_state()\n",
    "    portfolio_value = 1.0\n",
    "    position = 0\n",
    "    entry_price = 0.0\n",
    "    \n",
    "    actions = []\n",
    "    executed_actions = []\n",
    "    values = []\n",
    "    \n",
    "    for i, (price, timestamp) in enumerate(zip(prices, timestamps)):\n",
    "        normalized_price = (price - 1000) / 100\n",
    "        raw_action = individual.get_action(normalized_price, timestamp)\n",
    "        \n",
    "        # Position logic\n",
    "        if position == 0 and raw_action == 2:\n",
    "            position = 1\n",
    "            entry_price = price\n",
    "            executed_action = 2\n",
    "        elif position == 1 and raw_action == 0:\n",
    "            position = 0\n",
    "            portfolio_value *= price / entry_price\n",
    "            executed_action = 0\n",
    "        else:\n",
    "            executed_action = 1\n",
    "        \n",
    "        actions.append(raw_action)\n",
    "        executed_actions.append(executed_action)\n",
    "        values.append(portfolio_value)\n",
    "    \n",
    "    return np.array(actions), np.array(executed_actions), np.array(values)\n",
    "\n",
    "# Simulate best individual\n",
    "raw_actions, executed_actions, portfolio_values = detailed_trading_simulation(best_trader, price_data, timestamps)\n",
    "\n",
    "print(\"Best Individual Performance Analysis\")\n",
    "print(\"=\" * 40)\n",
    "print(f\"Final portfolio value: {portfolio_values[-1]:.4f}\")\n",
    "print(f\"Total return: {(portfolio_values[-1] - 1.0) * 100:.2f}%\")\n",
    "print(f\"Raw actions - Hold: {np.sum(raw_actions==1)}, Sell: {np.sum(raw_actions==0)}, Buy: {np.sum(raw_actions==2)}\")\n",
    "print(f\"Executed actions - Hold: {np.sum(executed_actions==1)}, Sell: {np.sum(executed_actions==0)}, Buy: {np.sum(executed_actions==2)}\")\n",
    "\n",
    "# Count trades\n",
    "num_buys = np.sum(executed_actions == 2)\n",
    "num_sells = np.sum(executed_actions == 0)\n",
    "print(f\"Number of complete trades: {min(num_buys, num_sells)}\")"
   ],
   "outputs": [
    {
     "ename": "NameError",
     "evalue": "name 'best_trader' is not defined",
     "output_type": "error",
     "traceback": [
      "\u001B[31m---------------------------------------------------------------------------\u001B[39m",
      "\u001B[31mNameError\u001B[39m                                 Traceback (most recent call last)",
      "\u001B[36mCell\u001B[39m\u001B[36m \u001B[39m\u001B[32mIn[9]\u001B[39m\u001B[32m, line 35\u001B[39m\n\u001B[32m     32\u001B[39m     \u001B[38;5;28;01mreturn\u001B[39;00m np.array(actions), np.array(executed_actions), np.array(values)\n\u001B[32m     34\u001B[39m \u001B[38;5;66;03m# Simulate best individual\u001B[39;00m\n\u001B[32m---> \u001B[39m\u001B[32m35\u001B[39m raw_actions, executed_actions, portfolio_values = detailed_trading_simulation(\u001B[43mbest_trader\u001B[49m, price_data, timestamps)\n\u001B[32m     37\u001B[39m \u001B[38;5;28mprint\u001B[39m(\u001B[33m\"\u001B[39m\u001B[33mBest Individual Performance Analysis\u001B[39m\u001B[33m\"\u001B[39m)\n\u001B[32m     38\u001B[39m \u001B[38;5;28mprint\u001B[39m(\u001B[33m\"\u001B[39m\u001B[33m=\u001B[39m\u001B[33m\"\u001B[39m * \u001B[32m40\u001B[39m)\n",
      "\u001B[31mNameError\u001B[39m: name 'best_trader' is not defined"
     ]
    }
   ],
   "execution_count": 9
  },
  {
   "cell_type": "code",
   "metadata": {
    "ExecuteTime": {
     "end_time": "2025-06-16T12:17:41.600242Z",
     "start_time": "2025-06-16T10:58:24.285115Z"
    }
   },
   "source": [
    "# Visualize best individual's trading performance\n",
    "fig = make_subplots(\n",
    "    rows=2, cols=1,\n",
    "    subplot_titles=('Price Chart with Trading Signals', 'Portfolio Value Evolution'),\n",
    "    vertical_spacing=0.1\n",
    ")\n",
    "\n",
    "# Price chart with signals\n",
    "fig.add_trace(go.Scatter(\n",
    "    x=timestamps, y=price_data,\n",
    "    mode='lines',\n",
    "    name='Price',\n",
    "    line=dict(color='blue', width=1)\n",
    "), row=1, col=1)\n",
    "\n",
    "# Buy signals\n",
    "buy_mask = executed_actions == 2\n",
    "if np.any(buy_mask):\n",
    "    fig.add_trace(go.Scatter(\n",
    "        x=timestamps[buy_mask], y=price_data[buy_mask],\n",
    "        mode='markers',\n",
    "        name='Buy',\n",
    "        marker=dict(color='green', symbol='triangle-up', size=8)\n",
    "    ), row=1, col=1)\n",
    "\n",
    "# Sell signals\n",
    "sell_mask = executed_actions == 0\n",
    "if np.any(sell_mask):\n",
    "    fig.add_trace(go.Scatter(\n",
    "        x=timestamps[sell_mask], y=price_data[sell_mask],\n",
    "        mode='markers',\n",
    "        name='Sell',\n",
    "        marker=dict(color='red', symbol='triangle-down', size=8)\n",
    "    ), row=1, col=1)\n",
    "\n",
    "# Portfolio value\n",
    "fig.add_trace(go.Scatter(\n",
    "    x=timestamps, y=portfolio_values,\n",
    "    mode='lines',\n",
    "    name='Portfolio Value',\n",
    "    line=dict(color='purple', width=2)\n",
    "), row=2, col=1)\n",
    "\n",
    "# Add horizontal line at 1.0 (break-even)\n",
    "fig.add_hline(y=1.0, line_dash=\"dash\", line_color=\"gray\", row=2, col=1)\n",
    "\n",
    "fig.update_layout(\n",
    "    title=\"Best Evolved Individual - Trading Performance\",\n",
    "    height=800,\n",
    "    width=1200\n",
    ")\n",
    "\n",
    "fig.update_yaxes(title_text=\"Price\", row=1, col=1)\n",
    "fig.update_yaxes(title_text=\"Portfolio Value\", row=2, col=1)\n",
    "fig.update_xaxes(title_text=\"Time\", row=2, col=1)\n",
    "\n",
    "fig.show()"
   ],
   "outputs": [
    {
     "ename": "NameError",
     "evalue": "name 'executed_actions' is not defined",
     "output_type": "error",
     "traceback": [
      "\u001B[31m---------------------------------------------------------------------------\u001B[39m",
      "\u001B[31mNameError\u001B[39m                                 Traceback (most recent call last)",
      "\u001B[36mCell\u001B[39m\u001B[36m \u001B[39m\u001B[32mIn[10]\u001B[39m\u001B[32m, line 17\u001B[39m\n\u001B[32m      9\u001B[39m fig.add_trace(go.Scatter(\n\u001B[32m     10\u001B[39m     x=timestamps, y=price_data,\n\u001B[32m     11\u001B[39m     mode=\u001B[33m'\u001B[39m\u001B[33mlines\u001B[39m\u001B[33m'\u001B[39m,\n\u001B[32m     12\u001B[39m     name=\u001B[33m'\u001B[39m\u001B[33mPrice\u001B[39m\u001B[33m'\u001B[39m,\n\u001B[32m     13\u001B[39m     line=\u001B[38;5;28mdict\u001B[39m(color=\u001B[33m'\u001B[39m\u001B[33mblue\u001B[39m\u001B[33m'\u001B[39m, width=\u001B[32m1\u001B[39m)\n\u001B[32m     14\u001B[39m ), row=\u001B[32m1\u001B[39m, col=\u001B[32m1\u001B[39m)\n\u001B[32m     16\u001B[39m \u001B[38;5;66;03m# Buy signals\u001B[39;00m\n\u001B[32m---> \u001B[39m\u001B[32m17\u001B[39m buy_mask = \u001B[43mexecuted_actions\u001B[49m == \u001B[32m2\u001B[39m\n\u001B[32m     18\u001B[39m \u001B[38;5;28;01mif\u001B[39;00m np.any(buy_mask):\n\u001B[32m     19\u001B[39m     fig.add_trace(go.Scatter(\n\u001B[32m     20\u001B[39m         x=timestamps[buy_mask], y=price_data[buy_mask],\n\u001B[32m     21\u001B[39m         mode=\u001B[33m'\u001B[39m\u001B[33mmarkers\u001B[39m\u001B[33m'\u001B[39m,\n\u001B[32m     22\u001B[39m         name=\u001B[33m'\u001B[39m\u001B[33mBuy\u001B[39m\u001B[33m'\u001B[39m,\n\u001B[32m     23\u001B[39m         marker=\u001B[38;5;28mdict\u001B[39m(color=\u001B[33m'\u001B[39m\u001B[33mgreen\u001B[39m\u001B[33m'\u001B[39m, symbol=\u001B[33m'\u001B[39m\u001B[33mtriangle-up\u001B[39m\u001B[33m'\u001B[39m, size=\u001B[32m8\u001B[39m)\n\u001B[32m     24\u001B[39m     ), row=\u001B[32m1\u001B[39m, col=\u001B[32m1\u001B[39m)\n",
      "\u001B[31mNameError\u001B[39m: name 'executed_actions' is not defined"
     ]
    }
   ],
   "execution_count": 10
  },
  {
   "cell_type": "markdown",
   "metadata": {},
   "source": [
    "## Compare Evolution vs Random\n",
    "Statistical comparison of evolved vs random neural networks"
   ]
  },
  {
   "cell_type": "code",
   "metadata": {
    "ExecuteTime": {
     "end_time": "2025-06-16T12:17:41.600291Z",
     "start_time": "2025-06-16T10:58:25.062903Z"
    }
   },
   "source": [
    "# Generate larger sample of random individuals for comparison\n",
    "print(\"Generating Random Population for Comparison\")\n",
    "random_population_scores = []\n",
    "for i in range(100):\n",
    "    individual = Individual()\n",
    "    fitness = trading_fitness(individual)\n",
    "    random_population_scores.append(fitness)\n",
    "\n",
    "# Get final evolved population scores\n",
    "evolved_scores = ga_trading.population.fitness_scores\n",
    "\n",
    "print(f\"\\nStatistical Comparison:\")\n",
    "print(f\"Random Population (n=100):\")\n",
    "print(f\"  Mean: {np.mean(random_population_scores):.4f}\")\n",
    "print(f\"  Std:  {np.std(random_population_scores):.4f}\")\n",
    "print(f\"  Best: {np.max(random_population_scores):.4f}\")\n",
    "print(f\"  Worst: {np.min(random_population_scores):.4f}\")\n",
    "\n",
    "print(f\"\\nEvolved Population (n={len(evolved_scores)}):\")\n",
    "print(f\"  Mean: {np.mean(evolved_scores):.4f}\")\n",
    "print(f\"  Std:  {np.std(evolved_scores):.4f}\")\n",
    "print(f\"  Best: {np.max(evolved_scores):.4f}\")\n",
    "print(f\"  Worst: {np.min(evolved_scores):.4f}\")\n",
    "\n",
    "improvement = np.mean(evolved_scores) - np.mean(random_population_scores)\n",
    "print(f\"\\nMean Improvement: {improvement:.4f} ({improvement/np.mean(random_population_scores)*100:.1f}%)\")\n",
    "\n",
    "# Statistical significance test\n",
    "from scipy import stats\n",
    "t_stat, p_value = stats.ttest_ind(evolved_scores, random_population_scores)\n",
    "print(f\"T-test p-value: {p_value:.2e} ({'Significant' if p_value < 0.05 else 'Not significant'})\")"
   ],
   "outputs": [
    {
     "name": "stdout",
     "output_type": "stream",
     "text": [
      "Generating Random Population for Comparison\n"
     ]
    },
    {
     "ename": "AttributeError",
     "evalue": "'GeneticAlgorithm' object has no attribute 'population'",
     "output_type": "error",
     "traceback": [
      "\u001B[31m---------------------------------------------------------------------------\u001B[39m",
      "\u001B[31mAttributeError\u001B[39m                            Traceback (most recent call last)",
      "\u001B[36mCell\u001B[39m\u001B[36m \u001B[39m\u001B[32mIn[11]\u001B[39m\u001B[32m, line 10\u001B[39m\n\u001B[32m      7\u001B[39m     random_population_scores.append(fitness)\n\u001B[32m      9\u001B[39m \u001B[38;5;66;03m# Get final evolved population scores\u001B[39;00m\n\u001B[32m---> \u001B[39m\u001B[32m10\u001B[39m evolved_scores = \u001B[43mga_trading\u001B[49m\u001B[43m.\u001B[49m\u001B[43mpopulation\u001B[49m.fitness_scores\n\u001B[32m     12\u001B[39m \u001B[38;5;28mprint\u001B[39m(\u001B[33mf\u001B[39m\u001B[33m\"\u001B[39m\u001B[38;5;130;01m\\n\u001B[39;00m\u001B[33mStatistical Comparison:\u001B[39m\u001B[33m\"\u001B[39m)\n\u001B[32m     13\u001B[39m \u001B[38;5;28mprint\u001B[39m(\u001B[33mf\u001B[39m\u001B[33m\"\u001B[39m\u001B[33mRandom Population (n=100):\u001B[39m\u001B[33m\"\u001B[39m)\n",
      "\u001B[31mAttributeError\u001B[39m: 'GeneticAlgorithm' object has no attribute 'population'"
     ]
    }
   ],
   "execution_count": 11
  },
  {
   "cell_type": "code",
   "metadata": {},
   "source": [
    "# Visualize population comparison\n",
    "fig = go.Figure()\n",
    "\n",
    "# Random population histogram\n",
    "fig.add_trace(go.Histogram(\n",
    "    x=random_population_scores,\n",
    "    name=\"Random Population\",\n",
    "    opacity=0.7,\n",
    "    nbinsx=20,\n",
    "    marker_color=\"red\"\n",
    "))\n",
    "\n",
    "# Evolved population histogram\n",
    "fig.add_trace(go.Histogram(\n",
    "    x=evolved_scores,\n",
    "    name=\"Evolved Population\",\n",
    "    opacity=0.7,\n",
    "    nbinsx=20,\n",
    "    marker_color=\"green\"\n",
    "))\n",
    "\n",
    "# Add mean lines\n",
    "fig.add_vline(\n",
    "    x=np.mean(random_population_scores),\n",
    "    line_dash=\"dash\",\n",
    "    line_color=\"red\",\n",
    "    annotation_text=f\"Random Mean: {np.mean(random_population_scores):.3f}\"\n",
    ")\n",
    "\n",
    "fig.add_vline(\n",
    "    x=np.mean(evolved_scores),\n",
    "    line_dash=\"dash\",\n",
    "    line_color=\"green\",\n",
    "    annotation_text=f\"Evolved Mean: {np.mean(evolved_scores):.3f}\"\n",
    ")\n",
    "\n",
    "fig.update_layout(\n",
    "    title=\"Population Fitness Distribution: Random vs Evolved\",\n",
    "    xaxis_title=\"Fitness Score\",\n",
    "    yaxis_title=\"Frequency\",\n",
    "    barmode=\"overlay\",\n",
    "    width=1000,\n",
    "    height=600\n",
    ")\n",
    "\n",
    "fig.show()\n",
    "\n",
    "print(f\"\\n🎉 Genetic Algorithm Results Summary:\")\n",
    "print(f\"✅ Successfully evolved neural networks for trading\")\n",
    "print(f\"📈 Mean fitness improvement: {improvement:.4f}\")\n",
    "print(f\"🏆 Best individual fitness: {np.max(evolved_scores):.4f}\")\n",
    "print(f\"📊 Statistical significance: {p_value:.2e}\")"
   ],
   "outputs": [],
   "execution_count": null
  },
  {
   "metadata": {
    "ExecuteTime": {
     "end_time": "2025-06-16T12:17:41.602383Z",
     "start_time": "2025-06-16T10:59:23.568319Z"
    }
   },
   "cell_type": "code",
   "source": [
    "from src.evolution import create_trading_fitness_function\n",
    "trading_fitness = create_trading_fitness_function(\n",
    "    prices=price_data,\n",
    "    timestamps=timestamps,\n",
    "    risk_penalty=0.1,\n",
    "    sharpe_weight=0.3\n",
    ")\n",
    "\n",
    "ga_trading = GeneticAlgorithm(\n",
    "    population_size=3,\n",
    "    crossover_rate=0.9,\n",
    "    mutation_rate=0.05,  # Lower mutation for trading\n",
    "    mutation_strength=0.1,\n",
    "    tournament_size=3,\n",
    "    elitism_count=3,\n",
    ")"
   ],
   "outputs": [
    {
     "name": "stdout",
     "output_type": "stream",
     "text": [
      "🧬 Genetic Algorithm initialized (Population: 3)\n"
     ]
    }
   ],
   "execution_count": 6
  },
  {
   "metadata": {
    "ExecuteTime": {
     "end_time": "2025-06-16T12:17:41.602588Z",
     "start_time": "2025-06-16T10:59:52.599681Z"
    }
   },
   "cell_type": "code",
   "source": [
    "import cProfile\n",
    "from src.evolution import Individual\n",
    "\n",
    "profiler = cProfile.Profile()\n",
    "profiler.enable()\n",
    "\n",
    "# Run genetic algorithm for trading neural network evolution\n",
    "print(\"\\nEvolution Trading Neural Networks\")\n",
    "print(\"=\" * 40)\n",
    "\n",
    "# Create genetic algorithm for trading\n",
    "ga_trading = GeneticAlgorithm(\n",
    "  population_size=30,\n",
    "  crossover_rate=0.9,\n",
    "  mutation_rate=0.05,  # Lower mutation for trading\n",
    "  mutation_strength=0.1,\n",
    "  tournament_size=3,\n",
    "  elitism_count=3,\n",
    ")\n",
    "\n",
    "# Create trading fitness function\n",
    "from src.evolution import create_trading_fitness_function\n",
    "trading_fitness = create_trading_fitness_function(\n",
    "  prices=price_data,\n",
    "  timestamps=timestamps,\n",
    "  risk_penalty=0.1,\n",
    "  sharpe_weight=0.3\n",
    ")\n",
    "\n",
    "# Run evolution with direct fitness function\n",
    "best_trader, trading_evolution_stats = ga_trading.run_evolution(\n",
    "  fitness_function=trading_fitness,\n",
    "  generations=5,\n",
    "  verbose=True\n",
    ")\n",
    "\n",
    "\n",
    "profiler.disable()\n",
    "stats = profiler.print_stats(sort='cumulative')\n"
   ],
   "outputs": [
    {
     "name": "stdout",
     "output_type": "stream",
     "text": [
      "\n",
      "Evolution Trading Neural Networks\n",
      "========================================\n",
      "🧬 Genetic Algorithm initialized (Population: 30)\n",
      "🚀 Starting evolution (5 generations)...\n",
      "Generation   0: Best=  1.7434, Mean= -0.0404, Std=0.4285 [2.2s]\n",
      "🏁 Evolution complete! Total time: 13.2s\n",
      "   Final best fitness: 79.2030\n",
      "   Avg time per generation: 2.63s\n",
      "         29953526 function calls (28507611 primitive calls) in 13.159 seconds\n",
      "\n",
      "   Ordered by: cumulative time\n",
      "\n",
      "   ncalls  tottime  percall  cumtime  percall filename:lineno(function)\n",
      "       12    0.000    0.000   13.155    1.096 base_events.py:1947(_run_once)\n",
      "      7/3    0.000    0.000   13.153    4.384 interactiveshell.py:3636(run_code)\n",
      "        1    0.000    0.000   13.153   13.153 genetic_algorithm.py:87(run_evolution)\n",
      "      180    0.225    0.001   13.130    0.073 fitness.py:13(fitness_function)\n",
      "   360000    0.590    0.000   12.862    0.000 individual.py:35(get_action_int)\n",
      "        6    0.001    0.000   12.689    2.115 genetic_algorithm.py:30(evaluate_fitness)\n",
      "   360000    0.207    0.000   10.821    0.000 neuron.py:66(forward)\n",
      "   720000    0.226    0.000   10.427    0.000 module.py:1747(_wrapped_call_impl)\n",
      "   720000    0.612    0.000   10.202    0.000 module.py:1755(_call_impl)\n",
      "   720000    4.719    0.000    9.489    0.000 neuron.py:23(forward)\n",
      "   723855    0.616    0.000    1.695    0.000 module.py:1944(__setattr__)\n",
      "   720000    1.086    0.000    1.086    0.000 {built-in method torch._C._nn.linear}\n",
      "3618997/2173123    0.416    0.000    0.931    0.000 {built-in method builtins.isinstance}\n",
      "  3605670    0.616    0.000    0.616    0.000 module.py:1927(__getattr__)\n",
      "   720000    0.388    0.000    0.388    0.000 {method 'unsqueeze' of 'torch._C.TensorBase' objects}\n",
      "   720000    0.386    0.000    0.386    0.000 {built-in method torch.tanh}\n",
      "   720000    0.379    0.000    0.379    0.000 {method 'copy_' of 'torch._C.TensorBase' objects}\n",
      "   723115    0.241    0.000    0.342    0.000 parameter.py:10(__instancecheck__)\n",
      "   360000    0.341    0.000    0.341    0.000 {built-in method torch.argmax}\n",
      "   722745    0.199    0.000    0.294    0.000 parameter.py:216(__instancecheck__)\n",
      "   720000    0.173    0.000    0.293    0.000 grad_mode.py:184(__init__)\n",
      "   360000    0.111    0.000    0.268    0.000 grad_mode.py:80(__enter__)\n",
      "   360000    0.265    0.000    0.265    0.000 {method 'fill_' of 'torch._C.TensorBase' objects}\n",
      "   360000    0.091    0.000    0.247    0.000 grad_mode.py:84(__exit__)\n",
      "  2169735    0.147    0.000    0.147    0.000 {method 'get' of 'dict' objects}\n",
      "   360000    0.123    0.000    0.138    0.000 grad_mode.py:75(__init__)\n",
      "  1440000    0.127    0.000    0.127    0.000 {method 'dim' of 'torch._C.TensorBase' objects}\n",
      "   720000    0.119    0.000    0.119    0.000 {method 'size' of 'torch._C.TensorBase' objects}\n",
      "   360000    0.075    0.000    0.104    0.000 _contextlib.py:154(__new__)\n",
      "   720000    0.100    0.000    0.100    0.000 {built-in method torch._C._get_tracing_state}\n",
      "   360000    0.087    0.000    0.087    0.000 {method 'item' of 'torch._C.TensorBase' objects}\n",
      "   720000    0.075    0.000    0.075    0.000 {built-in method torch._C._set_grad_enabled}\n",
      "  1445860    0.075    0.000    0.075    0.000 {function _ParameterMeta.__instancecheck__ at 0x1744ea660}\n",
      "  1080000    0.066    0.000    0.066    0.000 {built-in method torch.is_grad_enabled}\n",
      "   719640    0.060    0.000    0.060    0.000 {built-in method math.exp}\n",
      "   719640    0.059    0.000    0.059    0.000 {built-in method builtins.min}\n",
      "   719657    0.051    0.000    0.051    0.000 {built-in method builtins.max}\n",
      "   360583    0.031    0.000    0.031    0.000 {method 'append' of 'list' objects}\n",
      "   360002    0.030    0.000    0.030    0.000 {built-in method __new__ of type object at 0x105e540e0}\n",
      "      185    0.000    0.000    0.021    0.000 individual.py:8(__init__)\n",
      "        5    0.000    0.000    0.019    0.004 genetic_algorithm.py:61(evolve_generation)\n",
      "       70    0.001    0.000    0.015    0.000 genetic_algorithm.py:41(crossover_mutate)\n",
      "      185    0.000    0.000    0.015    0.000 neuron.py:58(__init__)\n",
      "   360000    0.015    0.000    0.015    0.000 _jit_internal.py:101(is_scripting)\n",
      "      370    0.003    0.000    0.012    0.000 neuron.py:10(__init__)\n",
      "      263    0.006    0.000    0.006    0.000 {built-in method numpy.array}\n",
      "        1    0.000    0.000    0.006    0.006 genetic_algorithm.py:10(__init__)\n",
      "      180    0.000    0.000    0.003    0.000 individual.py:42(reset_state)\n",
      "      180    0.000    0.000    0.003    0.000 neuron.py:74(reset_state)\n",
      "      325    0.000    0.000    0.003    0.000 individual.py:51(get_weights)\n",
      "      360    0.000    0.000    0.003    0.000 neuron.py:49(reset_state)\n",
      "       89    0.000    0.000    0.003    0.000 fromnumeric.py:3869(std)\n",
      "       89    0.000    0.000    0.002    0.000 _methods.py:221(_std)\n",
      "        1    0.000    0.000    0.002    0.002 decorator.py:232(fun)\n",
      "      325    0.001    0.000    0.002    0.000 neuron.py:78(get_weights_flat)\n",
      "    13/11    0.000    0.000    0.002    0.000 {method 'run' of '_contextvars.Context' objects}\n",
      "      555    0.002    0.000    0.002    0.000 module.py:466(__init__)\n",
      "       89    0.001    0.000    0.002    0.000 _methods.py:151(_var)\n",
      "       15    0.000    0.000    0.002    0.000 individual.py:62(clone)\n",
      "      155    0.000    0.000    0.002    0.000 individual.py:55(set_weights)\n",
      "        7    0.000    0.000    0.002    0.000 zmqstream.py:573(_handle_events)\n",
      "        5    0.000    0.000    0.002    0.000 asyncio.py:206(_handle_events)\n",
      "      733    0.002    0.000    0.002    0.000 {method 'reduce' of 'numpy.ufunc' objects}\n",
      "      466    0.001    0.000    0.002    0.000 fromnumeric.py:69(_wrapreduction)\n",
      "      180    0.001    0.000    0.001    0.000 {method 'accumulate' of 'numpy.ufunc' objects}\n",
      "      740    0.001    0.000    0.001    0.000 module.py:574(register_parameter)\n",
      "      155    0.001    0.000    0.001    0.000 neuron.py:86(set_weights_flat)\n",
      "      140    0.000    0.000    0.001    0.000 genetic_algorithm.py:35(tournament_selection)\n",
      "        7    0.000    0.000    0.001    0.000 zmqstream.py:614(_handle_recv)\n",
      "      180    0.000    0.000    0.001    0.000 fromnumeric.py:3190(min)\n",
      "        7    0.000    0.000    0.001    0.000 zmqstream.py:546(_run_callback)\n",
      "      740    0.001    0.000    0.001    0.000 {built-in method torch.randn}\n",
      "     1404    0.000    0.000    0.001    0.000 {built-in method builtins.hasattr}\n",
      "        7    0.000    0.000    0.001    0.000 iostream.py:157(_handle_event)\n",
      "        4    0.000    0.000    0.001    0.000 iostream.py:276(<lambda>)\n",
      "      370    0.000    0.000    0.001    0.000 module.py:512(register_buffer)\n",
      "      740    0.000    0.000    0.001    0.000 parameter.py:40(__new__)\n",
      "        4    0.000    0.000    0.001    0.000 ioloop.py:750(_run_callback)\n",
      "      555    0.001    0.000    0.001    0.000 {built-in method torch.zeros}\n",
      "      325    0.001    0.000    0.001    0.000 {built-in method torch.cat}\n",
      "       89    0.000    0.000    0.001    0.000 fromnumeric.py:3735(mean)\n",
      "      178    0.000    0.000    0.000    0.000 _methods.py:76(_count_reduce_items)\n",
      "      740    0.000    0.000    0.000    0.000 {built-in method _make_subclass}\n",
      "        4    0.000    0.000    0.000    0.000 iostream.py:278(_really_send)\n",
      "       15    0.000    0.000    0.000    0.000 attrsettr.py:43(__getattr__)\n",
      "       89    0.000    0.000    0.000    0.000 _methods.py:118(_mean)\n",
      "      140    0.000    0.000    0.000    0.000 fromnumeric.py:3328(prod)\n",
      "      650    0.000    0.000    0.000    0.000 {method 'flatten' of 'torch._C.TensorBase' objects}\n",
      "        8    0.000    0.000    0.000    0.000 {built-in method builtins.print}\n",
      "       33    0.000    0.000    0.000    0.000 socket.py:623(send)\n",
      "       16    0.000    0.000    0.000    0.000 interactiveshell.py:3027(write)\n",
      "       15    0.000    0.000    0.000    0.000 attrsettr.py:66(_get_attr_opt)\n",
      "        8    0.000    0.000    0.000    0.000 zmqstream.py:653(_rebuild_io_state)\n",
      "      140    0.000    0.000    0.000    0.000 fromnumeric.py:2338(sum)\n",
      "      155    0.000    0.000    0.000    0.000 {built-in method torch.tensor}\n",
      "     1110    0.000    0.000    0.000    0.000 module.py:1945(remove_from)\n",
      "        4    0.000    0.000    0.000    0.000 socket.py:700(send_multipart)\n",
      "      480    0.000    0.000    0.000    0.000 {method 'numpy' of 'torch._C.TensorBase' objects}\n",
      "      360    0.000    0.000    0.000    0.000 {method 'zero_' of 'torch._C.TensorBase' objects}\n",
      "        8    0.000    0.000    0.000    0.000 zmqstream.py:676(_update_handler)\n",
      "     14/3    0.000    0.000    0.000    0.000 events.py:87(_run)\n",
      "       16    0.000    0.000    0.000    0.000 iostream.py:655(write)\n",
      "      310    0.000    0.000    0.000    0.000 {method 'view' of 'torch._C.TensorBase' objects}\n",
      "        2    0.000    0.000    0.000    0.000 zmqstream.py:684(<lambda>)\n",
      "        6    0.000    0.000    0.000    0.000 genetic_algorithm.py:79(get_stats)\n",
      "        1    0.000    0.000    0.000    0.000 history.py:92(only_when_enabled)\n",
      "        1    0.000    0.000    0.000    0.000 history.py:1024(writeout_cache)\n",
      "        2    0.000    0.000    0.000    0.000 iostream.py:616(_flush)\n",
      "      140    0.000    0.000    0.000    0.000 numeric.py:290(full)\n",
      "      480    0.000    0.000    0.000    0.000 {method 'detach' of 'torch._C.TensorBase' objects}\n",
      "      141    0.000    0.000    0.000    0.000 fromnumeric.py:1251(argmax)\n",
      "     1480    0.000    0.000    0.000    0.000 {method 'values' of 'collections.OrderedDict' objects}\n",
      "        7    0.000    0.000    0.000    0.000 codeop.py:112(__call__)\n",
      "      555    0.000    0.000    0.000    0.000 {built-in method torch._C._log_api_usage_once}\n",
      "      146    0.000    0.000    0.000    0.000 fromnumeric.py:51(_wrapfunc)\n",
      "        7    0.000    0.000    0.000    0.000 {built-in method builtins.compile}\n",
      "        5    0.000    0.000    0.000    0.000 iostream.py:259(schedule)\n",
      "       32    0.000    0.000    0.000    0.000 enum.py:1581(__or__)\n",
      "       16    0.000    0.000    0.000    0.000 iostream.py:577(_schedule_flush)\n",
      "       12    0.000    0.000    0.000    0.000 {built-in method time.sleep}\n",
      "      890    0.000    0.000    0.000    0.000 {built-in method builtins.len}\n",
      "        2    0.000    0.000    0.000    0.000 session.py:690(serialize)\n",
      "      162    0.000    0.000    0.000    0.000 enum.py:1574(_get_value)\n",
      "       22    0.000    0.000    0.000    0.000 enum.py:1592(__and__)\n",
      "      6/2    0.000    0.000    0.000    0.000 {built-in method builtins.exec}\n",
      "        1    0.000    0.000    0.000    0.000 selector_events.py:129(_read_from_self)\n",
      "        7    0.000    0.000    0.000    0.000 socket.py:771(recv_multipart)\n",
      "       73    0.000    0.000    0.000    0.000 traitlets.py:676(__get__)\n",
      "      316    0.000    0.000    0.000    0.000 {built-in method builtins.getattr}\n",
      "        3    0.000    0.000    0.000    0.000 iostream.py:587(_schedule_in_thread)\n",
      "      485    0.000    0.000    0.000    0.000 {method 'items' of 'dict' objects}\n",
      "        4    0.000    0.000    0.000    0.000 traitlets.py:708(__set__)\n",
      "        8    0.000    0.000    0.000    0.000 session.py:92(json_packer)\n",
      "        3    0.000    0.000    0.000    0.000 ioloop.py:604(call_later)\n",
      "       76    0.000    0.000    0.000    0.000 enum.py:691(__call__)\n",
      "        4    0.000    0.000    0.000    0.000 traitlets.py:689(set)\n",
      "      363    0.000    0.000    0.000    0.000 {built-in method builtins.issubclass}\n",
      "        8    0.000    0.000    0.000    0.000 __init__.py:183(dumps)\n",
      "        1    0.000    0.000    0.000    0.000 history.py:1008(_writeout_input_cache)\n",
      "        3    0.000    0.000    0.000    0.000 asyncio.py:216(call_at)\n",
      "        1    0.000    0.000    0.000    0.000 kernelbase.py:302(poll_control_queue)\n",
      "      141    0.000    0.000    0.000    0.000 {method 'argmax' of 'numpy.ndarray' objects}\n",
      "        8    0.000    0.000    0.000    0.000 encoder.py:183(encode)\n",
      "        4    0.000    0.000    0.000    0.000 base_events.py:777(call_later)\n",
      "        2    0.000    0.000    0.000    0.000 traitlets.py:3631(set)\n",
      "        2    0.000    0.000    0.000    0.000 session.py:649(msg)\n",
      "      178    0.000    0.000    0.000    0.000 {built-in method numpy.lib.array_utils.normalize_axis_index}\n",
      "      370    0.000    0.000    0.000    0.000 {method 'discard' of 'set' objects}\n",
      "        2    0.000    0.000    0.000    0.000 {method 'recv' of '_socket.socket' objects}\n",
      "        4    0.000    0.000    0.000    0.000 traitlets.py:718(_validate)\n",
      "        1    0.000    0.000    0.000    0.000 {method 'disable' of '_lsprof.Profiler' objects}\n",
      "       73    0.000    0.000    0.000    0.000 traitlets.py:629(get)\n",
      "        8    0.000    0.000    0.000    0.000 encoder.py:205(iterencode)\n",
      "        4    0.000    0.000    0.000    0.000 base_events.py:801(call_at)\n",
      "      267    0.000    0.000    0.000    0.000 {built-in method numpy.asanyarray}\n",
      "        7    0.000    0.000    0.000    0.000 typing.py:1374(__instancecheck__)\n",
      "     11/1    0.000    0.000    0.000    0.000 selectors.py:540(select)\n",
      "       21    0.000    0.000    0.000    0.000 typing.py:426(inner)\n",
      "        1    0.000    0.000    0.000    0.000 _base.py:537(set_result)\n",
      "        2    0.000    0.000    0.000    0.000 session.py:645(msg_header)\n",
      "        1    0.000    0.000    0.000    0.000 iostream.py:118(_run_event_pipe_gc)\n",
      "        1    0.000    0.000    0.000    0.000 decorator.py:200(fix)\n",
      "      140    0.000    0.000    0.000    0.000 {built-in method numpy.empty}\n",
      "        5    0.000    0.000    0.000    0.000 fromnumeric.py:1130(argsort)\n",
      "        2    0.000    0.000    0.000    0.000 session.py:754(send)\n",
      "        7    0.000    0.000    0.000    0.000 typing.py:1665(__subclasscheck__)\n",
      "        8    0.000    0.000    0.000    0.000 zmqstream.py:532(sending)\n",
      "        1    0.000    0.000    0.000    0.000 3134797670.py:1(<module>)\n",
      "        4    0.000    0.000    0.000    0.000 iostream.py:710(_flush_buffers)\n",
      "        2    0.000    0.000    0.000    0.000 session.py:675(sign)\n",
      "       76    0.000    0.000    0.000    0.000 enum.py:1145(__new__)\n",
      "        1    0.000    0.000    0.000    0.000 _ufunc_config.py:464(inner)\n",
      "        2    0.000    0.000    0.000    0.000 iostream.py:271(send_multipart)\n",
      "       16    0.000    0.000    0.000    0.000 <frozen importlib._bootstrap>:1390(_handle_fromlist)\n",
      "        8    0.000    0.000    0.000    0.000 queue.py:115(empty)\n",
      "        1    0.000    0.000    0.000    0.000 queues.py:186(put)\n",
      "        2    0.000    0.000    0.000    0.000 asyncio.py:231(add_callback)\n",
      "        9    0.000    0.000    0.000    0.000 events.py:36(__init__)\n",
      "      180    0.000    0.000    0.000    0.000 fromnumeric.py:3185(_min_dispatcher)\n",
      "        1    0.000    0.000    0.000    0.000 _base.py:337(_invoke_callbacks)\n",
      "        4    0.000    0.000    0.000    0.000 base_events.py:819(call_soon)\n",
      "        8    0.000    0.000    0.000    0.000 contextlib.py:303(helper)\n",
      "        5    0.000    0.000    0.000    0.000 base_events.py:848(_call_soon)\n",
      "        1    0.000    0.000    0.000    0.000 futures.py:393(_call_set_state)\n",
      "       24    0.000    0.000    0.000    0.000 base_events.py:768(time)\n",
      "        1    0.000    0.000    0.000    0.000 queues.py:209(put_nowait)\n",
      "       33    0.000    0.000    0.000    0.000 {method 'copy' of 'numpy.ndarray' objects}\n",
      "        2    0.000    0.000    0.000    0.000 tasks.py:703(sleep)\n",
      "        4    0.000    0.000    0.000    0.000 events.py:113(__init__)\n",
      "        6    0.000    0.000    0.000    0.000 fromnumeric.py:3052(max)\n",
      "        5    0.000    0.000    0.000    0.000 {method 'argsort' of 'numpy.ndarray' objects}\n",
      "        1    0.000    0.000    0.000    0.000 inspect.py:3255(bind)\n",
      "       22    0.000    0.000    0.000    0.000 {built-in method builtins.next}\n",
      "        2    0.000    0.000    0.000    0.000 ipkernel.py:775(_clean_thread_parent_frames)\n",
      "        1    0.000    0.000    0.000    0.000 inspect.py:3116(_bind)\n",
      "       81    0.000    0.000    0.000    0.000 {method 'extend' of 'list' objects}\n",
      "        2    0.000    0.000    0.000    0.000 session.py:272(msg_header)\n",
      "        1    0.000    0.000    0.000    0.000 fitness.py:6(create_trading_fitness_function)\n",
      "        1    0.000    0.000    0.000    0.000 base_events.py:872(call_soon_threadsafe)\n",
      "        8    0.000    0.000    0.000    0.000 contextlib.py:145(__exit__)\n",
      "        1    0.000    0.000    0.000    0.000 random.py:893(getrandbits)\n",
      "        2    0.000    0.000    0.000    0.000 jsonutil.py:107(json_default)\n",
      "        1    0.000    0.000    0.000    0.000 traitlets.py:1512(_notify_trait)\n",
      "        2    0.000    0.000    0.000    0.000 traitlets.py:3474(validate)\n",
      "        7    0.000    0.000    0.000    0.000 <frozen abc>:121(__subclasscheck__)\n",
      "        8    0.000    0.000    0.000    0.000 threading.py:1134(is_alive)\n",
      "        8    0.000    0.000    0.000    0.000 contextlib.py:136(__enter__)\n",
      "       12    0.000    0.000    0.000    0.000 selector_events.py:740(_process_events)\n",
      "       89    0.000    0.000    0.000    0.000 fromnumeric.py:3864(_std_dispatcher)\n",
      "        3    0.000    0.000    0.000    0.000 {method 'set_result' of '_asyncio.Future' objects}\n",
      "       16    0.000    0.000    0.000    0.000 iostream.py:550(_is_master_process)\n",
      "      140    0.000    0.000    0.000    0.000 multiarray.py:1098(copyto)\n",
      "      140    0.000    0.000    0.000    0.000 fromnumeric.py:3323(_prod_dispatcher)\n",
      "        1    0.000    0.000    0.000    0.000 traitlets.py:1523(notify_change)\n",
      "        8    0.000    0.000    0.000    0.000 contextlib.py:108(__init__)\n",
      "      169    0.000    0.000    0.000    0.000 typing.py:2366(cast)\n",
      "      122    0.000    0.000    0.000    0.000 multiarray.py:383(where)\n",
      "        1    0.000    0.000    0.000    0.000 queues.py:225(get)\n",
      "      141    0.000    0.000    0.000    0.000 fromnumeric.py:1247(_argmax_dispatcher)\n",
      "        4    0.000    0.000    0.000    0.000 traitlets.py:727(_cross_validate)\n",
      "      140    0.000    0.000    0.000    0.000 fromnumeric.py:2333(_sum_dispatcher)\n",
      "       16    0.000    0.000    0.000    0.000 iostream.py:505(parent_header)\n",
      "        1    0.000    0.000    0.000    0.000 {built-in method posix.urandom}\n",
      "        1    0.000    0.000    0.000    0.000 iostream.py:127(_event_pipe_gc)\n",
      "       89    0.000    0.000    0.000    0.000 fromnumeric.py:3730(_mean_dispatcher)\n",
      "       14    0.000    0.000    0.000    0.000 typing.py:1443(__hash__)\n",
      "        2    0.000    0.000    0.000    0.000 session.py:600(msg_id)\n",
      "        1    0.000    0.000    0.000    0.000 selector_events.py:141(_write_to_self)\n",
      "        2    0.000    0.000    0.000    0.000 session.py:198(utcnow)\n",
      "       13    0.000    0.000    0.000    0.000 {built-in method posix.getppid}\n",
      "        2    0.000    0.000    0.000    0.000 traitlets.py:2635(validate)\n",
      "        1    0.000    0.000    0.000    0.000 {method 'execute' of 'sqlite3.Connection' objects}\n",
      "        1    0.000    0.000    0.000    0.000 concurrent.py:185(future_set_result_unless_cancelled)\n",
      "        7    0.000    0.000    0.000    0.000 {built-in method _abc._abc_subclasscheck}\n",
      "        1    0.000    0.000    0.000    0.000 traitlets.py:1527(_notify_observers)\n",
      "        2    0.000    0.000    0.000    0.000 {method 'isoformat' of 'datetime.datetime' objects}\n",
      "        2    0.000    0.000    0.000    0.000 hmac.py:122(copy)\n",
      "       16    0.000    0.000    0.000    0.000 {method 'write' of '_io.StringIO' objects}\n",
      "        2    0.000    0.000    0.000    0.000 iostream.py:718(_rotate_buffers)\n",
      "        4    0.000    0.000    0.000    0.000 {built-in method _heapq.heappush}\n",
      "        6    0.000    0.000    0.000    0.000 ioloop.py:549(time)\n",
      "        1    0.000    0.000    0.000    0.000 {method 'send' of '_socket.socket' objects}\n",
      "        1    0.000    0.000    0.000    0.000 futures.py:312(_set_result_unless_cancelled)\n",
      "       22    0.000    0.000    0.000    0.000 {method 'popleft' of 'collections.deque' objects}\n",
      "        2    0.000    0.000    0.000    0.000 {method '__exit__' of 'sqlite3.Connection' objects}\n",
      "     11/1    0.000    0.000    0.000    0.000 {method 'control' of 'select.kqueue' objects}\n",
      "        2    0.000    0.000    0.000    0.000 {built-in method now}\n",
      "        3    0.000    0.000    0.000    0.000 threading.py:303(__enter__)\n",
      "       14    0.000    0.000    0.000    0.000 compilerop.py:180(extra_flags)\n",
      "        2    0.000    0.000    0.000    0.000 traitlets.py:3624(validate_elements)\n",
      "        4    0.000    0.000    0.000    0.000 iostream.py:216(_check_mp_mode)\n",
      "        2    0.000    0.000    0.000    0.000 {method 'copy' of '_hashlib.HMAC' objects}\n",
      "        8    0.000    0.000    0.000    0.000 hmac.py:117(update)\n",
      "       21    0.000    0.000    0.000    0.000 {method 'append' of 'collections.deque' objects}\n",
      "        1    0.000    0.000    0.000    0.000 inspect.py:2930(apply_defaults)\n",
      "        2    0.000    0.000    0.000    0.000 {built-in method builtins.locals}\n",
      "       15    0.000    0.000    0.000    0.000 {method 'upper' of 'str' objects}\n",
      "        8    0.000    0.000    0.000    0.000 queue.py:267(_qsize)\n",
      "        5    0.000    0.000    0.000    0.000 iostream.py:138(_event_pipe)\n",
      "        1    0.000    0.000    0.000    0.000 threading.py:1477(enumerate)\n",
      "        2    0.000    0.000    0.000    0.000 hmac.py:161(hexdigest)\n",
      "        2    0.000    0.000    0.000    0.000 iostream.py:725(_hooks)\n",
      "        1    0.000    0.000    0.000    0.000 threading.py:428(notify_all)\n",
      "       20    0.000    0.000    0.000    0.000 {method '__exit__' of '_thread.RLock' objects}\n",
      "       24    0.000    0.000    0.000    0.000 {built-in method time.monotonic}\n",
      "       16    0.000    0.000    0.000    0.000 {built-in method builtins.any}\n",
      "       10    0.000    0.000    0.000    0.000 {method 'encode' of 'str' objects}\n",
      "       26    0.000    0.000    0.000    0.000 {built-in method posix.getpid}\n",
      "        1    0.000    0.000    0.000    0.000 inspect.py:2877(args)\n",
      "        1    0.000    0.000    0.000    0.000 queues.py:256(get_nowait)\n",
      "        1    0.000    0.000    0.000    0.000 <frozen abc>:117(__instancecheck__)\n",
      "        1    0.000    0.000    0.000    0.000 threading.py:631(clear)\n",
      "        3    0.000    0.000    0.000    0.000 {built-in method _heapq.heappop}\n",
      "        2    0.000    0.000    0.000    0.000 session.py:281(extract_header)\n",
      "        1    0.000    0.000    0.000    0.000 history.py:1016(_writeout_output_cache)\n",
      "        5    0.000    0.000    0.000    0.000 base_events.py:1932(_add_callback)\n",
      "       13    0.000    0.000    0.000    0.000 {method '__exit__' of '_thread.lock' objects}\n",
      "       16    0.000    0.000    0.000    0.000 {method 'get' of '_contextvars.ContextVar' objects}\n",
      "        1    0.000    0.000    0.000    0.000 events.py:157(cancel)\n",
      "        7    0.000    0.000    0.000    0.000 {built-in method _contextvars.copy_context}\n",
      "        1    0.000    0.000    0.000    0.000 {built-in method numpy.zeros}\n",
      "        4    0.000    0.000    0.000    0.000 iostream.py:213(_is_master_process)\n",
      "        2    0.000    0.000    0.000    0.000 {method 'getvalue' of '_io.StringIO' objects}\n",
      "        2    0.000    0.000    0.000    0.000 queues.py:322(_consume_expired)\n",
      "       15    0.000    0.000    0.000    0.000 zmqstream.py:528(receiving)\n",
      "       14    0.000    0.000    0.000    0.000 {built-in method builtins.hash}\n",
      "        2    0.000    0.000    0.000    0.000 {method 'hexdigest' of '_hashlib.HMAC' objects}\n",
      "        2    0.000    0.000    0.000    0.000 traitlets.py:2304(validate)\n",
      "        9    0.000    0.000    0.000    0.000 {built-in method time.time}\n",
      "        3    0.000    0.000    0.000    0.000 threading.py:306(__exit__)\n",
      "        1    0.000    0.000    0.000    0.000 threading.py:315(_acquire_restore)\n",
      "        8    0.000    0.000    0.000    0.000 {method 'update' of '_hashlib.HMAC' objects}\n",
      "        7    0.000    0.000    0.000    0.000 interactiveshell.py:3588(compare)\n",
      "        1    0.000    0.000    0.000    0.000 queues.py:317(__put_internal)\n",
      "        2    0.000    0.000    0.000    0.000 traitlets.py:2558(_validate_bounds)\n",
      "        9    0.000    0.000    0.000    0.000 threading.py:1110(ident)\n",
      "       16    0.000    0.000    0.000    0.000 displaypub.py:150(is_publishing)\n",
      "        1    0.000    0.000    0.000    0.000 inspect.py:2900(kwargs)\n",
      "        3    0.000    0.000    0.000    0.000 events.py:129(__lt__)\n",
      "       16    0.000    0.000    0.000    0.000 displayhook.py:118(is_active)\n",
      "        1    0.000    0.000    0.000    0.000 {built-in method _abc._abc_instancecheck}\n",
      "        7    0.000    0.000    0.000    0.000 interactiveshell.py:1283(user_global_ns)\n",
      "        1    0.000    0.000    0.000    0.000 threading.py:398(notify)\n",
      "        8    0.000    0.000    0.000    0.000 {method 'is_done' of '_thread._ThreadHandle' objects}\n",
      "        1    0.000    0.000    0.000    0.000 base_events.py:458(create_future)\n",
      "        1    0.000    0.000    0.000    0.000 threading.py:312(_release_save)\n",
      "        2    0.000    0.000    0.000    0.000 {method 'replace' of 'str' objects}\n",
      "        2    0.000    0.000    0.000    0.000 traitlets.py:3486(validate_elements)\n",
      "       13    0.000    0.000    0.000    0.000 base_events.py:2045(get_debug)\n",
      "        8    0.000    0.000    0.000    0.000 encoder.py:105(__init__)\n",
      "        9    0.000    0.000    0.000    0.000 base_events.py:550(_check_closed)\n",
      "        3    0.000    0.000    0.000    0.000 {method 'acquire' of '_thread.lock' objects}\n",
      "        2    0.000    0.000    0.000    0.000 jsonutil.py:38(_ensure_tzinfo)\n",
      "        1    0.000    0.000    0.000    0.000 {built-in method numpy._core._multiarray_umath._make_extobj}\n",
      "       10    0.000    0.000    0.000    0.000 inspect.py:2787(kind)\n",
      "        1    0.000    0.000    0.000    0.000 {method 'values' of 'mappingproxy' objects}\n",
      "        1    0.000    0.000    0.000    0.000 {method 'reset' of '_contextvars.ContextVar' objects}\n",
      "        1    0.000    0.000    0.000    0.000 threading.py:318(_is_owned)\n",
      "        1    0.000    0.000    0.000    0.000 {method 'set' of '_contextvars.ContextVar' objects}\n",
      "        8    0.000    0.000    0.000    0.000 {method 'join' of 'str' objects}\n",
      "        2    0.000    0.000    0.000    0.000 {method 'close' of '_io.StringIO' objects}\n",
      "        3    0.000    0.000    0.000    0.000 {method 'items' of 'mappingproxy' objects}\n",
      "        1    0.000    0.000    0.000    0.000 queues.py:312(_put)\n",
      "        8    0.000    0.000    0.000    0.000 threading.py:605(is_set)\n",
      "        7    0.000    0.000    0.000    0.000 interactiveshell.py:669(user_ns)\n",
      "        1    0.000    0.000    0.000    0.000 {method '__enter__' of '_thread.RLock' objects}\n",
      "        1    0.000    0.000    0.000    0.000 unix_events.py:83(_process_self_data)\n",
      "        1    0.000    0.000    0.000    0.000 {built-in method _thread.allocate_lock}\n",
      "        1    0.000    0.000    0.000    0.000 queues.py:173(qsize)\n",
      "        3    0.000    0.000    0.000    0.000 {built-in method _asyncio.get_running_loop}\n",
      "        2    0.000    0.000    0.000    0.000 history.py:1065(hold)\n",
      "        3    0.000    0.000    0.000    0.000 {method 'cancelled' of '_asyncio.Future' objects}\n",
      "        1    0.000    0.000    0.000    0.000 events.py:73(cancel)\n",
      "        4    0.000    0.000    0.000    0.000 {method 'keys' of 'dict' objects}\n",
      "        2    0.000    0.000    0.000    0.000 {method 'copy' of 'dict' objects}\n",
      "        4    0.000    0.000    0.000    0.000 iostream.py:255(closed)\n",
      "        4    0.000    0.000    0.000    0.000 inspect.py:3070(parameters)\n",
      "        2    0.000    0.000    0.000    0.000 {method 'values' of 'dict' objects}\n",
      "        1    0.000    0.000    0.000    0.000 queues.py:309(_get)\n",
      "        6    0.000    0.000    0.000    0.000 fromnumeric.py:3047(_max_dispatcher)\n",
      "        2    0.000    0.000    0.000    0.000 {built-in method builtins.iter}\n",
      "        2    0.000    0.000    0.000    0.000 {method '__enter__' of '_thread.lock' objects}\n",
      "        1    0.000    0.000    0.000    0.000 {built-in method math.isnan}\n",
      "        4    0.000    0.000    0.000    0.000 inspect.py:2775(name)\n",
      "        1    0.000    0.000    0.000    0.000 {built-in method from_bytes}\n",
      "        1    0.000    0.000    0.000    0.000 {method '_is_owned' of '_thread.RLock' objects}\n",
      "        5    0.000    0.000    0.000    0.000 fromnumeric.py:1126(_argsort_dispatcher)\n",
      "        1    0.000    0.000    0.000    0.000 queues.py:177(empty)\n",
      "        1    0.000    0.000    0.000    0.000 {method 'done' of '_asyncio.Future' objects}\n",
      "        1    0.000    0.000    0.000    0.000 locks.py:224(clear)\n",
      "        1    0.000    0.000    0.000    0.000 queues.py:59(_set_timeout)\n",
      "        1    0.000    0.000    0.000    0.000 multiarray.py:180(concatenate)\n",
      "        2    0.000    0.000    0.000    0.000 hmac.py:139(_current)\n",
      "        1    0.000    0.000    0.000    0.000 inspect.py:2869(__init__)\n",
      "        1    0.000    0.000    0.000    0.000 base_events.py:1942(_timer_handle_cancelled)\n",
      "        1    0.000    0.000    0.000    0.000 {method 'release' of '_thread.lock' objects}\n",
      "        1    0.000    0.000    0.000    0.000 base_events.py:754(is_closed)\n",
      "\n",
      "\n"
     ]
    }
   ],
   "execution_count": 8
  },
  {
   "metadata": {},
   "cell_type": "code",
   "source": [
    "import cProfile\n",
    "from src.evolution import Individual\n",
    "\n",
    "profiler = cProfile.Profile()\n",
    "profiler.enable()\n",
    "\n",
    "best_trader, trading_evolution_stats = ga_trading.run_evolution(\n",
    "    fitness_function=trading_fitness,\n",
    "    generations=1,\n",
    "    verbose=True\n",
    ")\n",
    "\n",
    "profiler.disable()\n",
    "stats = profiler.print_stats(sort='cumulative')\n"
   ],
   "outputs": [],
   "execution_count": null
  },
  {
   "metadata": {},
   "cell_type": "code",
   "source": "",
   "outputs": [],
   "execution_count": null
  }
 ],
 "metadata": {
  "kernelspec": {
   "display_name": "Python 3",
   "language": "python",
   "name": "python3"
  },
  "language_info": {
   "codemirror_mode": {
    "name": "ipython",
    "version": 3
   },
   "file_extension": ".py",
   "mimetype": "text/x-python",
   "name": "python",
   "nbconvert_exporter": "python",
   "pygments_lexer": "ipython3",
   "version": "3.9.7"
  }
 },
 "nbformat": 4,
 "nbformat_minor": 4
}
