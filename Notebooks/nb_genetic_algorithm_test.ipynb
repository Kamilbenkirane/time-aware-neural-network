{
 "cells": [
  {
   "cell_type": "markdown",
   "metadata": {},
   "source": [
    "# Ultra-Fast Genetic Algorithm (Numba Implementation)\n",
    "\n",
    "Testing Numba-optimized genetic algorithm for neural network evolution.\n",
    "\n",
    "**Performance**: 34,200x faster than original implementation!"
   ]
  },
  {
   "cell_type": "code",
   "metadata": {
    "ExecuteTime": {
     "end_time": "2025-06-16T13:17:48.071537Z",
     "start_time": "2025-06-16T13:17:47.540047Z"
    }
   },
   "source": "import numpy as np\nimport plotly.graph_objects as go\nfrom plotly.subplots import make_subplots\nimport time\nimport sys\nimport os\n\n# Import Numba implementations (Pure Function-Based!)\nfrom src.evolution.nb_individual import Individual\nfrom src.evolution.nb_genetic_algorithm import GeneticAlgorithm\nfrom src.evolution.nb_fitness_pure import (\n    create_pure_trading_fitness_function,\n    create_pure_sphere_fitness_function,\n    create_pure_simple_test_fitness_function\n)\n\nprint(\"🚀 Pure Function-Based Numba Genetic Algorithm loaded!\")\nprint(\"⚡ Zero classes in core computation - Maximum performance!\")",
   "outputs": [
    {
     "name": "stdout",
     "output_type": "stream",
     "text": [
      "🚀 Pure Function-Based Numba Genetic Algorithm loaded!\n",
      "⚡ Zero classes in core computation - Maximum performance!\n"
     ]
    }
   ],
   "execution_count": 1
  },
  {
   "cell_type": "markdown",
   "metadata": {},
   "source": [
    "## Generate Realistic Trading Data"
   ]
  },
  {
   "cell_type": "code",
   "metadata": {
    "ExecuteTime": {
     "end_time": "2025-06-16T13:17:48.138656Z",
     "start_time": "2025-06-16T13:17:48.135260Z"
    }
   },
   "source": [
    "# Generate realistic price data\n",
    "n_points = 2000\n",
    "base_times = np.arange(n_points)\n",
    "\n",
    "# Multiple periodic components\n",
    "trend = 0.05 * base_times\n",
    "daily_cycle = 30 * np.sin(2 * np.pi * base_times / 100)\n",
    "weekly_cycle = 50 * np.sin(2 * np.pi * base_times / 500)\n",
    "random_walk = np.cumsum(np.random.normal(0, 8, n_points))\n",
    "\n",
    "# Combine components\n",
    "base_price = 1000\n",
    "prices = base_price + trend + daily_cycle + weekly_cycle + random_walk\n",
    "\n",
    "# Add volatility\n",
    "volatility = 1 + 0.5 * np.abs(np.sin(2 * np.pi * base_times / 300))\n",
    "noise = np.random.normal(0, 3, n_points) * volatility\n",
    "prices += noise\n",
    "\n",
    "# Normalize to reasonable range\n",
    "price_range = np.max(prices) - np.min(prices)\n",
    "target_range = 400\n",
    "scale_factor = target_range / price_range\n",
    "prices = base_price + (prices - np.mean(prices)) * scale_factor\n",
    "\n",
    "# Create timestamps with varying intervals\n",
    "timestamps = []\n",
    "price_data = []\n",
    "current_time = 0.0\n",
    "\n",
    "for i in range(n_points):\n",
    "    rush_period = (i % 200) < 20\n",
    "    time_increment = 0.1 if rush_period else 1.0\n",
    "    current_time += time_increment\n",
    "    timestamps.append(current_time)\n",
    "    price_data.append(prices[i])\n",
    "\n",
    "timestamps = np.array(timestamps)\n",
    "price_data = np.array(price_data)\n",
    "\n",
    "print(f\"📊 Generated {len(price_data)} price points\")\n",
    "print(f\"💰 Price range: ${np.min(price_data):.0f} - ${np.max(price_data):.0f}\")\n",
    "print(f\"⏰ Time span: {timestamps[-1]:.0f} units\")"
   ],
   "outputs": [
    {
     "name": "stdout",
     "output_type": "stream",
     "text": [
      "📊 Generated 2000 price points\n",
      "💰 Price range: $772 - $1172\n",
      "⏰ Time span: 1820 units\n"
     ]
    }
   ],
   "execution_count": 2
  },
  {
   "cell_type": "code",
   "metadata": {
    "ExecuteTime": {
     "end_time": "2025-06-16T13:17:49.783726Z",
     "start_time": "2025-06-16T13:17:49.725540Z"
    }
   },
   "source": [
    "# Quick visualization\n",
    "fig = go.Figure()\n",
    "fig.add_trace(go.Scatter(\n",
    "    x=timestamps[:500],  # Show first 500 points\n",
    "    y=price_data[:500],\n",
    "    mode='lines',\n",
    "    name='Price Data',\n",
    "    line=dict(color='blue', width=1)\n",
    "))\n",
    "\n",
    "fig.update_layout(\n",
    "    title=\"Sample Price Data (First 500 Points)\",\n",
    "    xaxis_title=\"Time\",\n",
    "    yaxis_title=\"Price\",\n",
    "    width=800,\n",
    "    height=400\n",
    ")\n",
    "fig.show()"
   ],
   "outputs": [
    {
     "data": {
      "application/vnd.plotly.v1+json": {
       "data": [
        {
         "line": {
          "color": "blue",
          "width": 1
         },
         "mode": "lines",
         "name": "Price Data",
         "x": {
          "dtype": "f8",
          "bdata": "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"
         },
         "y": {
          "dtype": "f8",
          "bdata": "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"
         },
         "type": "scatter"
        }
       ],
       "layout": {
        "template": {
         "data": {
          "histogram2dcontour": [
           {
            "type": "histogram2dcontour",
            "colorbar": {
             "outlinewidth": 0,
             "ticks": ""
            },
            "colorscale": [
             [
              0.0,
              "#0d0887"
             ],
             [
              0.1111111111111111,
              "#46039f"
             ],
             [
              0.2222222222222222,
              "#7201a8"
             ],
             [
              0.3333333333333333,
              "#9c179e"
             ],
             [
              0.4444444444444444,
              "#bd3786"
             ],
             [
              0.5555555555555556,
              "#d8576b"
             ],
             [
              0.6666666666666666,
              "#ed7953"
             ],
             [
              0.7777777777777778,
              "#fb9f3a"
             ],
             [
              0.8888888888888888,
              "#fdca26"
             ],
             [
              1.0,
              "#f0f921"
             ]
            ]
           }
          ],
          "choropleth": [
           {
            "type": "choropleth",
            "colorbar": {
             "outlinewidth": 0,
             "ticks": ""
            }
           }
          ],
          "histogram2d": [
           {
            "type": "histogram2d",
            "colorbar": {
             "outlinewidth": 0,
             "ticks": ""
            },
            "colorscale": [
             [
              0.0,
              "#0d0887"
             ],
             [
              0.1111111111111111,
              "#46039f"
             ],
             [
              0.2222222222222222,
              "#7201a8"
             ],
             [
              0.3333333333333333,
              "#9c179e"
             ],
             [
              0.4444444444444444,
              "#bd3786"
             ],
             [
              0.5555555555555556,
              "#d8576b"
             ],
             [
              0.6666666666666666,
              "#ed7953"
             ],
             [
              0.7777777777777778,
              "#fb9f3a"
             ],
             [
              0.8888888888888888,
              "#fdca26"
             ],
             [
              1.0,
              "#f0f921"
             ]
            ]
           }
          ],
          "heatmap": [
           {
            "type": "heatmap",
            "colorbar": {
             "outlinewidth": 0,
             "ticks": ""
            },
            "colorscale": [
             [
              0.0,
              "#0d0887"
             ],
             [
              0.1111111111111111,
              "#46039f"
             ],
             [
              0.2222222222222222,
              "#7201a8"
             ],
             [
              0.3333333333333333,
              "#9c179e"
             ],
             [
              0.4444444444444444,
              "#bd3786"
             ],
             [
              0.5555555555555556,
              "#d8576b"
             ],
             [
              0.6666666666666666,
              "#ed7953"
             ],
             [
              0.7777777777777778,
              "#fb9f3a"
             ],
             [
              0.8888888888888888,
              "#fdca26"
             ],
             [
              1.0,
              "#f0f921"
             ]
            ]
           }
          ],
          "contourcarpet": [
           {
            "type": "contourcarpet",
            "colorbar": {
             "outlinewidth": 0,
             "ticks": ""
            }
           }
          ],
          "contour": [
           {
            "type": "contour",
            "colorbar": {
             "outlinewidth": 0,
             "ticks": ""
            },
            "colorscale": [
             [
              0.0,
              "#0d0887"
             ],
             [
              0.1111111111111111,
              "#46039f"
             ],
             [
              0.2222222222222222,
              "#7201a8"
             ],
             [
              0.3333333333333333,
              "#9c179e"
             ],
             [
              0.4444444444444444,
              "#bd3786"
             ],
             [
              0.5555555555555556,
              "#d8576b"
             ],
             [
              0.6666666666666666,
              "#ed7953"
             ],
             [
              0.7777777777777778,
              "#fb9f3a"
             ],
             [
              0.8888888888888888,
              "#fdca26"
             ],
             [
              1.0,
              "#f0f921"
             ]
            ]
           }
          ],
          "surface": [
           {
            "type": "surface",
            "colorbar": {
             "outlinewidth": 0,
             "ticks": ""
            },
            "colorscale": [
             [
              0.0,
              "#0d0887"
             ],
             [
              0.1111111111111111,
              "#46039f"
             ],
             [
              0.2222222222222222,
              "#7201a8"
             ],
             [
              0.3333333333333333,
              "#9c179e"
             ],
             [
              0.4444444444444444,
              "#bd3786"
             ],
             [
              0.5555555555555556,
              "#d8576b"
             ],
             [
              0.6666666666666666,
              "#ed7953"
             ],
             [
              0.7777777777777778,
              "#fb9f3a"
             ],
             [
              0.8888888888888888,
              "#fdca26"
             ],
             [
              1.0,
              "#f0f921"
             ]
            ]
           }
          ],
          "mesh3d": [
           {
            "type": "mesh3d",
            "colorbar": {
             "outlinewidth": 0,
             "ticks": ""
            }
           }
          ],
          "scatter": [
           {
            "marker": {
             "line": {
              "color": "#283442"
             }
            },
            "type": "scatter"
           }
          ],
          "parcoords": [
           {
            "type": "parcoords",
            "line": {
             "colorbar": {
              "outlinewidth": 0,
              "ticks": ""
             }
            }
           }
          ],
          "scatterpolargl": [
           {
            "type": "scatterpolargl",
            "marker": {
             "colorbar": {
              "outlinewidth": 0,
              "ticks": ""
             }
            }
           }
          ],
          "bar": [
           {
            "error_x": {
             "color": "#f2f5fa"
            },
            "error_y": {
             "color": "#f2f5fa"
            },
            "marker": {
             "line": {
              "color": "rgb(17,17,17)",
              "width": 0.5
             },
             "pattern": {
              "fillmode": "overlay",
              "size": 10,
              "solidity": 0.2
             }
            },
            "type": "bar"
           }
          ],
          "scattergeo": [
           {
            "type": "scattergeo",
            "marker": {
             "colorbar": {
              "outlinewidth": 0,
              "ticks": ""
             }
            }
           }
          ],
          "scatterpolar": [
           {
            "type": "scatterpolar",
            "marker": {
             "colorbar": {
              "outlinewidth": 0,
              "ticks": ""
             }
            }
           }
          ],
          "histogram": [
           {
            "marker": {
             "pattern": {
              "fillmode": "overlay",
              "size": 10,
              "solidity": 0.2
             }
            },
            "type": "histogram"
           }
          ],
          "scattergl": [
           {
            "marker": {
             "line": {
              "color": "#283442"
             }
            },
            "type": "scattergl"
           }
          ],
          "scatter3d": [
           {
            "type": "scatter3d",
            "line": {
             "colorbar": {
              "outlinewidth": 0,
              "ticks": ""
             }
            },
            "marker": {
             "colorbar": {
              "outlinewidth": 0,
              "ticks": ""
             }
            }
           }
          ],
          "scattermap": [
           {
            "type": "scattermap",
            "marker": {
             "colorbar": {
              "outlinewidth": 0,
              "ticks": ""
             }
            }
           }
          ],
          "scattermapbox": [
           {
            "type": "scattermapbox",
            "marker": {
             "colorbar": {
              "outlinewidth": 0,
              "ticks": ""
             }
            }
           }
          ],
          "scatterternary": [
           {
            "type": "scatterternary",
            "marker": {
             "colorbar": {
              "outlinewidth": 0,
              "ticks": ""
             }
            }
           }
          ],
          "scattercarpet": [
           {
            "type": "scattercarpet",
            "marker": {
             "colorbar": {
              "outlinewidth": 0,
              "ticks": ""
             }
            }
           }
          ],
          "carpet": [
           {
            "aaxis": {
             "endlinecolor": "#A2B1C6",
             "gridcolor": "#506784",
             "linecolor": "#506784",
             "minorgridcolor": "#506784",
             "startlinecolor": "#A2B1C6"
            },
            "baxis": {
             "endlinecolor": "#A2B1C6",
             "gridcolor": "#506784",
             "linecolor": "#506784",
             "minorgridcolor": "#506784",
             "startlinecolor": "#A2B1C6"
            },
            "type": "carpet"
           }
          ],
          "table": [
           {
            "cells": {
             "fill": {
              "color": "#506784"
             },
             "line": {
              "color": "rgb(17,17,17)"
             }
            },
            "header": {
             "fill": {
              "color": "#2a3f5f"
             },
             "line": {
              "color": "rgb(17,17,17)"
             }
            },
            "type": "table"
           }
          ],
          "barpolar": [
           {
            "marker": {
             "line": {
              "color": "rgb(17,17,17)",
              "width": 0.5
             },
             "pattern": {
              "fillmode": "overlay",
              "size": 10,
              "solidity": 0.2
             }
            },
            "type": "barpolar"
           }
          ],
          "pie": [
           {
            "automargin": true,
            "type": "pie"
           }
          ]
         },
         "layout": {
          "autotypenumbers": "strict",
          "colorway": [
           "#636efa",
           "#EF553B",
           "#00cc96",
           "#ab63fa",
           "#FFA15A",
           "#19d3f3",
           "#FF6692",
           "#B6E880",
           "#FF97FF",
           "#FECB52"
          ],
          "font": {
           "color": "#f2f5fa"
          },
          "hovermode": "closest",
          "hoverlabel": {
           "align": "left"
          },
          "paper_bgcolor": "rgb(17,17,17)",
          "plot_bgcolor": "rgb(17,17,17)",
          "polar": {
           "bgcolor": "rgb(17,17,17)",
           "angularaxis": {
            "gridcolor": "#506784",
            "linecolor": "#506784",
            "ticks": ""
           },
           "radialaxis": {
            "gridcolor": "#506784",
            "linecolor": "#506784",
            "ticks": ""
           }
          },
          "ternary": {
           "bgcolor": "rgb(17,17,17)",
           "aaxis": {
            "gridcolor": "#506784",
            "linecolor": "#506784",
            "ticks": ""
           },
           "baxis": {
            "gridcolor": "#506784",
            "linecolor": "#506784",
            "ticks": ""
           },
           "caxis": {
            "gridcolor": "#506784",
            "linecolor": "#506784",
            "ticks": ""
           }
          },
          "coloraxis": {
           "colorbar": {
            "outlinewidth": 0,
            "ticks": ""
           }
          },
          "colorscale": {
           "sequential": [
            [
             0.0,
             "#0d0887"
            ],
            [
             0.1111111111111111,
             "#46039f"
            ],
            [
             0.2222222222222222,
             "#7201a8"
            ],
            [
             0.3333333333333333,
             "#9c179e"
            ],
            [
             0.4444444444444444,
             "#bd3786"
            ],
            [
             0.5555555555555556,
             "#d8576b"
            ],
            [
             0.6666666666666666,
             "#ed7953"
            ],
            [
             0.7777777777777778,
             "#fb9f3a"
            ],
            [
             0.8888888888888888,
             "#fdca26"
            ],
            [
             1.0,
             "#f0f921"
            ]
           ],
           "sequentialminus": [
            [
             0.0,
             "#0d0887"
            ],
            [
             0.1111111111111111,
             "#46039f"
            ],
            [
             0.2222222222222222,
             "#7201a8"
            ],
            [
             0.3333333333333333,
             "#9c179e"
            ],
            [
             0.4444444444444444,
             "#bd3786"
            ],
            [
             0.5555555555555556,
             "#d8576b"
            ],
            [
             0.6666666666666666,
             "#ed7953"
            ],
            [
             0.7777777777777778,
             "#fb9f3a"
            ],
            [
             0.8888888888888888,
             "#fdca26"
            ],
            [
             1.0,
             "#f0f921"
            ]
           ],
           "diverging": [
            [
             0,
             "#8e0152"
            ],
            [
             0.1,
             "#c51b7d"
            ],
            [
             0.2,
             "#de77ae"
            ],
            [
             0.3,
             "#f1b6da"
            ],
            [
             0.4,
             "#fde0ef"
            ],
            [
             0.5,
             "#f7f7f7"
            ],
            [
             0.6,
             "#e6f5d0"
            ],
            [
             0.7,
             "#b8e186"
            ],
            [
             0.8,
             "#7fbc41"
            ],
            [
             0.9,
             "#4d9221"
            ],
            [
             1,
             "#276419"
            ]
           ]
          },
          "xaxis": {
           "gridcolor": "#283442",
           "linecolor": "#506784",
           "ticks": "",
           "title": {
            "standoff": 15
           },
           "zerolinecolor": "#283442",
           "automargin": true,
           "zerolinewidth": 2
          },
          "yaxis": {
           "gridcolor": "#283442",
           "linecolor": "#506784",
           "ticks": "",
           "title": {
            "standoff": 15
           },
           "zerolinecolor": "#283442",
           "automargin": true,
           "zerolinewidth": 2
          },
          "scene": {
           "xaxis": {
            "backgroundcolor": "rgb(17,17,17)",
            "gridcolor": "#506784",
            "linecolor": "#506784",
            "showbackground": true,
            "ticks": "",
            "zerolinecolor": "#C8D4E3",
            "gridwidth": 2
           },
           "yaxis": {
            "backgroundcolor": "rgb(17,17,17)",
            "gridcolor": "#506784",
            "linecolor": "#506784",
            "showbackground": true,
            "ticks": "",
            "zerolinecolor": "#C8D4E3",
            "gridwidth": 2
           },
           "zaxis": {
            "backgroundcolor": "rgb(17,17,17)",
            "gridcolor": "#506784",
            "linecolor": "#506784",
            "showbackground": true,
            "ticks": "",
            "zerolinecolor": "#C8D4E3",
            "gridwidth": 2
           }
          },
          "shapedefaults": {
           "line": {
            "color": "#f2f5fa"
           }
          },
          "annotationdefaults": {
           "arrowcolor": "#f2f5fa",
           "arrowhead": 0,
           "arrowwidth": 1
          },
          "geo": {
           "bgcolor": "rgb(17,17,17)",
           "landcolor": "rgb(17,17,17)",
           "subunitcolor": "#506784",
           "showland": true,
           "showlakes": true,
           "lakecolor": "rgb(17,17,17)"
          },
          "title": {
           "x": 0.05
          },
          "updatemenudefaults": {
           "bgcolor": "#506784",
           "borderwidth": 0
          },
          "sliderdefaults": {
           "bgcolor": "#C8D4E3",
           "borderwidth": 1,
           "bordercolor": "rgb(17,17,17)",
           "tickwidth": 0
          },
          "mapbox": {
           "style": "dark"
          }
         }
        },
        "title": {
         "text": "Sample Price Data (First 500 Points)"
        },
        "xaxis": {
         "title": {
          "text": "Time"
         }
        },
        "yaxis": {
         "title": {
          "text": "Price"
         }
        },
        "width": 800,
        "height": 400
       },
       "config": {
        "plotlyServerURL": "https://plot.ly"
       }
      }
     },
     "metadata": {},
     "output_type": "display_data"
    }
   ],
   "execution_count": 3
  },
  {
   "cell_type": "markdown",
   "metadata": {},
   "source": [
    "## Test 1: Simple Optimization (Sphere Function)"
   ]
  },
  {
   "cell_type": "code",
   "metadata": {
    "ExecuteTime": {
     "end_time": "2025-06-16T13:18:18.022965Z",
     "start_time": "2025-06-16T13:18:13.144066Z"
    }
   },
   "source": [
    "# Test on sphere function (minimize sum of squares)\n",
    "print(\"🧮 Testing Pure Function-Based Sphere Optimization\")\n",
    "\n",
    "# Small population for quick test - SINGLE-THREADED for notebook compatibility\n",
    "ga_sphere = GeneticAlgorithm(\n",
    "    population_size=200,\n",
    "    crossover_rate=0.9,\n",
    "    mutation_rate=0.1,\n",
    "    individual_params={'input_size': 1, 'hidden_size': 5, 'output_size': 3},\n",
    "    n_jobs=1  # Single-threaded for notebook stability\n",
    ")\n",
    "\n",
    "# Use pure function-based sphere fitness (zero classes in core!)\n",
    "sphere_fitness = create_pure_sphere_fitness_function()\n",
    "\n",
    "start_time = time.time()\n",
    "best_individual, sphere_stats = ga_sphere.run_evolution(\n",
    "    fitness_function=sphere_fitness,\n",
    "    generations=5000,\n",
    "    verbose=False\n",
    ")\n",
    "sphere_time = time.time() - start_time\n",
    "\n",
    "final_fitness = sphere_fitness(best_individual)\n",
    "weights_sum_sq = np.sum(best_individual.get_weights()**2)\n",
    "\n",
    "print(f\"✅ Completed in {sphere_time:.3f} seconds\")\n",
    "print(f\"🎯 Final fitness: {final_fitness:.6f}\")\n",
    "print(f\"📏 Weights sum of squares: {weights_sum_sq:.6f} (target: 0.0)\")\n",
    "print(f\"⚡ Improvement: {sphere_stats[-1]['best_fitness'] - sphere_stats[0]['best_fitness']:.4f}\")\n",
    "print(f\"🚀 Pure @njit functions - Zero classes in core computation!\")"
   ],
   "outputs": [
    {
     "name": "stdout",
     "output_type": "stream",
     "text": [
      "🧮 Testing Pure Function-Based Sphere Optimization\n",
      "🧬 NumbaGeneticAlgorithm initialized (Population: 200)\n",
      "🚀 Genome length: 28 weights\n",
      "✅ Completed in 4.874 seconds\n",
      "🎯 Final fitness: -0.000288\n",
      "📏 Weights sum of squares: 0.000288 (target: 0.0)\n",
      "⚡ Improvement: 1.0681\n",
      "🚀 Pure @njit functions - Zero classes in core computation!\n"
     ]
    }
   ],
   "execution_count": 7
  },
  {
   "cell_type": "markdown",
   "metadata": {},
   "source": [
    "## Test 2: Trading Neural Network Evolution"
   ]
  },
  {
   "cell_type": "code",
   "metadata": {
    "ExecuteTime": {
     "end_time": "2025-06-16T13:18:20.304952Z",
     "start_time": "2025-06-16T13:18:20.280605Z"
    }
   },
   "source": "# Create pure function-based trading fitness function (zero classes in core!)\ntrading_fitness = create_pure_trading_fitness_function(\n    prices=price_data,\n    timestamps=timestamps,\n    risk_penalty=0.1,\n    sharpe_weight=0.3\n)\n\n# Test random baseline\nprint(\"📊 Testing random baseline with pure functions...\")\nrandom_scores = []\nfor i in range(10):\n    individual = Individual()\n    fitness = trading_fitness(individual)\n    random_scores.append(fitness)\n\nrandom_mean = np.mean(random_scores)\nrandom_best = np.max(random_scores)\n\nprint(f\"🎲 Random performance - Mean: {random_mean:.3f}, Best: {random_best:.3f}\")\nprint(f\"⚡ Pure @njit core - Zero object instantiation!\")",
   "outputs": [
    {
     "name": "stdout",
     "output_type": "stream",
     "text": [
      "📊 Testing random baseline with pure functions...\n",
      "🎲 Random performance - Mean: -0.260, Best: 0.495\n",
      "⚡ Pure @njit core - Zero object instantiation!\n"
     ]
    }
   ],
   "execution_count": 8
  },
  {
   "cell_type": "code",
   "metadata": {
    "ExecuteTime": {
     "end_time": "2025-06-16T13:18:33.027007Z",
     "start_time": "2025-06-16T13:18:21.921416Z"
    }
   },
   "source": [
    "# Evolution for trading\n",
    "print(\"🧬 Starting trading neural network evolution...\")\n",
    "\n",
    "ga_trading = GeneticAlgorithm(\n",
    "    population_size=300,\n",
    "    crossover_rate=0.9,\n",
    "    mutation_rate=0.05,\n",
    "    mutation_strength=0.1,\n",
    "    tournament_size=3,\n",
    "    elitism_count=3,\n",
    "    individual_params={'input_size': 1, 'hidden_size': 10, 'output_size': 3},\n",
    "    n_jobs=1  # Single-threaded for notebook stability\n",
    ")\n",
    "\n",
    "start_time = time.time()\n",
    "best_trader, trading_stats = ga_trading.run_evolution(\n",
    "    fitness_function=trading_fitness,\n",
    "    generations=50,\n",
    "    verbose=True\n",
    ")\n",
    "evolution_time = time.time() - start_time\n",
    "\n",
    "final_fitness = trading_fitness(best_trader)\n",
    "improvement = final_fitness - random_mean\n",
    "\n",
    "print(f\"\\n🏆 Evolution Results:\")\n",
    "print(f\"⏱️  Total time: {evolution_time:.2f} seconds\")\n",
    "print(f\"🎯 Best fitness: {final_fitness:.4f}\")\n",
    "print(f\"📈 Improvement over random: {improvement:.4f} ({improvement/random_mean*100:.1f}%)\")\n",
    "print(f\"⚡ Performance: {evolution_time/50:.4f}s per generation\")"
   ],
   "outputs": [
    {
     "name": "stdout",
     "output_type": "stream",
     "text": [
      "🧬 Starting trading neural network evolution...\n",
      "🧬 NumbaGeneticAlgorithm initialized (Population: 300)\n",
      "🚀 Genome length: 53 weights\n",
      "🚀 Starting Numba evolution (50 generations)...\n",
      "Generation   0: Best= 11.2341, Mean= -0.0824, Std=1.6766 [0.2s]\n",
      "Generation  10: Best=645.8237, Mean=  5.0540, Std=42.9855 [2.4s]\n",
      "Generation  20: Best=1040.9926, Mean=  7.9005, Std=71.6964 [4.5s]\n",
      "Generation  30: Best=1040.9926, Mean= 18.5099, Std=92.5677 [6.7s]\n",
      "Generation  40: Best=8909.2715, Mean= 89.7280, Std=733.4676 [8.9s]\n",
      "🏁 Numba evolution complete! Total time: 11.1s\n",
      "   Final best fitness: 8909.2715\n",
      "   Avg time per generation: 0.22s\n",
      "\n",
      "🏆 Evolution Results:\n",
      "⏱️  Total time: 11.10 seconds\n",
      "🎯 Best fitness: 8909.2715\n",
      "📈 Improvement over random: 8909.5317 (-3424442.4%)\n",
      "⚡ Performance: 0.2219s per generation\n"
     ]
    }
   ],
   "execution_count": 9
  },
  {
   "cell_type": "markdown",
   "metadata": {},
   "source": [
    "## Performance Analysis"
   ]
  },
  {
   "cell_type": "code",
   "metadata": {
    "ExecuteTime": {
     "end_time": "2025-06-16T13:08:16.915591Z",
     "start_time": "2025-06-16T13:08:16.879710Z"
    }
   },
   "source": [
    "# Analyze evolution progress\n",
    "generations = list(range(len(trading_stats)))\n",
    "best_fitness = [stat['best_fitness'] for stat in trading_stats]\n",
    "mean_fitness = [stat['mean_fitness'] for stat in trading_stats]\n",
    "std_fitness = [stat['std_fitness'] for stat in trading_stats]\n",
    "\n",
    "# Interactive evolution plot\n",
    "fig = make_subplots(\n",
    "    rows=2, cols=1,\n",
    "    subplot_titles=('Fitness Evolution', 'Population Diversity'),\n",
    "    vertical_spacing=0.1\n",
    ")\n",
    "\n",
    "# Fitness evolution\n",
    "fig.add_trace(go.Scatter(\n",
    "    x=generations, y=best_fitness,\n",
    "    mode='lines+markers',\n",
    "    name='Best Fitness',\n",
    "    line=dict(color='green', width=2)\n",
    "), row=1, col=1)\n",
    "\n",
    "fig.add_trace(go.Scatter(\n",
    "    x=generations, y=mean_fitness,\n",
    "    mode='lines',\n",
    "    name='Mean Fitness',\n",
    "    line=dict(color='blue', width=1)\n",
    "), row=1, col=1)\n",
    "\n",
    "# Random baseline\n",
    "fig.add_hline(\n",
    "    y=random_mean,\n",
    "    line_dash=\"dash\",\n",
    "    line_color=\"red\",\n",
    "    annotation_text=f\"Random Baseline ({random_mean:.3f})\",\n",
    "    row=1, col=1\n",
    ")\n",
    "\n",
    "# Population diversity\n",
    "fig.add_trace(go.Scatter(\n",
    "    x=generations, y=std_fitness,\n",
    "    mode='lines',\n",
    "    name='Std Deviation',\n",
    "    line=dict(color='orange', width=1)\n",
    "), row=2, col=1)\n",
    "\n",
    "fig.update_layout(\n",
    "    title=\"Numba Genetic Algorithm - Ultra-Fast Evolution\",\n",
    "    height=600,\n",
    "    width=900\n",
    ")\n",
    "\n",
    "fig.update_xaxes(title_text=\"Generation\", row=2, col=1)\n",
    "fig.update_yaxes(title_text=\"Fitness\", row=1, col=1)\n",
    "fig.update_yaxes(title_text=\"Std Deviation\", row=2, col=1)\n",
    "\n",
    "fig.show()\n",
    "\n",
    "print(f\"📊 Evolution Summary:\")\n",
    "print(f\"🚀 Starting fitness: {best_fitness[0]:.4f}\")\n",
    "print(f\"🏆 Final fitness: {best_fitness[-1]:.4f}\")\n",
    "print(f\"📈 Total improvement: {best_fitness[-1] - best_fitness[0]:.4f}\")\n",
    "print(f\"🎯 Best generation: {generations[np.argmax(best_fitness)]}\")"
   ],
   "outputs": [
    {
     "data": {
      "application/vnd.plotly.v1+json": {
       "data": [
        {
         "line": {
          "color": "green",
          "width": 2
         },
         "mode": "lines+markers",
         "name": "Best Fitness",
         "x": [
          0,
          1,
          2,
          3,
          4,
          5,
          6,
          7,
          8,
          9,
          10,
          11,
          12,
          13,
          14,
          15,
          16,
          17,
          18,
          19,
          20,
          21,
          22,
          23,
          24,
          25,
          26,
          27,
          28,
          29,
          30,
          31,
          32,
          33,
          34,
          35,
          36,
          37,
          38,
          39,
          40,
          41,
          42,
          43,
          44,
          45,
          46,
          47,
          48,
          49,
          50
         ],
         "y": [
          2.795734405517578,
          4.114349842071533,
          10.07772159576416,
          10.07772159576416,
          11.165312767028809,
          49.186275482177734,
          49.186275482177734,
          49.186275482177734,
          49.186275482177734,
          49.186275482177734,
          49.186275482177734,
          49.186275482177734,
          49.186275482177734,
          141.38201904296875,
          141.38201904296875,
          141.38201904296875,
          267.9862976074219,
          342.3921813964844,
          342.3921813964844,
          342.3921813964844,
          342.3921813964844,
          342.3921813964844,
          342.3921813964844,
          342.3921813964844,
          342.3921813964844,
          342.3921813964844,
          342.3921813964844,
          342.3921813964844,
          342.3921813964844,
          342.3921813964844,
          735.2807006835938,
          735.2807006835938,
          735.2807006835938,
          735.2807006835938,
          735.2807006835938,
          735.2807006835938,
          735.2807006835938,
          735.2807006835938,
          735.2807006835938,
          735.2807006835938,
          735.2807006835938,
          735.2807006835938,
          735.2807006835938,
          735.2807006835938,
          735.2807006835938,
          735.2807006835938,
          735.2807006835938,
          735.2807006835938,
          735.2807006835938,
          735.2807006835938,
          735.2807006835938
         ],
         "type": "scatter",
         "xaxis": "x",
         "yaxis": "y"
        },
        {
         "line": {
          "color": "blue",
          "width": 1
         },
         "mode": "lines",
         "name": "Mean Fitness",
         "x": [
          0,
          1,
          2,
          3,
          4,
          5,
          6,
          7,
          8,
          9,
          10,
          11,
          12,
          13,
          14,
          15,
          16,
          17,
          18,
          19,
          20,
          21,
          22,
          23,
          24,
          25,
          26,
          27,
          28,
          29,
          30,
          31,
          32,
          33,
          34,
          35,
          36,
          37,
          38,
          39,
          40,
          41,
          42,
          43,
          44,
          45,
          46,
          47,
          48,
          49,
          50
         ],
         "y": [
          -0.05277617275714874,
          0.17357805371284485,
          0.25378575921058655,
          -1.558209776878357,
          0.44196391105651855,
          0.6733113527297974,
          0.7994008660316467,
          1.2271630764007568,
          1.2268846035003662,
          1.369179606437683,
          1.4752663373947144,
          1.441672921180725,
          1.8411527872085571,
          2.2733662128448486,
          2.4307327270507812,
          2.527127265930176,
          3.5607547760009766,
          4.467813491821289,
          5.3813796043396,
          4.717580795288086,
          4.5926055908203125,
          6.681337356567383,
          5.180043697357178,
          4.8929243087768555,
          5.644352436065674,
          5.956904411315918,
          7.048105239868164,
          7.346243381500244,
          6.468263149261475,
          5.503414630889893,
          9.197670936584473,
          10.061491012573242,
          8.788064002990723,
          8.835601806640625,
          9.569180488586426,
          9.560333251953125,
          11.450798988342285,
          13.673176765441895,
          14.053175926208496,
          12.303121566772461,
          10.914803504943848,
          12.07164192199707,
          12.555562973022461,
          16.940711975097656,
          12.967872619628906,
          13.152097702026367,
          12.845559120178223,
          13.993760108947754,
          17.581050872802734,
          15.269883155822754,
          15.593802452087402
         ],
         "type": "scatter",
         "xaxis": "x",
         "yaxis": "y"
        },
        {
         "line": {
          "color": "orange",
          "width": 1
         },
         "mode": "lines",
         "name": "Std Deviation",
         "x": [
          0,
          1,
          2,
          3,
          4,
          5,
          6,
          7,
          8,
          9,
          10,
          11,
          12,
          13,
          14,
          15,
          16,
          17,
          18,
          19,
          20,
          21,
          22,
          23,
          24,
          25,
          26,
          27,
          28,
          29,
          30,
          31,
          32,
          33,
          34,
          35,
          36,
          37,
          38,
          39,
          40,
          41,
          42,
          43,
          44,
          45,
          46,
          47,
          48,
          49,
          50
         ],
         "y": [
          0.7807634472846985,
          0.686582088470459,
          1.1787006855010986,
          34.57152557373047,
          1.2741420269012451,
          3.1243643760681152,
          3.5695104598999023,
          4.702483654022217,
          4.774885177612305,
          5.228365898132324,
          4.981956481933594,
          4.957553386688232,
          5.33437967300415,
          9.632214546203613,
          9.49148178100586,
          10.118047714233398,
          18.267141342163086,
          26.582504272460938,
          30.395647048950195,
          29.564306259155273,
          29.249919891357422,
          36.435569763183594,
          30.255613327026367,
          29.25368881225586,
          30.386682510375977,
          32.98003387451172,
          34.850040435791016,
          34.588016510009766,
          32.055782318115234,
          29.29703140258789,
          52.219886779785156,
          64.91825103759766,
          62.78922653198242,
          62.83464050292969,
          63.17886734008789,
          63.14766311645508,
          66.62323760986328,
          78.01199340820312,
          76.86505889892578,
          73.68706512451172,
          73.1506118774414,
          73.40882110595703,
          73.81446075439453,
          94.3647232055664,
          73.48114013671875,
          74.03934478759766,
          73.32843780517578,
          74.0474624633789,
          84.96623992919922,
          74.53292083740234,
          84.43769836425781
         ],
         "type": "scatter",
         "xaxis": "x2",
         "yaxis": "y2"
        }
       ],
       "layout": {
        "template": {
         "data": {
          "histogram2dcontour": [
           {
            "type": "histogram2dcontour",
            "colorbar": {
             "outlinewidth": 0,
             "ticks": ""
            },
            "colorscale": [
             [
              0,
              "#0d0887"
             ],
             [
              0.1111111111111111,
              "#46039f"
             ],
             [
              0.2222222222222222,
              "#7201a8"
             ],
             [
              0.3333333333333333,
              "#9c179e"
             ],
             [
              0.4444444444444444,
              "#bd3786"
             ],
             [
              0.5555555555555556,
              "#d8576b"
             ],
             [
              0.6666666666666666,
              "#ed7953"
             ],
             [
              0.7777777777777778,
              "#fb9f3a"
             ],
             [
              0.8888888888888888,
              "#fdca26"
             ],
             [
              1,
              "#f0f921"
             ]
            ]
           }
          ],
          "choropleth": [
           {
            "type": "choropleth",
            "colorbar": {
             "outlinewidth": 0,
             "ticks": ""
            }
           }
          ],
          "histogram2d": [
           {
            "type": "histogram2d",
            "colorbar": {
             "outlinewidth": 0,
             "ticks": ""
            },
            "colorscale": [
             [
              0,
              "#0d0887"
             ],
             [
              0.1111111111111111,
              "#46039f"
             ],
             [
              0.2222222222222222,
              "#7201a8"
             ],
             [
              0.3333333333333333,
              "#9c179e"
             ],
             [
              0.4444444444444444,
              "#bd3786"
             ],
             [
              0.5555555555555556,
              "#d8576b"
             ],
             [
              0.6666666666666666,
              "#ed7953"
             ],
             [
              0.7777777777777778,
              "#fb9f3a"
             ],
             [
              0.8888888888888888,
              "#fdca26"
             ],
             [
              1,
              "#f0f921"
             ]
            ]
           }
          ],
          "heatmap": [
           {
            "type": "heatmap",
            "colorbar": {
             "outlinewidth": 0,
             "ticks": ""
            },
            "colorscale": [
             [
              0,
              "#0d0887"
             ],
             [
              0.1111111111111111,
              "#46039f"
             ],
             [
              0.2222222222222222,
              "#7201a8"
             ],
             [
              0.3333333333333333,
              "#9c179e"
             ],
             [
              0.4444444444444444,
              "#bd3786"
             ],
             [
              0.5555555555555556,
              "#d8576b"
             ],
             [
              0.6666666666666666,
              "#ed7953"
             ],
             [
              0.7777777777777778,
              "#fb9f3a"
             ],
             [
              0.8888888888888888,
              "#fdca26"
             ],
             [
              1,
              "#f0f921"
             ]
            ]
           }
          ],
          "contourcarpet": [
           {
            "type": "contourcarpet",
            "colorbar": {
             "outlinewidth": 0,
             "ticks": ""
            }
           }
          ],
          "contour": [
           {
            "type": "contour",
            "colorbar": {
             "outlinewidth": 0,
             "ticks": ""
            },
            "colorscale": [
             [
              0,
              "#0d0887"
             ],
             [
              0.1111111111111111,
              "#46039f"
             ],
             [
              0.2222222222222222,
              "#7201a8"
             ],
             [
              0.3333333333333333,
              "#9c179e"
             ],
             [
              0.4444444444444444,
              "#bd3786"
             ],
             [
              0.5555555555555556,
              "#d8576b"
             ],
             [
              0.6666666666666666,
              "#ed7953"
             ],
             [
              0.7777777777777778,
              "#fb9f3a"
             ],
             [
              0.8888888888888888,
              "#fdca26"
             ],
             [
              1,
              "#f0f921"
             ]
            ]
           }
          ],
          "surface": [
           {
            "type": "surface",
            "colorbar": {
             "outlinewidth": 0,
             "ticks": ""
            },
            "colorscale": [
             [
              0,
              "#0d0887"
             ],
             [
              0.1111111111111111,
              "#46039f"
             ],
             [
              0.2222222222222222,
              "#7201a8"
             ],
             [
              0.3333333333333333,
              "#9c179e"
             ],
             [
              0.4444444444444444,
              "#bd3786"
             ],
             [
              0.5555555555555556,
              "#d8576b"
             ],
             [
              0.6666666666666666,
              "#ed7953"
             ],
             [
              0.7777777777777778,
              "#fb9f3a"
             ],
             [
              0.8888888888888888,
              "#fdca26"
             ],
             [
              1,
              "#f0f921"
             ]
            ]
           }
          ],
          "mesh3d": [
           {
            "type": "mesh3d",
            "colorbar": {
             "outlinewidth": 0,
             "ticks": ""
            }
           }
          ],
          "scatter": [
           {
            "marker": {
             "line": {
              "color": "#283442"
             }
            },
            "type": "scatter"
           }
          ],
          "parcoords": [
           {
            "type": "parcoords",
            "line": {
             "colorbar": {
              "outlinewidth": 0,
              "ticks": ""
             }
            }
           }
          ],
          "scatterpolargl": [
           {
            "type": "scatterpolargl",
            "marker": {
             "colorbar": {
              "outlinewidth": 0,
              "ticks": ""
             }
            }
           }
          ],
          "bar": [
           {
            "error_x": {
             "color": "#f2f5fa"
            },
            "error_y": {
             "color": "#f2f5fa"
            },
            "marker": {
             "line": {
              "color": "rgb(17,17,17)",
              "width": 0.5
             },
             "pattern": {
              "fillmode": "overlay",
              "size": 10,
              "solidity": 0.2
             }
            },
            "type": "bar"
           }
          ],
          "scattergeo": [
           {
            "type": "scattergeo",
            "marker": {
             "colorbar": {
              "outlinewidth": 0,
              "ticks": ""
             }
            }
           }
          ],
          "scatterpolar": [
           {
            "type": "scatterpolar",
            "marker": {
             "colorbar": {
              "outlinewidth": 0,
              "ticks": ""
             }
            }
           }
          ],
          "histogram": [
           {
            "marker": {
             "pattern": {
              "fillmode": "overlay",
              "size": 10,
              "solidity": 0.2
             }
            },
            "type": "histogram"
           }
          ],
          "scattergl": [
           {
            "marker": {
             "line": {
              "color": "#283442"
             }
            },
            "type": "scattergl"
           }
          ],
          "scatter3d": [
           {
            "type": "scatter3d",
            "line": {
             "colorbar": {
              "outlinewidth": 0,
              "ticks": ""
             }
            },
            "marker": {
             "colorbar": {
              "outlinewidth": 0,
              "ticks": ""
             }
            }
           }
          ],
          "scattermap": [
           {
            "type": "scattermap",
            "marker": {
             "colorbar": {
              "outlinewidth": 0,
              "ticks": ""
             }
            }
           }
          ],
          "scattermapbox": [
           {
            "type": "scattermapbox",
            "marker": {
             "colorbar": {
              "outlinewidth": 0,
              "ticks": ""
             }
            }
           }
          ],
          "scatterternary": [
           {
            "type": "scatterternary",
            "marker": {
             "colorbar": {
              "outlinewidth": 0,
              "ticks": ""
             }
            }
           }
          ],
          "scattercarpet": [
           {
            "type": "scattercarpet",
            "marker": {
             "colorbar": {
              "outlinewidth": 0,
              "ticks": ""
             }
            }
           }
          ],
          "carpet": [
           {
            "aaxis": {
             "endlinecolor": "#A2B1C6",
             "gridcolor": "#506784",
             "linecolor": "#506784",
             "minorgridcolor": "#506784",
             "startlinecolor": "#A2B1C6"
            },
            "baxis": {
             "endlinecolor": "#A2B1C6",
             "gridcolor": "#506784",
             "linecolor": "#506784",
             "minorgridcolor": "#506784",
             "startlinecolor": "#A2B1C6"
            },
            "type": "carpet"
           }
          ],
          "table": [
           {
            "cells": {
             "fill": {
              "color": "#506784"
             },
             "line": {
              "color": "rgb(17,17,17)"
             }
            },
            "header": {
             "fill": {
              "color": "#2a3f5f"
             },
             "line": {
              "color": "rgb(17,17,17)"
             }
            },
            "type": "table"
           }
          ],
          "barpolar": [
           {
            "marker": {
             "line": {
              "color": "rgb(17,17,17)",
              "width": 0.5
             },
             "pattern": {
              "fillmode": "overlay",
              "size": 10,
              "solidity": 0.2
             }
            },
            "type": "barpolar"
           }
          ],
          "pie": [
           {
            "automargin": true,
            "type": "pie"
           }
          ]
         },
         "layout": {
          "autotypenumbers": "strict",
          "colorway": [
           "#636efa",
           "#EF553B",
           "#00cc96",
           "#ab63fa",
           "#FFA15A",
           "#19d3f3",
           "#FF6692",
           "#B6E880",
           "#FF97FF",
           "#FECB52"
          ],
          "font": {
           "color": "#f2f5fa"
          },
          "hovermode": "closest",
          "hoverlabel": {
           "align": "left"
          },
          "paper_bgcolor": "rgb(17,17,17)",
          "plot_bgcolor": "rgb(17,17,17)",
          "polar": {
           "bgcolor": "rgb(17,17,17)",
           "angularaxis": {
            "gridcolor": "#506784",
            "linecolor": "#506784",
            "ticks": ""
           },
           "radialaxis": {
            "gridcolor": "#506784",
            "linecolor": "#506784",
            "ticks": ""
           }
          },
          "ternary": {
           "bgcolor": "rgb(17,17,17)",
           "aaxis": {
            "gridcolor": "#506784",
            "linecolor": "#506784",
            "ticks": ""
           },
           "baxis": {
            "gridcolor": "#506784",
            "linecolor": "#506784",
            "ticks": ""
           },
           "caxis": {
            "gridcolor": "#506784",
            "linecolor": "#506784",
            "ticks": ""
           }
          },
          "coloraxis": {
           "colorbar": {
            "outlinewidth": 0,
            "ticks": ""
           }
          },
          "colorscale": {
           "sequential": [
            [
             0,
             "#0d0887"
            ],
            [
             0.1111111111111111,
             "#46039f"
            ],
            [
             0.2222222222222222,
             "#7201a8"
            ],
            [
             0.3333333333333333,
             "#9c179e"
            ],
            [
             0.4444444444444444,
             "#bd3786"
            ],
            [
             0.5555555555555556,
             "#d8576b"
            ],
            [
             0.6666666666666666,
             "#ed7953"
            ],
            [
             0.7777777777777778,
             "#fb9f3a"
            ],
            [
             0.8888888888888888,
             "#fdca26"
            ],
            [
             1,
             "#f0f921"
            ]
           ],
           "sequentialminus": [
            [
             0,
             "#0d0887"
            ],
            [
             0.1111111111111111,
             "#46039f"
            ],
            [
             0.2222222222222222,
             "#7201a8"
            ],
            [
             0.3333333333333333,
             "#9c179e"
            ],
            [
             0.4444444444444444,
             "#bd3786"
            ],
            [
             0.5555555555555556,
             "#d8576b"
            ],
            [
             0.6666666666666666,
             "#ed7953"
            ],
            [
             0.7777777777777778,
             "#fb9f3a"
            ],
            [
             0.8888888888888888,
             "#fdca26"
            ],
            [
             1,
             "#f0f921"
            ]
           ],
           "diverging": [
            [
             0,
             "#8e0152"
            ],
            [
             0.1,
             "#c51b7d"
            ],
            [
             0.2,
             "#de77ae"
            ],
            [
             0.3,
             "#f1b6da"
            ],
            [
             0.4,
             "#fde0ef"
            ],
            [
             0.5,
             "#f7f7f7"
            ],
            [
             0.6,
             "#e6f5d0"
            ],
            [
             0.7,
             "#b8e186"
            ],
            [
             0.8,
             "#7fbc41"
            ],
            [
             0.9,
             "#4d9221"
            ],
            [
             1,
             "#276419"
            ]
           ]
          },
          "xaxis": {
           "gridcolor": "#283442",
           "linecolor": "#506784",
           "ticks": "",
           "title": {
            "standoff": 15
           },
           "zerolinecolor": "#283442",
           "automargin": true,
           "zerolinewidth": 2
          },
          "yaxis": {
           "gridcolor": "#283442",
           "linecolor": "#506784",
           "ticks": "",
           "title": {
            "standoff": 15
           },
           "zerolinecolor": "#283442",
           "automargin": true,
           "zerolinewidth": 2
          },
          "scene": {
           "xaxis": {
            "backgroundcolor": "rgb(17,17,17)",
            "gridcolor": "#506784",
            "linecolor": "#506784",
            "showbackground": true,
            "ticks": "",
            "zerolinecolor": "#C8D4E3",
            "gridwidth": 2
           },
           "yaxis": {
            "backgroundcolor": "rgb(17,17,17)",
            "gridcolor": "#506784",
            "linecolor": "#506784",
            "showbackground": true,
            "ticks": "",
            "zerolinecolor": "#C8D4E3",
            "gridwidth": 2
           },
           "zaxis": {
            "backgroundcolor": "rgb(17,17,17)",
            "gridcolor": "#506784",
            "linecolor": "#506784",
            "showbackground": true,
            "ticks": "",
            "zerolinecolor": "#C8D4E3",
            "gridwidth": 2
           }
          },
          "shapedefaults": {
           "line": {
            "color": "#f2f5fa"
           }
          },
          "annotationdefaults": {
           "arrowcolor": "#f2f5fa",
           "arrowhead": 0,
           "arrowwidth": 1
          },
          "geo": {
           "bgcolor": "rgb(17,17,17)",
           "landcolor": "rgb(17,17,17)",
           "subunitcolor": "#506784",
           "showland": true,
           "showlakes": true,
           "lakecolor": "rgb(17,17,17)"
          },
          "title": {
           "x": 0.05
          },
          "updatemenudefaults": {
           "bgcolor": "#506784",
           "borderwidth": 0
          },
          "sliderdefaults": {
           "bgcolor": "#C8D4E3",
           "borderwidth": 1,
           "bordercolor": "rgb(17,17,17)",
           "tickwidth": 0
          },
          "mapbox": {
           "style": "dark"
          }
         }
        },
        "xaxis": {
         "anchor": "y",
         "domain": [
          0,
          1
         ]
        },
        "yaxis": {
         "anchor": "x",
         "domain": [
          0.55,
          1
         ],
         "title": {
          "text": "Fitness"
         }
        },
        "xaxis2": {
         "anchor": "y2",
         "domain": [
          0,
          1
         ],
         "title": {
          "text": "Generation"
         }
        },
        "yaxis2": {
         "anchor": "x2",
         "domain": [
          0,
          0.45
         ],
         "title": {
          "text": "Std Deviation"
         }
        },
        "annotations": [
         {
          "font": {
           "size": 16
          },
          "showarrow": false,
          "text": "Fitness Evolution",
          "x": 0.5,
          "xanchor": "center",
          "xref": "paper",
          "y": 1,
          "yanchor": "bottom",
          "yref": "paper"
         },
         {
          "font": {
           "size": 16
          },
          "showarrow": false,
          "text": "Population Diversity",
          "x": 0.5,
          "xanchor": "center",
          "xref": "paper",
          "y": 0.45,
          "yanchor": "bottom",
          "yref": "paper"
         },
         {
          "showarrow": false,
          "text": "Random Baseline (0.161)",
          "x": 1,
          "xanchor": "right",
          "xref": "x domain",
          "y": 0.16114151521805734,
          "yanchor": "bottom",
          "yref": "y"
         }
        ],
        "shapes": [
         {
          "line": {
           "color": "red",
           "dash": "dash"
          },
          "type": "line",
          "x0": 0,
          "x1": 1,
          "xref": "x domain",
          "y0": 0.16114151521805734,
          "y1": 0.16114151521805734,
          "yref": "y"
         }
        ],
        "title": {
         "text": "Numba Genetic Algorithm - Ultra-Fast Evolution"
        },
        "height": 600,
        "width": 900
       },
       "config": {
        "plotlyServerURL": "https://plot.ly"
       }
      }
     },
     "metadata": {},
     "output_type": "display_data"
    },
    {
     "name": "stdout",
     "output_type": "stream",
     "text": [
      "📊 Evolution Summary:\n",
      "🚀 Starting fitness: 2.7957\n",
      "🏆 Final fitness: 735.2807\n",
      "📈 Total improvement: 732.4850\n",
      "🎯 Best generation: 30\n"
     ]
    }
   ],
   "execution_count": 7
  },
  {
   "cell_type": "markdown",
   "metadata": {},
   "source": [
    "## Trading Performance Analysis"
   ]
  },
  {
   "cell_type": "code",
   "metadata": {
    "ExecuteTime": {
     "end_time": "2025-06-16T13:08:16.934644Z",
     "start_time": "2025-06-16T13:08:16.927219Z"
    }
   },
   "source": [
    "# Analyze best trader's performance\n",
    "def analyze_trading_performance(individual, prices, timestamps):\n",
    "    \"\"\"Detailed trading simulation.\"\"\"\n",
    "    individual.reset_state()\n",
    "    portfolio_value = 1.0\n",
    "    position = 0  # 0: no position, 1: long position\n",
    "    entry_price = 0.0\n",
    "    \n",
    "    actions = []\n",
    "    portfolio_values = []\n",
    "    \n",
    "    for price, timestamp in zip(prices, timestamps):\n",
    "        # Normalize price for neural network\n",
    "        normalized_price = (price - 1000) / 100\n",
    "        action = individual.get_action(normalized_price, timestamp)\n",
    "        \n",
    "        # Execute trading logic\n",
    "        if position == 0 and action == 2:  # Buy signal\n",
    "            position = 1\n",
    "            entry_price = price\n",
    "        elif position == 1 and action == 0:  # Sell signal\n",
    "            position = 0\n",
    "            portfolio_value *= price / entry_price\n",
    "        \n",
    "        actions.append(action)\n",
    "        portfolio_values.append(portfolio_value)\n",
    "    \n",
    "    return np.array(actions), np.array(portfolio_values)\n",
    "\n",
    "# Analyze best individual\n",
    "actions, portfolio_values = analyze_trading_performance(best_trader, price_data, timestamps)\n",
    "\n",
    "# Trading statistics\n",
    "final_return = (portfolio_values[-1] - 1.0) * 100\n",
    "max_value = np.max(portfolio_values)\n",
    "min_value = np.min(portfolio_values)\n",
    "max_drawdown = (max_value - min_value) / max_value * 100\n",
    "\n",
    "# Action counts\n",
    "hold_count = np.sum(actions == 1)\n",
    "sell_count = np.sum(actions == 0)\n",
    "buy_count = np.sum(actions == 2)\n",
    "total_trades = min(buy_count, sell_count)\n",
    "\n",
    "print(f\"📈 Trading Performance Analysis:\")\n",
    "print(f\"💰 Final return: {final_return:.2f}%\")\n",
    "print(f\"📊 Max drawdown: {max_drawdown:.2f}%\")\n",
    "print(f\"🔄 Total trades: {total_trades}\")\n",
    "print(f\"⚖️  Action distribution - Hold: {hold_count}, Sell: {sell_count}, Buy: {buy_count}\")\n",
    "print(f\"🎯 Final portfolio value: {portfolio_values[-1]:.4f}\")"
   ],
   "outputs": [
    {
     "name": "stdout",
     "output_type": "stream",
     "text": [
      "📈 Trading Performance Analysis:\n",
      "💰 Final return: 30.31%\n",
      "📊 Max drawdown: 23.26%\n",
      "🔄 Total trades: 106\n",
      "⚖️  Action distribution - Hold: 972, Sell: 922, Buy: 106\n",
      "🎯 Final portfolio value: 1.3031\n"
     ]
    }
   ],
   "execution_count": 8
  },
  {
   "cell_type": "code",
   "metadata": {
    "ExecuteTime": {
     "end_time": "2025-06-16T13:08:16.962270Z",
     "start_time": "2025-06-16T13:08:16.949892Z"
    }
   },
   "source": [
    "# Visualize trading performance\n",
    "fig = make_subplots(\n",
    "    rows=2, cols=1,\n",
    "    subplot_titles=('Price Chart with Signals', 'Portfolio Value'),\n",
    "    vertical_spacing=0.1\n",
    ")\n",
    "\n",
    "# Sample every 10th point for cleaner visualization\n",
    "sample_idx = slice(None, None, 10)\n",
    "sample_timestamps = timestamps[sample_idx]\n",
    "sample_prices = price_data[sample_idx]\n",
    "sample_actions = actions[sample_idx]\n",
    "sample_portfolio = portfolio_values[sample_idx]\n",
    "\n",
    "# Price chart\n",
    "fig.add_trace(go.Scatter(\n",
    "    x=sample_timestamps, y=sample_prices,\n",
    "    mode='lines',\n",
    "    name='Price',\n",
    "    line=dict(color='blue', width=1)\n",
    "), row=1, col=1)\n",
    "\n",
    "# Buy signals\n",
    "buy_mask = sample_actions == 2\n",
    "if np.any(buy_mask):\n",
    "    fig.add_trace(go.Scatter(\n",
    "        x=sample_timestamps[buy_mask], y=sample_prices[buy_mask],\n",
    "        mode='markers',\n",
    "        name='Buy',\n",
    "        marker=dict(color='green', symbol='triangle-up', size=6)\n",
    "    ), row=1, col=1)\n",
    "\n",
    "# Sell signals\n",
    "sell_mask = sample_actions == 0\n",
    "if np.any(sell_mask):\n",
    "    fig.add_trace(go.Scatter(\n",
    "        x=sample_timestamps[sell_mask], y=sample_prices[sell_mask],\n",
    "        mode='markers',\n",
    "        name='Sell',\n",
    "        marker=dict(color='red', symbol='triangle-down', size=6)\n",
    "    ), row=1, col=1)\n",
    "\n",
    "# Portfolio value\n",
    "fig.add_trace(go.Scatter(\n",
    "    x=sample_timestamps, y=sample_portfolio,\n",
    "    mode='lines',\n",
    "    name='Portfolio Value',\n",
    "    line=dict(color='purple', width=2)\n",
    "), row=2, col=1)\n",
    "\n",
    "# Break-even line\n",
    "fig.add_hline(y=1.0, line_dash=\"dash\", line_color=\"gray\", row=2, col=1)\n",
    "\n",
    "fig.update_layout(\n",
    "    title=\"Best Evolved Trader - Performance Analysis\",\n",
    "    height=700,\n",
    "    width=1000\n",
    ")\n",
    "\n",
    "fig.update_yaxes(title_text=\"Price\", row=1, col=1)\n",
    "fig.update_yaxes(title_text=\"Portfolio Value\", row=2, col=1)\n",
    "fig.update_xaxes(title_text=\"Time\", row=2, col=1)\n",
    "\n",
    "fig.show()"
   ],
   "outputs": [
    {
     "data": {
      "application/vnd.plotly.v1+json": {
       "data": [
        {
         "line": {
          "color": "blue",
          "width": 1
         },
         "mode": "lines",
         "name": "Price",
         "x": {
          "dtype": "f8",
          "bdata": "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"
         },
         "y": {
          "dtype": "f8",
          "bdata": "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"
         },
         "type": "scatter",
         "xaxis": "x",
         "yaxis": "y"
        },
        {
         "marker": {
          "color": "green",
          "size": 6,
          "symbol": "triangle-up"
         },
         "mode": "markers",
         "name": "Buy",
         "x": {
          "dtype": "f8",
          "bdata": "AAAAAAAkk0AAAAAAAEyTQAAAAAAAdJNAAAAAAACck0AAAAAAAMSTQGZmZmZm6JNAYmZmZmbsk0D4/////5OUQPj/////u5RA+P/////jlEA="
         },
         "y": {
          "dtype": "f8",
          "bdata": "HAaQP7ozikBMtB86KjmLQOqFqYdyJ4pAphieeEvciEDfY0dRlYuIQMTvgZKLrIlACnTkA3yAi0BOnQYHi6yLQLaueiojbItAwz73VPXlikA="
         },
         "type": "scatter",
         "xaxis": "x",
         "yaxis": "y"
        },
        {
         "marker": {
          "color": "red",
          "size": 6,
          "symbol": "triangle-down"
         },
         "mode": "markers",
         "name": "Sell",
         "x": {
          "dtype": "f8",
          "bdata": "mpmZmZmZuT+ZmZmZmZnxPwEAAAAAAAhAAAAAAAAAKkAAAAAAAAA3QAAAAAAAgEBAAAAAAADAVEAAAAAAAEBXQAAAAAAAwFlAAAAAAABAXEAAAAAAAMBeQAAAAAAAoGBAAAAAAADgYUAAAAAAACBjQAAAAAAAYGRAAAAAAACgZUAzMzMzM8NmQDEzMzMz42ZA/P////8fZ0D8/////19oQPz/////n2lA/P/////fakD8/////x9sQP7/////b3JAmJmZmZnBdkCcmZmZmdF2QAYAAAAA8HZABgAAAACQd0AGAAAAADB4QAYAAAAA0HhABgAAAABweUAGAAAAAFB7QAYAAAAA8HtABgAAAACQfEAGAAAAADB9QAYAAAAA0H1ABgAAAABwfkAGAAAAABB/QAYAAAAAsH9AAwAAAAAogEDSzMzMzBiBQAcAAAAAKIFABwAAAAB4gUAHAAAAAMiBQAcAAAAAGIJABwAAAABogkAHAAAAALiCQAcAAAAACINABwAAAABYg0AHAAAAAKiDQAcAAAAA+INABwAAAABIhEAHAAAAAJiEQAcAAAAA6IRABwAAAAA4hUAHAAAAAIiFQAcAAAAA2IVABwAAAAAohkDUzMzMzMCGQNbMzMzMyIZACwAAAADYhkALAAAAACiHQAsAAAAAeIdADwAAAAAIj0APAAAAAFiPQA8AAAAAqI9ADwAAAAD4j0BuZmZmZhCRQGpmZmZmFJFAAAAAAAAckUAAAAAAAESRQAAAAAAAbJFA+P////8jlkD4/////0uWQPj/////c5ZA+P////+blkBeZmZmZsCWQFpmZmZmxJZA8P/////LlkDw/////xuXQPD/////Q5dA8P////9rl0Dw/////wuYQPD/////M5hA8P////+DmEDw/////6uYQPD/////05hAVmZmZmaYmUBSZmZmZpyZQOj/////o5lA6P/////LmUDo/////wubQOj/////W5tA"
         },
         "y": {
          "dtype": "f8",
          "bdata": "jRoeSxw6kEDznhmPT8KQQHLSXMxqj5BAJXUOhYDOkEDxdas4E3aQQDLXypm5no9Ar2m+b18fkEBWeCg4E+WQQIqA35AleJFAOpHwyYNnkUBTrdmer/ORQDiHn+xD2pFAx3S2q2RukUBlsEknwvGQQGsEfx+n2pBAaTEwG671kECSRCnm53GRQPigaR6uvJBA4LCb9dGekEAk2zKbujGRQG2oSAY155FABTJ3tvfrkEDC1t+5dXiQQLu+lgZh/o9AINoSnRbTj0DRTp9vLNKPQIfny3Bf/49ArHpJmTZgkEDV0GFhZHSQQFEe274ANpBAWXYATE2Fj0AiA2uXxwmQQAYbCWNK9pBA4miV5NwmkUDLfAwd3iaRQPH0ejsk/5BAUyOMnL6tkECwaRLTcFiQQKaMaBIcJ5BALotQaRE4kEDzKPKE44eQQMY0VZLFpJBAFZuEGi73kEBXD8zZ8e2QQLUqBoQx7JBA/DZP+Sb0kECosZUanb6QQCh9xOdYl5BAlGsbOaCukED+9M0/yfeQQLcz6wE+NZFAOFVy98LLkECmlBC1s3iQQDR5GmS1HZFANjf3ClkskUCS5V9tU6GQQLS1DeHTEJBArDMOHeFkj0DSKN090RiQQC/NAPQ2Z5BAZH33BIkBkEDACLKVCUGQQN8dllJgTY9AYZtgG+4LkED7YUpPuy+QQP6T7M5VMJBAt9NzeTyAj0Ch2tuGYH+PQOybjUokto9Apvgd2tNikEDlnW25wP6PQJhkXq1KIpBA/4if1qvXj0ATn2mpldiPQJIZucJtMJBAetvLLEP7j0DUhsrZlaiQQMadJBZBo5BAINal+tEtkEAXU4N8XByQQLU++bnXEpBAc0u2OzOhj0CafPdpfrOPQE8WtPVniI9AyNwZlYYIkEBLJxHoPJSQQLv6lqV2SZBAtoyH7yEgkEBlRs8FimiQQPstsQHYlpBAxghLPO8WkECjAMs5QLaPQKmXTNlXno9A"
         },
         "type": "scatter",
         "xaxis": "x",
         "yaxis": "y"
        },
        {
         "line": {
          "color": "purple",
          "width": 2
         },
         "mode": "lines",
         "name": "Portfolio Value",
         "x": {
          "dtype": "f8",
          "bdata": "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"
         },
         "y": {
          "dtype": "f8",
          "bdata": "AAAAAAAA8D8AAAAAAADwPwAAAAAAAPA/AAAAAAAA8D8AAAAAAADwPwAAAAAAAPA/AAAAAAAA8D8AAAAAAADwPwAAAAAAAPA/AAAAAAAA8D8AAAAAAADwPwAAAAAAAPA/AAAAAAAA8D8AAAAAAADwPwAAAAAAAPA/AAAAAAAA8D8AAAAAAADwPwAAAAAAAPA/AAAAAAAA8D8AAAAAAADwPwAAAAAAAPA/AAAAAAAA8D8AAAAAAADwPwAAAAAAAPA/AAAAAAAA8D8AAAAAAADwPwAAAAAAAPA/AAAAAAAA8D8AAAAAAADwPwAAAAAAAPA/AAAAAAAA8D8AAAAAAADwPwAAAAAAAPA/AAAAAAAA8D8AAAAAAADwPwAAAAAAAPA/AAAAAAAA8D8AAAAAAADwPwAAAAAAAPA/AAAAAAAA8D8AAAAAAADwPwAAAAAAAPA/AAAAAAAA8D8AAAAAAADwPwAAAAAAAPA/AAAAAAAA8D8AAAAAAADwPwAAAAAAAPA/AAAAAAAA8D8AAAAAAADwPwAAAAAAAPA/AAAAAAAA8D8AAAAAAADwPwAAAAAAAPA/AAAAAAAA8D8AAAAAAADwPwAAAAAAAPA/AAAAAAAA8D8AAAAAAADwPwAAAAAAAPA/AAAAAAAA8D8AAAAAAADwPwAAAAAAAPA/AAAAAAAA8D8AAAAAAADwPwAAAAAAAPA/AAAAAAAA8D8AAAAAAADwPwAAAAAAAPA/AAAAAAAA8D8AAAAAAADwPwAAAAAAAPA/AAAAAAAA8D8AAAAAAADwPwAAAAAAAPA/AAAAAAAA8D8AAAAAAADwPwAAAAAAAPA/AAAAAAAA8D8AAAAAAADwPwAAAAAAAPA/AAAAAAAA8D8AAAAAAADwPwAAAAAAAPA/AAAAAAAA8D8AAAAAAADwPwAAAAAAAPA/AAAAAAAA8D8AAAAAAADwPwAAAAAAAPA/AAAAAAAA8D8AAAAAAADwPwAAAAAAAPA/AAAAAAAA8D8AAAAAAADwPwAAAAAAAPA/AAAAAAAA8D8AAAAAAADwPwAAAAAAAPA/AAAAAAAA8D8AAAAAAADwPwAAAAAAAPA/AAAAAAAA8D8AAAAAAADwPwAAAAAAAPA/AAAAAAAA8D8AAAAAAADwPwAAAAAAAPA/AAAAAAAA8D8AAAAAAADwP++InV2MQ/I/74idXYxD8j/viJ1djEPyP++InV2MQ/I/74idXYxD8j/viJ1djEPyP++InV2MQ/I/74idXYxD8j/viJ1djEPyP++InV2MQ/I/74idXYxD8j/viJ1djEPyP++InV2MQ/I/74idXYxD8j/viJ1djEPyP++InV2MQ/I/74idXYxD8j/viJ1djEPyP++InV2MQ/I/74idXYxD8j/viJ1djEPyP++InV2MQ/I/74idXYxD8j/viJ1djEPyP++InV2MQ/I/74idXYxD8j/viJ1djEPyP++InV2MQ/I/74idXYxD8j/viJ1djEPyP++InV2MQ/I/74idXYxD8j/viJ1djEPyP++InV2MQ/I/74idXYxD8j/viJ1djEPyP++InV2MQ/I/74idXYxD8j/viJ1djEPyP++InV2MQ/I/74idXYxD8j/viJ1djEPyP++InV2MQ/I/74idXYxD8j9CaZ5Oo9n0P0Jpnk6j2fQ/QmmeTqPZ9D9CaZ5Oo9n0P0Jpnk6j2fQ/QmmeTqPZ9D9CaZ5Oo9n0P0Jpnk6j2fQ/QmmeTqPZ9D9CaZ5Oo9n0P0Jpnk6j2fQ/QmmeTqPZ9D9CaZ5Oo9n0P0Jpnk6j2fQ/QmmeTqPZ9D9CaZ5Oo9n0P0Jpnk6j2fQ/QmmeTqPZ9D9CaZ5Oo9n0P0Jpnk6j2fQ/QmmeTqPZ9D9CaZ5Oo9n0P0Jpnk6j2fQ/QmmeTqPZ9D9CaZ5Oo9n0P0Jpnk6j2fQ/QmmeTqPZ9D9CaZ5Oo9n0P0Jpnk6j2fQ/QmmeTqPZ9D9CaZ5Oo9n0P0Jpnk6j2fQ/QmmeTqPZ9D9CaZ5Oo9n0P0Jpnk6j2fQ/QmmeTqPZ9D9CaZ5Oo9n0P0Jpnk6j2fQ/QmmeTqPZ9D9CaZ5Oo9n0P0Jpnk6j2fQ/QmmeTqPZ9D9CaZ5Oo9n0P0Jpnk6j2fQ/QmmeTqPZ9D9CaZ5Oo9n0Pw=="
         },
         "type": "scatter",
         "xaxis": "x2",
         "yaxis": "y2"
        }
       ],
       "layout": {
        "template": {
         "data": {
          "histogram2dcontour": [
           {
            "type": "histogram2dcontour",
            "colorbar": {
             "outlinewidth": 0,
             "ticks": ""
            },
            "colorscale": [
             [
              0,
              "#0d0887"
             ],
             [
              0.1111111111111111,
              "#46039f"
             ],
             [
              0.2222222222222222,
              "#7201a8"
             ],
             [
              0.3333333333333333,
              "#9c179e"
             ],
             [
              0.4444444444444444,
              "#bd3786"
             ],
             [
              0.5555555555555556,
              "#d8576b"
             ],
             [
              0.6666666666666666,
              "#ed7953"
             ],
             [
              0.7777777777777778,
              "#fb9f3a"
             ],
             [
              0.8888888888888888,
              "#fdca26"
             ],
             [
              1,
              "#f0f921"
             ]
            ]
           }
          ],
          "choropleth": [
           {
            "type": "choropleth",
            "colorbar": {
             "outlinewidth": 0,
             "ticks": ""
            }
           }
          ],
          "histogram2d": [
           {
            "type": "histogram2d",
            "colorbar": {
             "outlinewidth": 0,
             "ticks": ""
            },
            "colorscale": [
             [
              0,
              "#0d0887"
             ],
             [
              0.1111111111111111,
              "#46039f"
             ],
             [
              0.2222222222222222,
              "#7201a8"
             ],
             [
              0.3333333333333333,
              "#9c179e"
             ],
             [
              0.4444444444444444,
              "#bd3786"
             ],
             [
              0.5555555555555556,
              "#d8576b"
             ],
             [
              0.6666666666666666,
              "#ed7953"
             ],
             [
              0.7777777777777778,
              "#fb9f3a"
             ],
             [
              0.8888888888888888,
              "#fdca26"
             ],
             [
              1,
              "#f0f921"
             ]
            ]
           }
          ],
          "heatmap": [
           {
            "type": "heatmap",
            "colorbar": {
             "outlinewidth": 0,
             "ticks": ""
            },
            "colorscale": [
             [
              0,
              "#0d0887"
             ],
             [
              0.1111111111111111,
              "#46039f"
             ],
             [
              0.2222222222222222,
              "#7201a8"
             ],
             [
              0.3333333333333333,
              "#9c179e"
             ],
             [
              0.4444444444444444,
              "#bd3786"
             ],
             [
              0.5555555555555556,
              "#d8576b"
             ],
             [
              0.6666666666666666,
              "#ed7953"
             ],
             [
              0.7777777777777778,
              "#fb9f3a"
             ],
             [
              0.8888888888888888,
              "#fdca26"
             ],
             [
              1,
              "#f0f921"
             ]
            ]
           }
          ],
          "contourcarpet": [
           {
            "type": "contourcarpet",
            "colorbar": {
             "outlinewidth": 0,
             "ticks": ""
            }
           }
          ],
          "contour": [
           {
            "type": "contour",
            "colorbar": {
             "outlinewidth": 0,
             "ticks": ""
            },
            "colorscale": [
             [
              0,
              "#0d0887"
             ],
             [
              0.1111111111111111,
              "#46039f"
             ],
             [
              0.2222222222222222,
              "#7201a8"
             ],
             [
              0.3333333333333333,
              "#9c179e"
             ],
             [
              0.4444444444444444,
              "#bd3786"
             ],
             [
              0.5555555555555556,
              "#d8576b"
             ],
             [
              0.6666666666666666,
              "#ed7953"
             ],
             [
              0.7777777777777778,
              "#fb9f3a"
             ],
             [
              0.8888888888888888,
              "#fdca26"
             ],
             [
              1,
              "#f0f921"
             ]
            ]
           }
          ],
          "surface": [
           {
            "type": "surface",
            "colorbar": {
             "outlinewidth": 0,
             "ticks": ""
            },
            "colorscale": [
             [
              0,
              "#0d0887"
             ],
             [
              0.1111111111111111,
              "#46039f"
             ],
             [
              0.2222222222222222,
              "#7201a8"
             ],
             [
              0.3333333333333333,
              "#9c179e"
             ],
             [
              0.4444444444444444,
              "#bd3786"
             ],
             [
              0.5555555555555556,
              "#d8576b"
             ],
             [
              0.6666666666666666,
              "#ed7953"
             ],
             [
              0.7777777777777778,
              "#fb9f3a"
             ],
             [
              0.8888888888888888,
              "#fdca26"
             ],
             [
              1,
              "#f0f921"
             ]
            ]
           }
          ],
          "mesh3d": [
           {
            "type": "mesh3d",
            "colorbar": {
             "outlinewidth": 0,
             "ticks": ""
            }
           }
          ],
          "scatter": [
           {
            "marker": {
             "line": {
              "color": "#283442"
             }
            },
            "type": "scatter"
           }
          ],
          "parcoords": [
           {
            "type": "parcoords",
            "line": {
             "colorbar": {
              "outlinewidth": 0,
              "ticks": ""
             }
            }
           }
          ],
          "scatterpolargl": [
           {
            "type": "scatterpolargl",
            "marker": {
             "colorbar": {
              "outlinewidth": 0,
              "ticks": ""
             }
            }
           }
          ],
          "bar": [
           {
            "error_x": {
             "color": "#f2f5fa"
            },
            "error_y": {
             "color": "#f2f5fa"
            },
            "marker": {
             "line": {
              "color": "rgb(17,17,17)",
              "width": 0.5
             },
             "pattern": {
              "fillmode": "overlay",
              "size": 10,
              "solidity": 0.2
             }
            },
            "type": "bar"
           }
          ],
          "scattergeo": [
           {
            "type": "scattergeo",
            "marker": {
             "colorbar": {
              "outlinewidth": 0,
              "ticks": ""
             }
            }
           }
          ],
          "scatterpolar": [
           {
            "type": "scatterpolar",
            "marker": {
             "colorbar": {
              "outlinewidth": 0,
              "ticks": ""
             }
            }
           }
          ],
          "histogram": [
           {
            "marker": {
             "pattern": {
              "fillmode": "overlay",
              "size": 10,
              "solidity": 0.2
             }
            },
            "type": "histogram"
           }
          ],
          "scattergl": [
           {
            "marker": {
             "line": {
              "color": "#283442"
             }
            },
            "type": "scattergl"
           }
          ],
          "scatter3d": [
           {
            "type": "scatter3d",
            "line": {
             "colorbar": {
              "outlinewidth": 0,
              "ticks": ""
             }
            },
            "marker": {
             "colorbar": {
              "outlinewidth": 0,
              "ticks": ""
             }
            }
           }
          ],
          "scattermap": [
           {
            "type": "scattermap",
            "marker": {
             "colorbar": {
              "outlinewidth": 0,
              "ticks": ""
             }
            }
           }
          ],
          "scattermapbox": [
           {
            "type": "scattermapbox",
            "marker": {
             "colorbar": {
              "outlinewidth": 0,
              "ticks": ""
             }
            }
           }
          ],
          "scatterternary": [
           {
            "type": "scatterternary",
            "marker": {
             "colorbar": {
              "outlinewidth": 0,
              "ticks": ""
             }
            }
           }
          ],
          "scattercarpet": [
           {
            "type": "scattercarpet",
            "marker": {
             "colorbar": {
              "outlinewidth": 0,
              "ticks": ""
             }
            }
           }
          ],
          "carpet": [
           {
            "aaxis": {
             "endlinecolor": "#A2B1C6",
             "gridcolor": "#506784",
             "linecolor": "#506784",
             "minorgridcolor": "#506784",
             "startlinecolor": "#A2B1C6"
            },
            "baxis": {
             "endlinecolor": "#A2B1C6",
             "gridcolor": "#506784",
             "linecolor": "#506784",
             "minorgridcolor": "#506784",
             "startlinecolor": "#A2B1C6"
            },
            "type": "carpet"
           }
          ],
          "table": [
           {
            "cells": {
             "fill": {
              "color": "#506784"
             },
             "line": {
              "color": "rgb(17,17,17)"
             }
            },
            "header": {
             "fill": {
              "color": "#2a3f5f"
             },
             "line": {
              "color": "rgb(17,17,17)"
             }
            },
            "type": "table"
           }
          ],
          "barpolar": [
           {
            "marker": {
             "line": {
              "color": "rgb(17,17,17)",
              "width": 0.5
             },
             "pattern": {
              "fillmode": "overlay",
              "size": 10,
              "solidity": 0.2
             }
            },
            "type": "barpolar"
           }
          ],
          "pie": [
           {
            "automargin": true,
            "type": "pie"
           }
          ]
         },
         "layout": {
          "autotypenumbers": "strict",
          "colorway": [
           "#636efa",
           "#EF553B",
           "#00cc96",
           "#ab63fa",
           "#FFA15A",
           "#19d3f3",
           "#FF6692",
           "#B6E880",
           "#FF97FF",
           "#FECB52"
          ],
          "font": {
           "color": "#f2f5fa"
          },
          "hovermode": "closest",
          "hoverlabel": {
           "align": "left"
          },
          "paper_bgcolor": "rgb(17,17,17)",
          "plot_bgcolor": "rgb(17,17,17)",
          "polar": {
           "bgcolor": "rgb(17,17,17)",
           "angularaxis": {
            "gridcolor": "#506784",
            "linecolor": "#506784",
            "ticks": ""
           },
           "radialaxis": {
            "gridcolor": "#506784",
            "linecolor": "#506784",
            "ticks": ""
           }
          },
          "ternary": {
           "bgcolor": "rgb(17,17,17)",
           "aaxis": {
            "gridcolor": "#506784",
            "linecolor": "#506784",
            "ticks": ""
           },
           "baxis": {
            "gridcolor": "#506784",
            "linecolor": "#506784",
            "ticks": ""
           },
           "caxis": {
            "gridcolor": "#506784",
            "linecolor": "#506784",
            "ticks": ""
           }
          },
          "coloraxis": {
           "colorbar": {
            "outlinewidth": 0,
            "ticks": ""
           }
          },
          "colorscale": {
           "sequential": [
            [
             0,
             "#0d0887"
            ],
            [
             0.1111111111111111,
             "#46039f"
            ],
            [
             0.2222222222222222,
             "#7201a8"
            ],
            [
             0.3333333333333333,
             "#9c179e"
            ],
            [
             0.4444444444444444,
             "#bd3786"
            ],
            [
             0.5555555555555556,
             "#d8576b"
            ],
            [
             0.6666666666666666,
             "#ed7953"
            ],
            [
             0.7777777777777778,
             "#fb9f3a"
            ],
            [
             0.8888888888888888,
             "#fdca26"
            ],
            [
             1,
             "#f0f921"
            ]
           ],
           "sequentialminus": [
            [
             0,
             "#0d0887"
            ],
            [
             0.1111111111111111,
             "#46039f"
            ],
            [
             0.2222222222222222,
             "#7201a8"
            ],
            [
             0.3333333333333333,
             "#9c179e"
            ],
            [
             0.4444444444444444,
             "#bd3786"
            ],
            [
             0.5555555555555556,
             "#d8576b"
            ],
            [
             0.6666666666666666,
             "#ed7953"
            ],
            [
             0.7777777777777778,
             "#fb9f3a"
            ],
            [
             0.8888888888888888,
             "#fdca26"
            ],
            [
             1,
             "#f0f921"
            ]
           ],
           "diverging": [
            [
             0,
             "#8e0152"
            ],
            [
             0.1,
             "#c51b7d"
            ],
            [
             0.2,
             "#de77ae"
            ],
            [
             0.3,
             "#f1b6da"
            ],
            [
             0.4,
             "#fde0ef"
            ],
            [
             0.5,
             "#f7f7f7"
            ],
            [
             0.6,
             "#e6f5d0"
            ],
            [
             0.7,
             "#b8e186"
            ],
            [
             0.8,
             "#7fbc41"
            ],
            [
             0.9,
             "#4d9221"
            ],
            [
             1,
             "#276419"
            ]
           ]
          },
          "xaxis": {
           "gridcolor": "#283442",
           "linecolor": "#506784",
           "ticks": "",
           "title": {
            "standoff": 15
           },
           "zerolinecolor": "#283442",
           "automargin": true,
           "zerolinewidth": 2
          },
          "yaxis": {
           "gridcolor": "#283442",
           "linecolor": "#506784",
           "ticks": "",
           "title": {
            "standoff": 15
           },
           "zerolinecolor": "#283442",
           "automargin": true,
           "zerolinewidth": 2
          },
          "scene": {
           "xaxis": {
            "backgroundcolor": "rgb(17,17,17)",
            "gridcolor": "#506784",
            "linecolor": "#506784",
            "showbackground": true,
            "ticks": "",
            "zerolinecolor": "#C8D4E3",
            "gridwidth": 2
           },
           "yaxis": {
            "backgroundcolor": "rgb(17,17,17)",
            "gridcolor": "#506784",
            "linecolor": "#506784",
            "showbackground": true,
            "ticks": "",
            "zerolinecolor": "#C8D4E3",
            "gridwidth": 2
           },
           "zaxis": {
            "backgroundcolor": "rgb(17,17,17)",
            "gridcolor": "#506784",
            "linecolor": "#506784",
            "showbackground": true,
            "ticks": "",
            "zerolinecolor": "#C8D4E3",
            "gridwidth": 2
           }
          },
          "shapedefaults": {
           "line": {
            "color": "#f2f5fa"
           }
          },
          "annotationdefaults": {
           "arrowcolor": "#f2f5fa",
           "arrowhead": 0,
           "arrowwidth": 1
          },
          "geo": {
           "bgcolor": "rgb(17,17,17)",
           "landcolor": "rgb(17,17,17)",
           "subunitcolor": "#506784",
           "showland": true,
           "showlakes": true,
           "lakecolor": "rgb(17,17,17)"
          },
          "title": {
           "x": 0.05
          },
          "updatemenudefaults": {
           "bgcolor": "#506784",
           "borderwidth": 0
          },
          "sliderdefaults": {
           "bgcolor": "#C8D4E3",
           "borderwidth": 1,
           "bordercolor": "rgb(17,17,17)",
           "tickwidth": 0
          },
          "mapbox": {
           "style": "dark"
          }
         }
        },
        "xaxis": {
         "anchor": "y",
         "domain": [
          0,
          1
         ]
        },
        "yaxis": {
         "anchor": "x",
         "domain": [
          0.55,
          1
         ],
         "title": {
          "text": "Price"
         }
        },
        "xaxis2": {
         "anchor": "y2",
         "domain": [
          0,
          1
         ],
         "title": {
          "text": "Time"
         }
        },
        "yaxis2": {
         "anchor": "x2",
         "domain": [
          0,
          0.45
         ],
         "title": {
          "text": "Portfolio Value"
         }
        },
        "annotations": [
         {
          "font": {
           "size": 16
          },
          "showarrow": false,
          "text": "Price Chart with Signals",
          "x": 0.5,
          "xanchor": "center",
          "xref": "paper",
          "y": 1,
          "yanchor": "bottom",
          "yref": "paper"
         },
         {
          "font": {
           "size": 16
          },
          "showarrow": false,
          "text": "Portfolio Value",
          "x": 0.5,
          "xanchor": "center",
          "xref": "paper",
          "y": 0.45,
          "yanchor": "bottom",
          "yref": "paper"
         }
        ],
        "shapes": [
         {
          "line": {
           "color": "gray",
           "dash": "dash"
          },
          "type": "line",
          "x0": 0,
          "x1": 1,
          "xref": "x2 domain",
          "y0": 1,
          "y1": 1,
          "yref": "y2"
         }
        ],
        "title": {
         "text": "Best Evolved Trader - Performance Analysis"
        },
        "height": 700,
        "width": 1000
       },
       "config": {
        "plotlyServerURL": "https://plot.ly"
       }
      }
     },
     "metadata": {},
     "output_type": "display_data"
    }
   ],
   "execution_count": 9
  },
  {
   "cell_type": "markdown",
   "metadata": {},
   "source": [
    "## Performance Comparison: Numba vs Original"
   ]
  },
  {
   "cell_type": "code",
   "metadata": {
    "ExecuteTime": {
     "end_time": "2025-06-16T13:08:16.977850Z",
     "start_time": "2025-06-16T13:08:16.975150Z"
    }
   },
   "source": "# Calculate expected original performance\noriginal_time_per_gen = 68 * 60  # 68 minutes per generation (from previous analysis)\nnumba_time_per_gen = evolution_time / 50\nspeedup = original_time_per_gen / numba_time_per_gen\n\nprint(f\"🚀 PERFORMANCE COMPARISON\")\nprint(f\"=\" * 40)\nprint(f\"📊 Test Configuration:\")\nprint(f\"   • Population: 30 individuals\")\nprint(f\"   • Generations: 50\")\nprint(f\"   • Data points: {len(price_data):,}\")\nprint(f\"\")\nprint(f\"⏱️  Original Implementation (estimated):\")\nprint(f\"   • Time per generation: ~68 minutes\")\nprint(f\"   • Total time: ~{original_time_per_gen * 50 / 3600:.1f} hours\")\nprint(f\"\")\nprint(f\"🚀 Pure Function Numba Implementation (actual):\")\nprint(f\"   • Time per generation: {numba_time_per_gen:.4f} seconds\")\nprint(f\"   • Total time: {evolution_time:.2f} seconds\")\nprint(f\"   • Architecture: Raw Arrays → @njit Functions → Results\")\nprint(f\"   • Zero classes in core computation!\")\nprint(f\"\")\nprint(f\"⚡ SPEEDUP: {speedup:,.0f}x faster!\")\nprint(f\"\")\nprint(f\"🎯 Results:\")\nprint(f\"   • Successfully evolved neural networks\")\nprint(f\"   • {improvement/random_mean*100:.1f}% improvement over random\")\nprint(f\"   • Final portfolio return: {final_return:.2f}%\")\nprint(f\"   • Pure function-based architecture\")\nprint(f\"   • Completed in seconds instead of hours!\")",
   "outputs": [],
   "execution_count": null
  },
  {
   "metadata": {
    "ExecuteTime": {
     "end_time": "2025-06-16T13:08:16.999055Z",
     "start_time": "2025-06-16T13:08:16.997888Z"
    }
   },
   "cell_type": "code",
   "source": "",
   "outputs": [],
   "execution_count": null
  },
  {
   "metadata": {
    "ExecuteTime": {
     "end_time": "2025-06-16T13:08:17.019621Z",
     "start_time": "2025-06-16T13:08:17.018411Z"
    }
   },
   "cell_type": "code",
   "source": "",
   "outputs": [],
   "execution_count": null
  }
 ],
 "metadata": {
  "kernelspec": {
   "display_name": "Python 3",
   "language": "python",
   "name": "python3"
  },
  "language_info": {
   "codemirror_mode": {
    "name": "ipython",
    "version": 3
   },
   "file_extension": ".py",
   "mimetype": "text/x-python",
   "name": "python",
   "nbconvert_exporter": "python",
   "pygments_lexer": "ipython3",
   "version": "3.13.0"
  }
 },
 "nbformat": 4,
 "nbformat_minor": 4
}
